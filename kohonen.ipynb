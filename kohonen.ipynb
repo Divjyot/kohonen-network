{
 "cells": [
  {
   "cell_type": "markdown",
   "metadata": {},
   "source": [
    "# Self Organising Map Challenge\n",
    "\n",
    "## The Kohonen Network\n",
    "\n",
    "The Kohonen Self Organizing Map (SOM) provides a data visualization technique which helps to understand high dimensional data by reducing the dimensions of data to a map. SOM also represents clustering concept by grouping similar data together.\n",
    "\n",
    "Unlike other learning technique in neural networks, training a SOM requires no target vector. A SOM learns to classify the training data without any external supervision.\n",
    "\n",
    "![Network](http://www.pitt.edu/~is2470pb/Spring05/FinalProjects/Group1a/tutorial/kohonen1.gif)\n",
    "\n",
    "### Structure\n",
    "A network has a width and a height that descibes the grid of nodes.  For example, the grid may be 4x4, and so there would be 16 nodes.\n",
    "\n",
    "Each node has a weight for each value in the input vector.  A weight is simply a float value that the node multiplies the input value by to determine how influential it is (see below)\n",
    "\n",
    "Each node has a set of weights that match the size of the input vector.  For example, if the input vector has 10 elements, each node would have 10 weights.\n",
    "\n",
    "### Training \n",
    "To train the network\n",
    "\n",
    "1. Each node's weights are initialized.\n",
    "2. We enumerate through the training data for some number of iterations (repeating if necessary).  The current value we are training against will be referred to as the `current input vector`\n",
    "3. Every node is examined to calculate which one's weights are most like the input vector. The winning node is commonly known as the Best Matching Unit (BMU).\n",
    "4. The radius of the neighbourhood of the BMU is now calculated. This is a value that starts large, typically set to the 'radius' of the lattice,  but diminishes each time-step. Any nodes found within this radius are deemed to be inside the BMU's neighbourhood.\n",
    "5. Each neighbouring node's (the nodes found in step 4) weights are adjusted to make them more like the input vector. The closer a node is to the BMU, the more its weights get altered.\n",
    "6. Go to step 2 until we've completed N iterations.\n",
    "    \n",
    "\n",
    "### Calculating the Best Matching Unit (BMU)\n",
    "\n",
    "To determine the best matching unit, one method is to iterate through all the nodes and calculate the Euclidean distance between each node's weight vector and the current input vector. The node with a weight vector closest to the input vector is tagged as the BMU.\n",
    "\n",
    "The Euclidean distance $\\mathsf{distance}_{i}$ (from the input vector $V$ to the $i$th node's weights $W_i$)is given as (using Pythagoras):\n",
    "\n",
    "$$ \\mathsf{distance}_{i}=\\sqrt{\\sum_{k=0}^{k=n}(V_k - W_{i_k})^2}$$\n",
    "\n",
    "where V is the current input vector and $W_i$ is the node's weight vector.  $n$ is the size of the input & weight vector.\n",
    "\n",
    "*Note*: $V$ and $W$ are vectors.  $V$ is the input vector, and $W_i$ is the weight vector of the $i$th node.  $V_k$ and $W_{i_k}$ represent the $k$'th value within those vectors.  \n",
    "\n",
    "The BMU is the node with the minimal distance for the current input vector\n",
    "\n",
    "### Calculating the Neighbourhood Radius\n",
    "\n",
    "The next step is to calculate which of the other nodes are within the BMU's neighbourhood. All these nodes will have their weight vectors altered.\n",
    "\n",
    "First we calculate what the radius of the neighbourhood should be and then use Pythagoras to determine if each node is within the radial distance or not.\n",
    "\n",
    "A unique feature of the Kohonen learning algorithm is that the area of the neighbourhood shrinks over time. To do this we use the exponential decay function:\n",
    "\n",
    "Given a desired number of training iterations $n$:\n",
    "$$n_{\\mathsf{max iterations}} = 100$$\n",
    "\n",
    "Calculate the radius $\\sigma_t$ at iteration number $t$:\n",
    "\n",
    "$$\\sigma_t = \\sigma_0 \\exp\\left(- \\frac{t}{\\lambda} \\right) \\qquad t = 1,2,3,4... $$\n",
    "\n",
    "Where $\\sigma_0$ denotes the neighbourhood radius at iteration $t=0$, $t$ is the current iteration. We define $\\sigma_0$ (the initial radius) and $\\lambda$ (the time constant) as below:\n",
    "\n",
    "$$\\sigma_0 = \\frac{\\max(width,height)}{2} \\qquad \\lambda = \\frac{n_{\\mathsf{max iterations}}}{\\log(\\sigma_0)} $$\n",
    "\n",
    "Where $width$ & $height$ are the width and height of the grid.\n",
    "\n",
    "### Calculating the Learning Rate\n",
    "\n",
    "We define the initial leanring rate $\\alpha_0$ at iteration $t = 0$ as:\n",
    "$$\\alpha_0 = 0.1$$\n",
    "\n",
    "So, we can calculate the learning rate at a given iteration t as:\n",
    "\n",
    "$$\\alpha_t = \\alpha_0 \\exp \\left(- \\frac{t}{\\lambda} \\right) $$\n",
    "\n",
    "where $t$ is the iteration number, $\\lambda$ is the time constant (calculated above)\n",
    "        \n",
    "### Calculating the Influence\n",
    "\n",
    "As well as the learning rate, we need to calculate the influence $\\theta_t$ of the learning/training at a given iteration $t$.  \n",
    "\n",
    "So for each node, we need to caclulate the euclidean distance $d_i$ from the BMU to that node.  Similar to when we calculate the distance to find the BMU, we use Pythagoras.  The current ($i$th) node's x position is given by $x(W_i)$, and the BMU's x position is, likewise, given by $x(Z)$.  Similarly, $y()$ returns the y position of a node.\n",
    "\n",
    "$$ d_{i}=\\sqrt{(x(W_i) - x(Z))^2 + (y(W_i) - y(Z))^2} $$\n",
    "\n",
    "Then, the influence decays over time according to:\n",
    "\n",
    "$$\\theta_t = \\exp \\left( - \\frac{d_{i}^2}{2\\sigma_t^2} \\right) $$\n",
    "\n",
    "Where $\\sigma_t$ is the neighbourhood radius at iteration $t$ as calculated above. \n",
    "\n",
    "Note: You will need to come up with an approach to x() and y().\n",
    "\n",
    "\n",
    "### Updating the Weights\n",
    "\n",
    "To update the weights of a given node, we use:\n",
    "\n",
    "$$W_{i_{t+1}} = W_{i_t} + \\alpha_t \\theta_t (V_t - W_{i_t})$$\n",
    "        \n",
    "So $W_{i_{t+1}}$ is the new value of the weight for the $i$th node, $V_t$ is the current value of the training data, $W_{i_t}$ is the current weight and $\\alpha_t$ and $\\theta_t$ are the learning rate and influence calculated above.\n",
    "\n",
    "*Note*: the $W$ and $V$ are vectors "
   ]
  },
  {
   "cell_type": "markdown",
   "metadata": {},
   "source": [
    "## Challenge\n",
    "\n",
    "In this challenge, you need to implement a SOM such that it can categorise a set of random 3-dimensional colours.  The output should be an image of the organised data.  \n",
    "\n",
    "### Expectations and Criteria\n",
    "- You are expected to detail your decisions & thinking in comments\n",
    "- You may use any language you like (although the examples given below are using Python)\n",
    "- Avoid using too many libraries that would do too much of the work for you. For example, in Python a good approach would be to use only functions from `numpy` (together with in-built libs if needed)\n",
    "- Try and make your code as efficient as possible. Feel free to deviate from a literal interpretation of the instructions given under the **Training** heading above in the interest of code efficiency\n",
    "- Consider the best way to structure your code and code base for later use by other developers or in anticipation of productionisation (you don't need to use Jupyter Notebook if it doesn't fit)\n",
    "- Include any tests you may have used (tests not required however)\n",
    "- Package your code into a docker image with a `Dockerfile`\n",
    "- Discuss your approach and process to productionise this application\n",
    "- You can use code below to generate the trainig data of 10 colours:"
   ]
  },
  {
   "cell_type": "markdown",
   "metadata": {},
   "source": [
    "---"
   ]
  },
  {
   "cell_type": "markdown",
   "metadata": {},
   "source": [
    "---"
   ]
  },
  {
   "cell_type": "markdown",
   "metadata": {},
   "source": [
    "## 1. Response"
   ]
  },
  {
   "cell_type": "markdown",
   "metadata": {},
   "source": [
    "#### Project Packaging & Structure\n",
    "\n",
    "\n",
    "<div style='color:#FF4500;'>\n",
    "\n",
    "- ```numpy``` is used as primary library to hold and manipluate data.\n",
    "- ```fastAPI``` is used to package the application and expose ```/train/```, ```/atrain/```, ```/list-of-models/```, ```/download/```, ```/predict/``` endpoints. ```fastAPI``` was chosen due to its high performance and auto tuned for number of CPU cores for handling high request load.\n",
    "- The solution is packaged as a production ready server application & containerised. The solution files reside under ```app/``` folder:    \n",
    "    - `kohonen.py` : <i>file contains ```Kohonen``` that implements the algorithm.</i>\n",
    "    - `main.py` : <i>file act as entry point for ```fastAPI```, where all REST API requests will fall.</i>\n",
    "    - `settings.py` : <i>file contain settings, contant values etc used in the project.</i>\n",
    "    - `utils/utils.py` : <i>file contains helper methods that are used in the project.</i>\n",
    "    - `saved_models/` : <i>folder which (can) contain saved models (weights) post training. Ideally, models/weights could be saved on a blob storage for better scalablity.</i>\n",
    "        - <i>There are already saved grids/model files (.npy) under following names/configurations:</i> \n",
    "            - ```10X10 100N```\n",
    "            - ```10X10 200N```\n",
    "            - ```10X10 500N```\n",
    "            - ```100X100 1000N```\n",
    "    - `exceptions.py` : <i>file implementing kohonen algorithm exceptions.</i>\n",
    "    - `logs/logging.log` : <i>file contains logs that are captured throughout the appplication.</i>\n",
    "    - `api_params` : <i> file contains multiple classes that are responsible for parsing ```fastAPI``` requests (body parameters).</i>\n",
    "    - `app/test.py` : <i> Please look for <a href='app/test.py'>test.py</a> file for triggering tests. Uncomment lines, to run via command line ```python test.py```</i>\n",
    "    - `saved_plots/` : <i>folder to save any plot images (used in test.py) for analysis/code-testing purposes</i>\n",
    "    - `saved_train_inputs/` : <i>folder to save any training data (used in test.py) as .npy file for analysis/code-testing purposes</i>\n",
    "    - `configs/`  : <i>folder contains python package requiements files.</i>\n",
    "        - ```prod.requirements.text``` is used to install requirements when packaging, containerising.\n",
    "        - ```requirements.text``` has to be used to create local envrionment for running, testing the application via command line, jupyter lab etc.\n",
    "            - (Core Libs)\n",
    "                - ```! pip install  numpy==1.20.1```\n",
    "                - ```! pip install  matplotlib==3.3.4```\n",
    "            -  (Packaging/Productioning Libs)\n",
    "                - ```! pip install fastapi==0.63.0```\n",
    "                - ```! pip install aiofiles==0.6.0```\n",
    "                - ```! pip install uvicorn==0.13.4```\n",
    "            -   (For making HTTP requests to running application)\n",
    "                - ```! pip install requests==2.25.1```\n",
    "    - `Dockerfile` : <i>to package this project as REST API</i>\n",
    "        - This is based on ```tiangolo/uvicorn-gunicorn-fastapi:latest``` image which has ```python==3.8.6``` preinstalled.\n",
    "</div>"
   ]
  },
  {
   "cell_type": "markdown",
   "metadata": {},
   "source": [
    "---"
   ]
  },
  {
   "cell_type": "markdown",
   "metadata": {},
   "source": [
    "# Application Packaging"
   ]
  },
  {
   "cell_type": "markdown",
   "metadata": {},
   "source": [
    "<label style='color:#FF4500;'> There are many ways to productionise a machine learning model. Here, I have approached it as a dedicated server (depends on usage and consumption scenarios) using light-weight high performant ```fastAPI``` framework containerised using ```Docker```. Model can also be deployed as ```Cloud function``` for minimising cost.</label>\n",
    "\n",
    "<label style='color:#FF4500;'>Further, the current deployment strategy allows to synchronously as well asynchronously train the model. Async, one can send/submit a traning job to sever, which in response sends a operation-location. This operation-location can be later accessed to retrive model's weights in form of ```.npy``` file. This means one do not wait for the response of your ```train``` request to server. Opposite to that, using synchronous endpoint, you have to wait till server returns the response, thus making it suitable for smaller grid resolution. You will see this is the approach I have taken in demonstrating the use of application seamlessly working with smaller and larger grid resolutions. You will notice that smaller grids such as `10x10` are run `Synchronously` whereas the `100x100` grid is demonstrated using `Asynchronous` approach.\n",
    "</label>"
   ]
  },
  {
   "cell_type": "markdown",
   "metadata": {},
   "source": [
    "# Navigating this notebook"
   ]
  },
  {
   "cell_type": "markdown",
   "metadata": {},
   "source": [
    "This notebook is created to demonstrate the Application Packaging strategy along with show the training results. The following is repeated for all different endpoints of application.\n",
    "- Consuming Endpoint Examples\n",
    "    - endpoint name\n",
    "    - method / cell demonstrating the use of endpoint\n",
    "    - result from calling the endpoint\n",
    "\n",
    "This section examplifies saved models already packaged within the docker image.\n",
    "- Sample Examples\n",
    "    - 10x10 100N\n",
    "    - 10X10 200N\n",
    "    - 10X10 500N\n",
    "    - 100X100 1000N"
   ]
  },
  {
   "cell_type": "markdown",
   "metadata": {},
   "source": [
    "---"
   ]
  },
  {
   "cell_type": "markdown",
   "metadata": {},
   "source": [
    "Build/Running containised (on 8000/your choice port):\n",
    "-----------------------------------------------------\n",
    "1. ```docker build . -t kohonen``` (assuming your current directory is this project's directory)\n",
    "2. ```docker run -d --name kohonen -p 8000:80  kohonen:latest```"
   ]
  },
  {
   "cell_type": "markdown",
   "metadata": {},
   "source": [
    "---"
   ]
  },
  {
   "cell_type": "markdown",
   "metadata": {},
   "source": [
    "Running from source code:\n",
    "------------------------\n",
    "\n",
    "#### As local server:\n",
    "1. ```cd app/```\n",
    "2. ```uvicorn main:app``` (default port is 8000)\n",
    "\n",
    "#### As local via python file:\n",
    "- Look for ```app/test.py``` <a href='app/test.py'>test.py</a>  file\n",
    "- It has sample tests written for running the network over following configurations:\n",
    "    1. 10X10 for 100N\n",
    "    2. 10X10 for 200N\n",
    "    3. 10X10 for 500N\n",
    "    4. 100X100 for 1000N"
   ]
  },
  {
   "cell_type": "markdown",
   "metadata": {},
   "source": [
    "----"
   ]
  },
  {
   "cell_type": "markdown",
   "metadata": {},
   "source": [
    "Productioning approach as REST Service\n",
    "---------------------\n",
    "\n",
    "<h2 style='color:#FF4500;'>Using '/atrain/'</h2>\n",
    "\n",
    "Recommended way is to perform training by performing a POST request at ```/atrain/``` with payload as following:\n",
    "```\n",
    "payload = {\n",
    "    \"grid_shape\" : [10, 10],\n",
    "    \"max_iterations\" : 100,\n",
    "    \"learning_rate\" : 0.1,\n",
    "    \"training_data\" : input_sample.tolist(),\n",
    "    \"training_data_shape\" : input_sample.shape\n",
    "    }\n",
    "```\n",
    "\n",
    "```input_sample``` is ```numpy.array``` what you want to project over grid of shape ```grid_shape``` for dimentiality reduction.\n",
    "\n",
    "The response of that would be a json object that would contain a key called ```operation-location```. The value of that is a unique identifier (or ```model_name```) to name your training job.\n",
    "\n",
    "Once the training has completed, you would be able to download ```model_name``` file (model_name.npy) by performing a GET request at ```/download/{model_name}``` and getting status code of 200 i.e. the model has been trained and saved under ```model_name``` name. The downloaded ```.npy``` file can be therefore consumed for analysis, plotting etc.\n",
    "<label style='color:#FF4500;'>Using ```/atrain/``` is ideal especially when training on over large grids (order of size 100X100 or higher)</label>\n",
    "\n",
    "\n",
    "<h2 style='color:#FF4500;'> Using '/train/' </h2>\n",
    "\n",
    "This is a synchronous way to send a training request and receiving response ONLY after model is trained and saved. The response will be same as of ```/atrain/``` containing ```operation-location``` key and value as trained model's unique identifier. Further you can follow same process to download it and consume it.\n",
    "\n",
    "\n",
    "<h2 style='color:#FF4500;'> Using '/list-of-models/' </h2>\n",
    "\n",
    "Allows you to get list of all preexisting trained model.\n",
    "\n",
    "\n",
    "<h2 style='color:#FF4500;'>Using '/predict/'</h2>\n",
    "\n",
    "Allows to map test input vector to gird nodes i.e. which test input color is closest to which node in the grid. Returns list of `x`, `y` coordinates of grid nodes which can be plotted over grid for visualising & labelling test input using a trained model.\n",
    "\n",
    "\n",
    "<h2 style='color:#FF4500;'>Using '/download/{model_name}/'</h2>\n",
    "\n",
    "This is useful endpoint which works in conjuction with ```/train``` and ```/atrain/``` api to get the trained model file. Additionally, we can build a UI that can facilitate model visualisation post training. I have not gone to the extend of building the UI to visualise the trained grid, however it can be a consumer facing application for clustering high dimentional data such as geographical data etc."
   ]
  },
  {
   "cell_type": "markdown",
   "metadata": {},
   "source": [
    "----"
   ]
  },
  {
   "cell_type": "markdown",
   "metadata": {},
   "source": [
    "Saving Trained Model\n",
    "---------------------\n",
    "All trained models are saved using unique identifier of format ```{d-m-Y_HhMmSs}T_{grid_x}X{grid_y}_{max_iterations}N_{learning_rate}LR``` and as ```.npy``` file under ```saved_models``` folder.\n",
    "For example: ```05-03-2021_23h35m57sT_10X10_500N_0.1LR``` indicates that the model training started at `05th` of `March` `2021` at `23hrs` `35mins` `57seconds` (UTC) on grid of size `10X10` for `500` iterations and initial learning rate of `0.1`"
   ]
  },
  {
   "cell_type": "markdown",
   "metadata": {},
   "source": [
    "---\n",
    "---"
   ]
  },
  {
   "cell_type": "markdown",
   "metadata": {},
   "source": [
    "# Application Endpoints\n",
    "\n",
    "#### Installing required packages"
   ]
  },
  {
   "cell_type": "code",
   "execution_count": 1,
   "metadata": {
    "tags": []
   },
   "outputs": [],
   "source": [
    "# Core Libs\n",
    "# ! pip install  numpy==1.20.1\n",
    "# ! pip install  matplotlib==3.3.4\n",
    "\n",
    "# Package Libs\n",
    "# ! pip install fastapi==0.63.0\n",
    "# ! pip install aiofiles==0.6.0\n",
    "# ! pip install uvicorn==0.13.4\n",
    "\n",
    "# For making HTTP requests to running applicaiton\n",
    "# ! pip install requests==2.25.1"
   ]
  },
  {
   "cell_type": "code",
   "execution_count": 2,
   "metadata": {},
   "outputs": [],
   "source": [
    "# OR via requirements file\n",
    "# 1. cd ```configs/```\n",
    "# 2. run pip install -r prod.requirements.txt"
   ]
  },
  {
   "cell_type": "code",
   "execution_count": 1,
   "metadata": {},
   "outputs": [],
   "source": [
    "import requests as req\n",
    "import numpy as np\n",
    "import matplotlib.pyplot as plt\n",
    "import json"
   ]
  },
  {
   "cell_type": "markdown",
   "metadata": {},
   "source": [
    "### Input Data of Shape (10,3)"
   ]
  },
  {
   "cell_type": "code",
   "execution_count": 2,
   "metadata": {},
   "outputs": [],
   "source": [
    "shape = (10,3)\n",
    "\n",
    "# Sample Data\n",
    "data_sample = np.array(\n",
    "        [[0.09803922, 0.78823529, 0.27058824],\n",
    "       [0.17254902, 0.8745098 , 0.18823529],\n",
    "       [0.82352941, 0.6       , 0.49411765],\n",
    "       [0.83529412, 0.56078431, 0.65098039],\n",
    "       [0.85098039, 0.74509804, 0.54509804],\n",
    "       [0.06666667, 0.3254902 , 0.63529412],\n",
    "       [0.1254902 , 0.56470588, 0.09411765],\n",
    "       [0.82352941, 0.00392157, 0.61176471],\n",
    "       [0.91764706, 0.85882353, 0.70980392],\n",
    "       [0.38039216, 0.68627451, 0.70980392]]\n",
    ")\n",
    "\n",
    "# Random Data\n",
    "# data_sample = np.random.randint(0, 255, size=(shape[0], shape[1])) / 255.0"
   ]
  },
  {
   "cell_type": "code",
   "execution_count": 3,
   "metadata": {
    "tags": []
   },
   "outputs": [],
   "source": [
    "def scatter_input_data(input_data):\n",
    "    \"\"\"\n",
    "    Helper method to scatter list of 3D colors.\n",
    "    \"\"\"\n",
    "    _total = len(input_data)\n",
    "    x = range(_total),\n",
    "    y = np.ones(_total)\n",
    "    plt.scatter(x,y, c=input_data, s=100)"
   ]
  },
  {
   "cell_type": "code",
   "execution_count": 4,
   "metadata": {},
   "outputs": [
    {
     "output_type": "display_data",
     "data": {
      "text/plain": "<Figure size 432x288 with 1 Axes>",
      "image/svg+xml": "<?xml version=\"1.0\" encoding=\"utf-8\" standalone=\"no\"?>\r\n<!DOCTYPE svg PUBLIC \"-//W3C//DTD SVG 1.1//EN\"\r\n  \"http://www.w3.org/Graphics/SVG/1.1/DTD/svg11.dtd\">\r\n<!-- Created with matplotlib (https://matplotlib.org/) -->\r\n<svg height=\"248.518125pt\" version=\"1.1\" viewBox=\"0 0 378.465625 248.518125\" width=\"378.465625pt\" xmlns=\"http://www.w3.org/2000/svg\" xmlns:xlink=\"http://www.w3.org/1999/xlink\">\r\n <metadata>\r\n  <rdf:RDF xmlns:cc=\"http://creativecommons.org/ns#\" xmlns:dc=\"http://purl.org/dc/elements/1.1/\" xmlns:rdf=\"http://www.w3.org/1999/02/22-rdf-syntax-ns#\">\r\n   <cc:Work>\r\n    <dc:type rdf:resource=\"http://purl.org/dc/dcmitype/StillImage\"/>\r\n    <dc:date>2021-04-07T12:30:20.082185</dc:date>\r\n    <dc:format>image/svg+xml</dc:format>\r\n    <dc:creator>\r\n     <cc:Agent>\r\n      <dc:title>Matplotlib v3.3.4, https://matplotlib.org/</dc:title>\r\n     </cc:Agent>\r\n    </dc:creator>\r\n   </cc:Work>\r\n  </rdf:RDF>\r\n </metadata>\r\n <defs>\r\n  <style type=\"text/css\">*{stroke-linecap:butt;stroke-linejoin:round;}</style>\r\n </defs>\r\n <g id=\"figure_1\">\r\n  <g id=\"patch_1\">\r\n   <path d=\"M 0 248.518125 \r\nL 378.465625 248.518125 \r\nL 378.465625 0 \r\nL 0 0 \r\nz\r\n\" style=\"fill:none;\"/>\r\n  </g>\r\n  <g id=\"axes_1\">\r\n   <g id=\"patch_2\">\r\n    <path d=\"M 36.465625 224.64 \r\nL 371.265625 224.64 \r\nL 371.265625 7.2 \r\nL 36.465625 7.2 \r\nz\r\n\" style=\"fill:#ffffff;\"/>\r\n   </g>\r\n   <g id=\"PathCollection_1\">\r\n    <defs>\r\n     <path d=\"M 0 5 \r\nC 1.326016 5 2.597899 4.473168 3.535534 3.535534 \r\nC 4.473168 2.597899 5 1.326016 5 -0 \r\nC 5 -1.326016 4.473168 -2.597899 3.535534 -3.535534 \r\nC 2.597899 -4.473168 1.326016 -5 0 -5 \r\nC -1.326016 -5 -2.597899 -4.473168 -3.535534 -3.535534 \r\nC -4.473168 -2.597899 -5 -1.326016 -5 0 \r\nC -5 1.326016 -4.473168 2.597899 -3.535534 3.535534 \r\nC -2.597899 4.473168 -1.326016 5 0 5 \r\nz\r\n\" id=\"C0_0_e8f069b698\"/>\r\n    </defs>\r\n    <g clip-path=\"url(#pda43488f45)\">\r\n     <use style=\"fill:#19c945;stroke:#19c945;\" x=\"51.683807\" xlink:href=\"#C0_0_e8f069b698\" y=\"115.92\"/>\r\n    </g>\r\n    <g clip-path=\"url(#pda43488f45)\">\r\n     <use style=\"fill:#2cdf30;stroke:#2cdf30;\" x=\"85.501989\" xlink:href=\"#C0_0_e8f069b698\" y=\"115.92\"/>\r\n    </g>\r\n    <g clip-path=\"url(#pda43488f45)\">\r\n     <use style=\"fill:#d2997e;stroke:#d2997e;\" x=\"119.32017\" xlink:href=\"#C0_0_e8f069b698\" y=\"115.92\"/>\r\n    </g>\r\n    <g clip-path=\"url(#pda43488f45)\">\r\n     <use style=\"fill:#d58fa6;stroke:#d58fa6;\" x=\"153.138352\" xlink:href=\"#C0_0_e8f069b698\" y=\"115.92\"/>\r\n    </g>\r\n    <g clip-path=\"url(#pda43488f45)\">\r\n     <use style=\"fill:#d9be8b;stroke:#d9be8b;\" x=\"186.956534\" xlink:href=\"#C0_0_e8f069b698\" y=\"115.92\"/>\r\n    </g>\r\n    <g clip-path=\"url(#pda43488f45)\">\r\n     <use style=\"fill:#1153a2;stroke:#1153a2;\" x=\"220.774716\" xlink:href=\"#C0_0_e8f069b698\" y=\"115.92\"/>\r\n    </g>\r\n    <g clip-path=\"url(#pda43488f45)\">\r\n     <use style=\"fill:#209018;stroke:#209018;\" x=\"254.592898\" xlink:href=\"#C0_0_e8f069b698\" y=\"115.92\"/>\r\n    </g>\r\n    <g clip-path=\"url(#pda43488f45)\">\r\n     <use style=\"fill:#d2019c;stroke:#d2019c;\" x=\"288.41108\" xlink:href=\"#C0_0_e8f069b698\" y=\"115.92\"/>\r\n    </g>\r\n    <g clip-path=\"url(#pda43488f45)\">\r\n     <use style=\"fill:#eadbb5;stroke:#eadbb5;\" x=\"322.229261\" xlink:href=\"#C0_0_e8f069b698\" y=\"115.92\"/>\r\n    </g>\r\n    <g clip-path=\"url(#pda43488f45)\">\r\n     <use style=\"fill:#61afb5;stroke:#61afb5;\" x=\"356.047443\" xlink:href=\"#C0_0_e8f069b698\" y=\"115.92\"/>\r\n    </g>\r\n   </g>\r\n   <g id=\"matplotlib.axis_1\">\r\n    <g id=\"xtick_1\">\r\n     <g id=\"line2d_1\">\r\n      <defs>\r\n       <path d=\"M 0 0 \r\nL 0 3.5 \r\n\" id=\"mfed79e69f1\" style=\"stroke:#000000;stroke-width:0.8;\"/>\r\n      </defs>\r\n      <g>\r\n       <use style=\"stroke:#000000;stroke-width:0.8;\" x=\"51.683807\" xlink:href=\"#mfed79e69f1\" y=\"224.64\"/>\r\n      </g>\r\n     </g>\r\n     <g id=\"text_1\">\r\n      <!-- 0 -->\r\n      <g transform=\"translate(48.502557 239.238438)scale(0.1 -0.1)\">\r\n       <defs>\r\n        <path d=\"M 31.78125 66.40625 \r\nQ 24.171875 66.40625 20.328125 58.90625 \r\nQ 16.5 51.421875 16.5 36.375 \r\nQ 16.5 21.390625 20.328125 13.890625 \r\nQ 24.171875 6.390625 31.78125 6.390625 \r\nQ 39.453125 6.390625 43.28125 13.890625 \r\nQ 47.125 21.390625 47.125 36.375 \r\nQ 47.125 51.421875 43.28125 58.90625 \r\nQ 39.453125 66.40625 31.78125 66.40625 \r\nz\r\nM 31.78125 74.21875 \r\nQ 44.046875 74.21875 50.515625 64.515625 \r\nQ 56.984375 54.828125 56.984375 36.375 \r\nQ 56.984375 17.96875 50.515625 8.265625 \r\nQ 44.046875 -1.421875 31.78125 -1.421875 \r\nQ 19.53125 -1.421875 13.0625 8.265625 \r\nQ 6.59375 17.96875 6.59375 36.375 \r\nQ 6.59375 54.828125 13.0625 64.515625 \r\nQ 19.53125 74.21875 31.78125 74.21875 \r\nz\r\n\" id=\"DejaVuSans-48\"/>\r\n       </defs>\r\n       <use xlink:href=\"#DejaVuSans-48\"/>\r\n      </g>\r\n     </g>\r\n    </g>\r\n    <g id=\"xtick_2\">\r\n     <g id=\"line2d_2\">\r\n      <g>\r\n       <use style=\"stroke:#000000;stroke-width:0.8;\" x=\"119.32017\" xlink:href=\"#mfed79e69f1\" y=\"224.64\"/>\r\n      </g>\r\n     </g>\r\n     <g id=\"text_2\">\r\n      <!-- 2 -->\r\n      <g transform=\"translate(116.13892 239.238438)scale(0.1 -0.1)\">\r\n       <defs>\r\n        <path d=\"M 19.1875 8.296875 \r\nL 53.609375 8.296875 \r\nL 53.609375 0 \r\nL 7.328125 0 \r\nL 7.328125 8.296875 \r\nQ 12.9375 14.109375 22.625 23.890625 \r\nQ 32.328125 33.6875 34.8125 36.53125 \r\nQ 39.546875 41.84375 41.421875 45.53125 \r\nQ 43.3125 49.21875 43.3125 52.78125 \r\nQ 43.3125 58.59375 39.234375 62.25 \r\nQ 35.15625 65.921875 28.609375 65.921875 \r\nQ 23.96875 65.921875 18.8125 64.3125 \r\nQ 13.671875 62.703125 7.8125 59.421875 \r\nL 7.8125 69.390625 \r\nQ 13.765625 71.78125 18.9375 73 \r\nQ 24.125 74.21875 28.421875 74.21875 \r\nQ 39.75 74.21875 46.484375 68.546875 \r\nQ 53.21875 62.890625 53.21875 53.421875 \r\nQ 53.21875 48.921875 51.53125 44.890625 \r\nQ 49.859375 40.875 45.40625 35.40625 \r\nQ 44.1875 33.984375 37.640625 27.21875 \r\nQ 31.109375 20.453125 19.1875 8.296875 \r\nz\r\n\" id=\"DejaVuSans-50\"/>\r\n       </defs>\r\n       <use xlink:href=\"#DejaVuSans-50\"/>\r\n      </g>\r\n     </g>\r\n    </g>\r\n    <g id=\"xtick_3\">\r\n     <g id=\"line2d_3\">\r\n      <g>\r\n       <use style=\"stroke:#000000;stroke-width:0.8;\" x=\"186.956534\" xlink:href=\"#mfed79e69f1\" y=\"224.64\"/>\r\n      </g>\r\n     </g>\r\n     <g id=\"text_3\">\r\n      <!-- 4 -->\r\n      <g transform=\"translate(183.775284 239.238438)scale(0.1 -0.1)\">\r\n       <defs>\r\n        <path d=\"M 37.796875 64.3125 \r\nL 12.890625 25.390625 \r\nL 37.796875 25.390625 \r\nz\r\nM 35.203125 72.90625 \r\nL 47.609375 72.90625 \r\nL 47.609375 25.390625 \r\nL 58.015625 25.390625 \r\nL 58.015625 17.1875 \r\nL 47.609375 17.1875 \r\nL 47.609375 0 \r\nL 37.796875 0 \r\nL 37.796875 17.1875 \r\nL 4.890625 17.1875 \r\nL 4.890625 26.703125 \r\nz\r\n\" id=\"DejaVuSans-52\"/>\r\n       </defs>\r\n       <use xlink:href=\"#DejaVuSans-52\"/>\r\n      </g>\r\n     </g>\r\n    </g>\r\n    <g id=\"xtick_4\">\r\n     <g id=\"line2d_4\">\r\n      <g>\r\n       <use style=\"stroke:#000000;stroke-width:0.8;\" x=\"254.592898\" xlink:href=\"#mfed79e69f1\" y=\"224.64\"/>\r\n      </g>\r\n     </g>\r\n     <g id=\"text_4\">\r\n      <!-- 6 -->\r\n      <g transform=\"translate(251.411648 239.238438)scale(0.1 -0.1)\">\r\n       <defs>\r\n        <path d=\"M 33.015625 40.375 \r\nQ 26.375 40.375 22.484375 35.828125 \r\nQ 18.609375 31.296875 18.609375 23.390625 \r\nQ 18.609375 15.53125 22.484375 10.953125 \r\nQ 26.375 6.390625 33.015625 6.390625 \r\nQ 39.65625 6.390625 43.53125 10.953125 \r\nQ 47.40625 15.53125 47.40625 23.390625 \r\nQ 47.40625 31.296875 43.53125 35.828125 \r\nQ 39.65625 40.375 33.015625 40.375 \r\nz\r\nM 52.59375 71.296875 \r\nL 52.59375 62.3125 \r\nQ 48.875 64.0625 45.09375 64.984375 \r\nQ 41.3125 65.921875 37.59375 65.921875 \r\nQ 27.828125 65.921875 22.671875 59.328125 \r\nQ 17.53125 52.734375 16.796875 39.40625 \r\nQ 19.671875 43.65625 24.015625 45.921875 \r\nQ 28.375 48.1875 33.59375 48.1875 \r\nQ 44.578125 48.1875 50.953125 41.515625 \r\nQ 57.328125 34.859375 57.328125 23.390625 \r\nQ 57.328125 12.15625 50.6875 5.359375 \r\nQ 44.046875 -1.421875 33.015625 -1.421875 \r\nQ 20.359375 -1.421875 13.671875 8.265625 \r\nQ 6.984375 17.96875 6.984375 36.375 \r\nQ 6.984375 53.65625 15.1875 63.9375 \r\nQ 23.390625 74.21875 37.203125 74.21875 \r\nQ 40.921875 74.21875 44.703125 73.484375 \r\nQ 48.484375 72.75 52.59375 71.296875 \r\nz\r\n\" id=\"DejaVuSans-54\"/>\r\n       </defs>\r\n       <use xlink:href=\"#DejaVuSans-54\"/>\r\n      </g>\r\n     </g>\r\n    </g>\r\n    <g id=\"xtick_5\">\r\n     <g id=\"line2d_5\">\r\n      <g>\r\n       <use style=\"stroke:#000000;stroke-width:0.8;\" x=\"322.229261\" xlink:href=\"#mfed79e69f1\" y=\"224.64\"/>\r\n      </g>\r\n     </g>\r\n     <g id=\"text_5\">\r\n      <!-- 8 -->\r\n      <g transform=\"translate(319.048011 239.238438)scale(0.1 -0.1)\">\r\n       <defs>\r\n        <path d=\"M 31.78125 34.625 \r\nQ 24.75 34.625 20.71875 30.859375 \r\nQ 16.703125 27.09375 16.703125 20.515625 \r\nQ 16.703125 13.921875 20.71875 10.15625 \r\nQ 24.75 6.390625 31.78125 6.390625 \r\nQ 38.8125 6.390625 42.859375 10.171875 \r\nQ 46.921875 13.96875 46.921875 20.515625 \r\nQ 46.921875 27.09375 42.890625 30.859375 \r\nQ 38.875 34.625 31.78125 34.625 \r\nz\r\nM 21.921875 38.8125 \r\nQ 15.578125 40.375 12.03125 44.71875 \r\nQ 8.5 49.078125 8.5 55.328125 \r\nQ 8.5 64.0625 14.71875 69.140625 \r\nQ 20.953125 74.21875 31.78125 74.21875 \r\nQ 42.671875 74.21875 48.875 69.140625 \r\nQ 55.078125 64.0625 55.078125 55.328125 \r\nQ 55.078125 49.078125 51.53125 44.71875 \r\nQ 48 40.375 41.703125 38.8125 \r\nQ 48.828125 37.15625 52.796875 32.3125 \r\nQ 56.78125 27.484375 56.78125 20.515625 \r\nQ 56.78125 9.90625 50.3125 4.234375 \r\nQ 43.84375 -1.421875 31.78125 -1.421875 \r\nQ 19.734375 -1.421875 13.25 4.234375 \r\nQ 6.78125 9.90625 6.78125 20.515625 \r\nQ 6.78125 27.484375 10.78125 32.3125 \r\nQ 14.796875 37.15625 21.921875 38.8125 \r\nz\r\nM 18.3125 54.390625 \r\nQ 18.3125 48.734375 21.84375 45.5625 \r\nQ 25.390625 42.390625 31.78125 42.390625 \r\nQ 38.140625 42.390625 41.71875 45.5625 \r\nQ 45.3125 48.734375 45.3125 54.390625 \r\nQ 45.3125 60.0625 41.71875 63.234375 \r\nQ 38.140625 66.40625 31.78125 66.40625 \r\nQ 25.390625 66.40625 21.84375 63.234375 \r\nQ 18.3125 60.0625 18.3125 54.390625 \r\nz\r\n\" id=\"DejaVuSans-56\"/>\r\n       </defs>\r\n       <use xlink:href=\"#DejaVuSans-56\"/>\r\n      </g>\r\n     </g>\r\n    </g>\r\n   </g>\r\n   <g id=\"matplotlib.axis_2\">\r\n    <g id=\"ytick_1\">\r\n     <g id=\"line2d_6\">\r\n      <defs>\r\n       <path d=\"M 0 0 \r\nL -3.5 0 \r\n\" id=\"m66414ca2fd\" style=\"stroke:#000000;stroke-width:0.8;\"/>\r\n      </defs>\r\n      <g>\r\n       <use style=\"stroke:#000000;stroke-width:0.8;\" x=\"36.465625\" xlink:href=\"#m66414ca2fd\" y=\"194.989091\"/>\r\n      </g>\r\n     </g>\r\n     <g id=\"text_6\">\r\n      <!-- 0.96 -->\r\n      <g transform=\"translate(7.2 198.78831)scale(0.1 -0.1)\">\r\n       <defs>\r\n        <path d=\"M 10.6875 12.40625 \r\nL 21 12.40625 \r\nL 21 0 \r\nL 10.6875 0 \r\nz\r\n\" id=\"DejaVuSans-46\"/>\r\n        <path d=\"M 10.984375 1.515625 \r\nL 10.984375 10.5 \r\nQ 14.703125 8.734375 18.5 7.8125 \r\nQ 22.3125 6.890625 25.984375 6.890625 \r\nQ 35.75 6.890625 40.890625 13.453125 \r\nQ 46.046875 20.015625 46.78125 33.40625 \r\nQ 43.953125 29.203125 39.59375 26.953125 \r\nQ 35.25 24.703125 29.984375 24.703125 \r\nQ 19.046875 24.703125 12.671875 31.3125 \r\nQ 6.296875 37.9375 6.296875 49.421875 \r\nQ 6.296875 60.640625 12.9375 67.421875 \r\nQ 19.578125 74.21875 30.609375 74.21875 \r\nQ 43.265625 74.21875 49.921875 64.515625 \r\nQ 56.59375 54.828125 56.59375 36.375 \r\nQ 56.59375 19.140625 48.40625 8.859375 \r\nQ 40.234375 -1.421875 26.421875 -1.421875 \r\nQ 22.703125 -1.421875 18.890625 -0.6875 \r\nQ 15.09375 0.046875 10.984375 1.515625 \r\nz\r\nM 30.609375 32.421875 \r\nQ 37.25 32.421875 41.125 36.953125 \r\nQ 45.015625 41.5 45.015625 49.421875 \r\nQ 45.015625 57.28125 41.125 61.84375 \r\nQ 37.25 66.40625 30.609375 66.40625 \r\nQ 23.96875 66.40625 20.09375 61.84375 \r\nQ 16.21875 57.28125 16.21875 49.421875 \r\nQ 16.21875 41.5 20.09375 36.953125 \r\nQ 23.96875 32.421875 30.609375 32.421875 \r\nz\r\n\" id=\"DejaVuSans-57\"/>\r\n       </defs>\r\n       <use xlink:href=\"#DejaVuSans-48\"/>\r\n       <use x=\"63.623047\" xlink:href=\"#DejaVuSans-46\"/>\r\n       <use x=\"95.410156\" xlink:href=\"#DejaVuSans-57\"/>\r\n       <use x=\"159.033203\" xlink:href=\"#DejaVuSans-54\"/>\r\n      </g>\r\n     </g>\r\n    </g>\r\n    <g id=\"ytick_2\">\r\n     <g id=\"line2d_7\">\r\n      <g>\r\n       <use style=\"stroke:#000000;stroke-width:0.8;\" x=\"36.465625\" xlink:href=\"#m66414ca2fd\" y=\"155.454545\"/>\r\n      </g>\r\n     </g>\r\n     <g id=\"text_7\">\r\n      <!-- 0.98 -->\r\n      <g transform=\"translate(7.2 159.253764)scale(0.1 -0.1)\">\r\n       <use xlink:href=\"#DejaVuSans-48\"/>\r\n       <use x=\"63.623047\" xlink:href=\"#DejaVuSans-46\"/>\r\n       <use x=\"95.410156\" xlink:href=\"#DejaVuSans-57\"/>\r\n       <use x=\"159.033203\" xlink:href=\"#DejaVuSans-56\"/>\r\n      </g>\r\n     </g>\r\n    </g>\r\n    <g id=\"ytick_3\">\r\n     <g id=\"line2d_8\">\r\n      <g>\r\n       <use style=\"stroke:#000000;stroke-width:0.8;\" x=\"36.465625\" xlink:href=\"#m66414ca2fd\" y=\"115.92\"/>\r\n      </g>\r\n     </g>\r\n     <g id=\"text_8\">\r\n      <!-- 1.00 -->\r\n      <g transform=\"translate(7.2 119.719219)scale(0.1 -0.1)\">\r\n       <defs>\r\n        <path d=\"M 12.40625 8.296875 \r\nL 28.515625 8.296875 \r\nL 28.515625 63.921875 \r\nL 10.984375 60.40625 \r\nL 10.984375 69.390625 \r\nL 28.421875 72.90625 \r\nL 38.28125 72.90625 \r\nL 38.28125 8.296875 \r\nL 54.390625 8.296875 \r\nL 54.390625 0 \r\nL 12.40625 0 \r\nz\r\n\" id=\"DejaVuSans-49\"/>\r\n       </defs>\r\n       <use xlink:href=\"#DejaVuSans-49\"/>\r\n       <use x=\"63.623047\" xlink:href=\"#DejaVuSans-46\"/>\r\n       <use x=\"95.410156\" xlink:href=\"#DejaVuSans-48\"/>\r\n       <use x=\"159.033203\" xlink:href=\"#DejaVuSans-48\"/>\r\n      </g>\r\n     </g>\r\n    </g>\r\n    <g id=\"ytick_4\">\r\n     <g id=\"line2d_9\">\r\n      <g>\r\n       <use style=\"stroke:#000000;stroke-width:0.8;\" x=\"36.465625\" xlink:href=\"#m66414ca2fd\" y=\"76.385455\"/>\r\n      </g>\r\n     </g>\r\n     <g id=\"text_9\">\r\n      <!-- 1.02 -->\r\n      <g transform=\"translate(7.2 80.184673)scale(0.1 -0.1)\">\r\n       <use xlink:href=\"#DejaVuSans-49\"/>\r\n       <use x=\"63.623047\" xlink:href=\"#DejaVuSans-46\"/>\r\n       <use x=\"95.410156\" xlink:href=\"#DejaVuSans-48\"/>\r\n       <use x=\"159.033203\" xlink:href=\"#DejaVuSans-50\"/>\r\n      </g>\r\n     </g>\r\n    </g>\r\n    <g id=\"ytick_5\">\r\n     <g id=\"line2d_10\">\r\n      <g>\r\n       <use style=\"stroke:#000000;stroke-width:0.8;\" x=\"36.465625\" xlink:href=\"#m66414ca2fd\" y=\"36.850909\"/>\r\n      </g>\r\n     </g>\r\n     <g id=\"text_10\">\r\n      <!-- 1.04 -->\r\n      <g transform=\"translate(7.2 40.650128)scale(0.1 -0.1)\">\r\n       <use xlink:href=\"#DejaVuSans-49\"/>\r\n       <use x=\"63.623047\" xlink:href=\"#DejaVuSans-46\"/>\r\n       <use x=\"95.410156\" xlink:href=\"#DejaVuSans-48\"/>\r\n       <use x=\"159.033203\" xlink:href=\"#DejaVuSans-52\"/>\r\n      </g>\r\n     </g>\r\n    </g>\r\n   </g>\r\n   <g id=\"patch_3\">\r\n    <path d=\"M 36.465625 224.64 \r\nL 36.465625 7.2 \r\n\" style=\"fill:none;stroke:#000000;stroke-linecap:square;stroke-linejoin:miter;stroke-width:0.8;\"/>\r\n   </g>\r\n   <g id=\"patch_4\">\r\n    <path d=\"M 371.265625 224.64 \r\nL 371.265625 7.2 \r\n\" style=\"fill:none;stroke:#000000;stroke-linecap:square;stroke-linejoin:miter;stroke-width:0.8;\"/>\r\n   </g>\r\n   <g id=\"patch_5\">\r\n    <path d=\"M 36.465625 224.64 \r\nL 371.265625 224.64 \r\n\" style=\"fill:none;stroke:#000000;stroke-linecap:square;stroke-linejoin:miter;stroke-width:0.8;\"/>\r\n   </g>\r\n   <g id=\"patch_6\">\r\n    <path d=\"M 36.465625 7.2 \r\nL 371.265625 7.2 \r\n\" style=\"fill:none;stroke:#000000;stroke-linecap:square;stroke-linejoin:miter;stroke-width:0.8;\"/>\r\n   </g>\r\n  </g>\r\n </g>\r\n <defs>\r\n  <clipPath id=\"pda43488f45\">\r\n   <rect height=\"217.44\" width=\"334.8\" x=\"36.465625\" y=\"7.2\"/>\r\n  </clipPath>\r\n </defs>\r\n</svg>\r\n",
      "image/png": "[encoded data removed]"
     },
     "metadata": {
      "needs_background": "light"
     }
    }
   ],
   "source": [
    "scatter_input_data(data_sample)"
   ]
  },
  {
   "cell_type": "code",
   "execution_count": 95,
   "metadata": {},
   "outputs": [],
   "source": [
    "# Saves training input data\n",
    "# np.save(\"temp/data_sample.npy\", data_sample)"
   ]
  },
  {
   "cell_type": "markdown",
   "metadata": {},
   "source": [
    "Above uses ```temp/``` folder to save training sample"
   ]
  },
  {
   "cell_type": "markdown",
   "metadata": {},
   "source": [
    "---\n",
    "---"
   ]
  },
  {
   "cell_type": "markdown",
   "metadata": {},
   "source": [
    "# Consuming Endpoints (Examples)"
   ]
  },
  {
   "cell_type": "code",
   "execution_count": 5,
   "metadata": {},
   "outputs": [],
   "source": [
    "port = 8000 # Set your port here, if you are running Docker or Uvicorn on different port\n",
    "# endpoint = f\"http://localhost:{port}\" # Docker\n",
    "endpoint = f\"http://127.0.0.1:{port}\" # Uvicorn"
   ]
  },
  {
   "cell_type": "markdown",
   "metadata": {},
   "source": [
    "## GET /download/{model_name}/ : Download trained model\n",
    "This is useful endpoint which works in conjuction with ```/train``` and ```/atrain/``` api to get the trained model.\n",
    "Additionally, we can build a UI that can facilitate model visualisation post training. I have not gone to the extend of building the UI to visualise the trained grid, however it can be a consumer facing application for clustering high dimentional data such as geographical data etc."
   ]
  },
  {
   "cell_type": "markdown",
   "metadata": {},
   "source": [
    "#### Save downloaded model and view grid\n",
    "This will examplfied later when consuming ```/train/``` and ```/atrain/```"
   ]
  },
  {
   "cell_type": "code",
   "execution_count": 6,
   "metadata": {},
   "outputs": [],
   "source": [
    "def download(model_name:str)->bytes:\n",
    "    \"\"\"\n",
    "    Examplifies how to download a model (weights) via name.\n",
    "    Do not use .npy extension in the name.\n",
    "    \n",
    "    Parameters\n",
    "    ----------\n",
    "    model_name : str\n",
    "        name of model / operation-location returned by /train/, /atrain/ \n",
    "    \n",
    "    Returns\n",
    "    -------\n",
    "    file bytes : bytes\n",
    "        Downloads the model file (.npy)\n",
    "    \n",
    "    Example\n",
    "    --------\n",
    "        model_name = '10x10 100N' instead of '10x10 100N.npy'\n",
    "        file_bytes = download(\"10x10 100N\")\n",
    "    \n",
    "    \"\"\"\n",
    "    download_endpoint = f\"{endpoint}/download/{model_name}/\"\n",
    "    try:\n",
    "        response = req.get(url=download_endpoint)\n",
    "        if response.status_code == 200:\n",
    "            return response.content\n",
    "    except:\n",
    "        print(\"Could not download model file. Response content: \", response.content)\n",
    "    print(f\"Status code: {response.status_code}\")\n",
    "    return None"
   ]
  },
  {
   "cell_type": "code",
   "execution_count": 7,
   "metadata": {
    "tags": []
   },
   "outputs": [],
   "source": [
    "def load_weights(file_bytes):\n",
    "    \"\"\"\n",
    "    Helper method to save the downloaded model file bytes\n",
    "    into a temporary sample .npy file at 'temp/' folder\n",
    "    \n",
    "    Parameters\n",
    "    ----------\n",
    "    file_bytes : bytes\n",
    "        file bytes of model wieghts downloaded using 'def download' above.\n",
    "        \n",
    "    Returns\n",
    "    -------\n",
    "    weights : numpy.array \n",
    "    \n",
    "    \"\"\"\n",
    "    temp_path = \"temp/sample_weights.npy\"\n",
    "    with open(temp_path, 'wb') as f:\n",
    "        f.write(file_bytes)\n",
    "    return np.load(temp_path)"
   ]
  },
  {
   "cell_type": "code",
   "execution_count": 8,
   "metadata": {},
   "outputs": [],
   "source": [
    "def view(file_bytes):\n",
    "    \"\"\"\n",
    "    For simplicity 'sample.npy' is same name for downloading the temporary file,\n",
    "    So, immediately after downloading the model file, you can use this to view/plot.\n",
    "    \n",
    "    Parameters\n",
    "    ----------\n",
    "    file_bytes : \n",
    "\n",
    "    Example\n",
    "    -------\n",
    "    response = response from /train/ , /atrain/ ...\n",
    "    model_name = response.json()[\"operation-location\"]\n",
    "    model_weights = download(model_name) # download file bytes\n",
    "    view(model_weights) # converts bytes to .npy file, saves it and shows the grid.\n",
    "\n",
    "    \"\"\"\n",
    "    if file_bytes is None:\n",
    "        return \"File bytes is None! Please check if downloaded the file properly!\"\n",
    "    weights = load_weights(file_bytes)\n",
    "    plt.imshow(weights)"
   ]
  },
  {
   "cell_type": "markdown",
   "metadata": {},
   "source": [
    "Above uses ```temp/``` folder to save model weights under ```sample_weights.npy``` name. If you are running view multiple times, make sure ```download``` was run before it with correct model name else, ```view``` will try to load last saved model "
   ]
  },
  {
   "cell_type": "markdown",
   "metadata": {},
   "source": [
    "---"
   ]
  },
  {
   "cell_type": "markdown",
   "metadata": {},
   "source": [
    "## GET /list-of-models/ : List of already trained models.\n",
    "Allows you to know what existing models are trained."
   ]
  },
  {
   "cell_type": "code",
   "execution_count": 9,
   "metadata": {},
   "outputs": [
    {
     "output_type": "execute_result",
     "data": {
      "text/plain": [
       "['100X100_1000N', '10X10_200N', '10X10_500N', '10X10_100N']"
      ]
     },
     "metadata": {},
     "execution_count": 9
    }
   ],
   "source": [
    "req.get(url=f\"{endpoint}/list-of-models/\").json()"
   ]
  },
  {
   "cell_type": "markdown",
   "metadata": {},
   "source": [
    "---"
   ]
  },
  {
   "cell_type": "markdown",
   "metadata": {},
   "source": [
    "## POST /train/ : Synchronous Training\n",
    "Allows you to train the grid Synchronously. That means you have to wait till the grid completes its training to get REST response."
   ]
  },
  {
   "cell_type": "markdown",
   "metadata": {},
   "source": [
    "## 2.1 Train a 10x10 network over 100 iterations"
   ]
  },
  {
   "cell_type": "code",
   "execution_count": 10,
   "metadata": {},
   "outputs": [],
   "source": [
    "payload = {\n",
    "    \"grid_shape\" : [10,10],\n",
    "    \"max_iterations\" : 100,\n",
    "    \"learning_rate\" : 0.1,\n",
    "    \"training_data\" : data_sample.tolist(),\n",
    "    \"training_data_shape\" : data_sample.shape,\n",
    "    \"debug_mode\": False,\n",
    "    \"verbose\" : False,\n",
    "    }"
   ]
  },
  {
   "cell_type": "code",
   "execution_count": 11,
   "metadata": {
    "tags": []
   },
   "outputs": [
    {
     "output_type": "execute_result",
     "data": {
      "text/plain": [
       "{'message': 'Model training has finished and time taken is 0.23 seconds.',\n",
       " 'operation-location': '07-04-2021_02h30m33sT_10X10_100N_0.1LR'}"
      ]
     },
     "metadata": {},
     "execution_count": 11
    }
   ],
   "source": [
    "response = req.post(url=f\"{endpoint}/train/\", data=json.dumps(payload))\n",
    "response.json()"
   ]
  },
  {
   "cell_type": "markdown",
   "metadata": {},
   "source": [
    "##### INFO: Try running the above GET again to see the model saved ."
   ]
  },
  {
   "cell_type": "markdown",
   "metadata": {},
   "source": [
    "#### Download/View"
   ]
  },
  {
   "cell_type": "code",
   "execution_count": 12,
   "metadata": {
    "tags": []
   },
   "outputs": [
    {
     "output_type": "display_data",
     "data": {
      "text/plain": "<Figure size 432x288 with 1 Axes>",
      "image/svg+xml": "<?xml version=\"1.0\" encoding=\"utf-8\" standalone=\"no\"?>\r\n<!DOCTYPE svg PUBLIC \"-//W3C//DTD SVG 1.1//EN\"\r\n  \"http://www.w3.org/Graphics/SVG/1.1/DTD/svg11.dtd\">\r\n<!-- Created with matplotlib (https://matplotlib.org/) -->\r\n<svg height=\"248.518125pt\" version=\"1.1\" viewBox=\"0 0 245.2025 248.518125\" width=\"245.2025pt\" xmlns=\"http://www.w3.org/2000/svg\" xmlns:xlink=\"http://www.w3.org/1999/xlink\">\r\n <metadata>\r\n  <rdf:RDF xmlns:cc=\"http://creativecommons.org/ns#\" xmlns:dc=\"http://purl.org/dc/elements/1.1/\" xmlns:rdf=\"http://www.w3.org/1999/02/22-rdf-syntax-ns#\">\r\n   <cc:Work>\r\n    <dc:type rdf:resource=\"http://purl.org/dc/dcmitype/StillImage\"/>\r\n    <dc:date>2021-04-07T12:30:40.420648</dc:date>\r\n    <dc:format>image/svg+xml</dc:format>\r\n    <dc:creator>\r\n     <cc:Agent>\r\n      <dc:title>Matplotlib v3.3.4, https://matplotlib.org/</dc:title>\r\n     </cc:Agent>\r\n    </dc:creator>\r\n   </cc:Work>\r\n  </rdf:RDF>\r\n </metadata>\r\n <defs>\r\n  <style type=\"text/css\">*{stroke-linecap:butt;stroke-linejoin:round;}</style>\r\n </defs>\r\n <g id=\"figure_1\">\r\n  <g id=\"patch_1\">\r\n   <path d=\"M 0 248.518125 \r\nL 245.2025 248.518125 \r\nL 245.2025 0 \r\nL 0 0 \r\nz\r\n\" style=\"fill:none;\"/>\r\n  </g>\r\n  <g id=\"axes_1\">\r\n   <g id=\"patch_2\">\r\n    <path d=\"M 20.5625 224.64 \r\nL 238.0025 224.64 \r\nL 238.0025 7.2 \r\nL 20.5625 7.2 \r\nz\r\n\" style=\"fill:#ffffff;\"/>\r\n   </g>\r\n   <g clip-path=\"url(#pf19cf360e2)\">\r\n    <image height=\"218\" id=\"imagee39b82b61d\" transform=\"scale(1 -1)translate(0 -218)\" width=\"218\" x=\"20.5625\" xlink:href=\"data:image/png;base64,\r\niVBORw0KGgoAAAANSUhEUgAAANoAAADaCAYAAADAHVzbAAAEg0lEQVR4nO3cy25bZRSG4bXjHScBUQ5lwP3PuJwKZgiE1FalRTk0p8b29jYDRsz/9UlIz3MBnyI7r//Zmt69+flUDY67l47ZOjx+Gb653K7DN6uqjjdzy+7psWn3umW2Tr+O/3zXNy3/tlU3PbtnLavAfwgNAoQGAUKDAKFBgNAgQGgQIDQIEBoECA0ChAYBQoMAoUGA0CBAaBAgNAgQGgQIDQKEBgFCgwChQcB8XJaW4eNyaNld1/G7p+k4fLOqqjY917XqrGf3tJlado/b8Zeljlc916rWC1ew4H9LaBAgNAgQGgQIDQKEBgFCgwChQYDQIEBoECA0CBAaBAgNAoQGAUKDAKFBgNAgQGgQIDQIEBoECA0C5uddz7Wqato97cZf7VoPTX9r7Vt2182mZXc57/ndfXo1/srY808939n+oucimhcNAoQGAUKDAKFBgNAgQGgQIDQIEBoECA0ChAYBQoMAoUGA0CBAaBAgNAgQGgQIDQKEBgFCgwChQcD89mlqGb489DR8+TJ+c973HGSZ1p7dpenn8X47/vBRVdW71w/DN99v7oZvVlV93n1p2fWiQYDQIEBoECA0CBAaBAgNAoQGAUKDAKFBgNAgQGgQIDQIEBoECA0ChAYBQoMAoUGA0CBAaBAgNAgQGgTMb54vW4a/WXqua/3YcLHq++UwfLOq6rzpCtZz7Vp2327vWnZ/+eH98M0/vv04fLOq6v703LLrRYMAoUGA0CBAaBAgNAgQGgQIDQKEBgFCgwChQYDQIEBoECA0CBAaBAgNAoQGAUKDAKFBgNAgQGgQIDQImP/cb1uGt0tPw3/tT8M3Xx+W4ZtVVdt137J7f/bUsvv7Vc9lqd8uPwzf/Pt4M3yzqmrf9J150SBAaBAgNAgQGgQIDQKEBgFCgwChQYDQIEBoECA0CBAaBAgNAoQGAUKDAKFBgNAgQGgQIDQIEBoECA0C5oema1XH3dyy+/Fp/NWuuekS2LRZW3Yfvrpv2f10ddeyezu9DN/cLz2f7dpzEM2LBglCgwChQYDQIEBoECA0CBAaBAgNAoQGAUKDAKFBgNAgQGgQIDQIEBoECA0ChAYBQoMAoUGA0CBAaBAwPz6dWoafH44tuw+fx/+9h6ZLYOurns92/92uZfflVc93tpw3XERbL8dvVtW0Hlp2vWgQIDQIEBoECA0ChAYBQoMAoUGA0CBAaBAgNAgQGgQIDQKEBgFCgwChQYDQIEBoECA0CBAaBAgNAubrTz3HSO5ul5bdp8fxB2SOm+GT/7romV3P15bd09dTy+50sR2+uZl7Dh+dTT1vjxcNAoQGAUKDAKFBgNAgQGgQIDQIEBoECA0ChAYBQoMAoUGA0CBAaBAgNAgQGgQIDQKEBgFCgwChQYDQIGC+ue65VvVwP/5aVVXVbt9wAeq856LSdGy61LTp2a255wrW2fn4M2PTtud02dT02XrRIEBoECA0CBAaBAgNAoQGAUKDAKFBgNAgQGgQIDQIEBoECA0ChAYBQoMAoUGA0CBAaBAgNAgQGgQIDQL+AWStwHq1XpwTAAAAAElFTkSuQmCC\" y=\"-6.64\"/>\r\n   </g>\r\n   <g id=\"matplotlib.axis_1\">\r\n    <g id=\"xtick_1\">\r\n     <g id=\"line2d_1\">\r\n      <defs>\r\n       <path d=\"M 0 0 \r\nL 0 3.5 \r\n\" id=\"mf727cd1abd\" style=\"stroke:#000000;stroke-width:0.8;\"/>\r\n      </defs>\r\n      <g>\r\n       <use style=\"stroke:#000000;stroke-width:0.8;\" x=\"31.4345\" xlink:href=\"#mf727cd1abd\" y=\"224.64\"/>\r\n      </g>\r\n     </g>\r\n     <g id=\"text_1\">\r\n      <!-- 0 -->\r\n      <g transform=\"translate(28.25325 239.238437)scale(0.1 -0.1)\">\r\n       <defs>\r\n        <path d=\"M 31.78125 66.40625 \r\nQ 24.171875 66.40625 20.328125 58.90625 \r\nQ 16.5 51.421875 16.5 36.375 \r\nQ 16.5 21.390625 20.328125 13.890625 \r\nQ 24.171875 6.390625 31.78125 6.390625 \r\nQ 39.453125 6.390625 43.28125 13.890625 \r\nQ 47.125 21.390625 47.125 36.375 \r\nQ 47.125 51.421875 43.28125 58.90625 \r\nQ 39.453125 66.40625 31.78125 66.40625 \r\nz\r\nM 31.78125 74.21875 \r\nQ 44.046875 74.21875 50.515625 64.515625 \r\nQ 56.984375 54.828125 56.984375 36.375 \r\nQ 56.984375 17.96875 50.515625 8.265625 \r\nQ 44.046875 -1.421875 31.78125 -1.421875 \r\nQ 19.53125 -1.421875 13.0625 8.265625 \r\nQ 6.59375 17.96875 6.59375 36.375 \r\nQ 6.59375 54.828125 13.0625 64.515625 \r\nQ 19.53125 74.21875 31.78125 74.21875 \r\nz\r\n\" id=\"DejaVuSans-48\"/>\r\n       </defs>\r\n       <use xlink:href=\"#DejaVuSans-48\"/>\r\n      </g>\r\n     </g>\r\n    </g>\r\n    <g id=\"xtick_2\">\r\n     <g id=\"line2d_2\">\r\n      <g>\r\n       <use style=\"stroke:#000000;stroke-width:0.8;\" x=\"74.9225\" xlink:href=\"#mf727cd1abd\" y=\"224.64\"/>\r\n      </g>\r\n     </g>\r\n     <g id=\"text_2\">\r\n      <!-- 2 -->\r\n      <g transform=\"translate(71.74125 239.238437)scale(0.1 -0.1)\">\r\n       <defs>\r\n        <path d=\"M 19.1875 8.296875 \r\nL 53.609375 8.296875 \r\nL 53.609375 0 \r\nL 7.328125 0 \r\nL 7.328125 8.296875 \r\nQ 12.9375 14.109375 22.625 23.890625 \r\nQ 32.328125 33.6875 34.8125 36.53125 \r\nQ 39.546875 41.84375 41.421875 45.53125 \r\nQ 43.3125 49.21875 43.3125 52.78125 \r\nQ 43.3125 58.59375 39.234375 62.25 \r\nQ 35.15625 65.921875 28.609375 65.921875 \r\nQ 23.96875 65.921875 18.8125 64.3125 \r\nQ 13.671875 62.703125 7.8125 59.421875 \r\nL 7.8125 69.390625 \r\nQ 13.765625 71.78125 18.9375 73 \r\nQ 24.125 74.21875 28.421875 74.21875 \r\nQ 39.75 74.21875 46.484375 68.546875 \r\nQ 53.21875 62.890625 53.21875 53.421875 \r\nQ 53.21875 48.921875 51.53125 44.890625 \r\nQ 49.859375 40.875 45.40625 35.40625 \r\nQ 44.1875 33.984375 37.640625 27.21875 \r\nQ 31.109375 20.453125 19.1875 8.296875 \r\nz\r\n\" id=\"DejaVuSans-50\"/>\r\n       </defs>\r\n       <use xlink:href=\"#DejaVuSans-50\"/>\r\n      </g>\r\n     </g>\r\n    </g>\r\n    <g id=\"xtick_3\">\r\n     <g id=\"line2d_3\">\r\n      <g>\r\n       <use style=\"stroke:#000000;stroke-width:0.8;\" x=\"118.4105\" xlink:href=\"#mf727cd1abd\" y=\"224.64\"/>\r\n      </g>\r\n     </g>\r\n     <g id=\"text_3\">\r\n      <!-- 4 -->\r\n      <g transform=\"translate(115.22925 239.238437)scale(0.1 -0.1)\">\r\n       <defs>\r\n        <path d=\"M 37.796875 64.3125 \r\nL 12.890625 25.390625 \r\nL 37.796875 25.390625 \r\nz\r\nM 35.203125 72.90625 \r\nL 47.609375 72.90625 \r\nL 47.609375 25.390625 \r\nL 58.015625 25.390625 \r\nL 58.015625 17.1875 \r\nL 47.609375 17.1875 \r\nL 47.609375 0 \r\nL 37.796875 0 \r\nL 37.796875 17.1875 \r\nL 4.890625 17.1875 \r\nL 4.890625 26.703125 \r\nz\r\n\" id=\"DejaVuSans-52\"/>\r\n       </defs>\r\n       <use xlink:href=\"#DejaVuSans-52\"/>\r\n      </g>\r\n     </g>\r\n    </g>\r\n    <g id=\"xtick_4\">\r\n     <g id=\"line2d_4\">\r\n      <g>\r\n       <use style=\"stroke:#000000;stroke-width:0.8;\" x=\"161.8985\" xlink:href=\"#mf727cd1abd\" y=\"224.64\"/>\r\n      </g>\r\n     </g>\r\n     <g id=\"text_4\">\r\n      <!-- 6 -->\r\n      <g transform=\"translate(158.71725 239.238437)scale(0.1 -0.1)\">\r\n       <defs>\r\n        <path d=\"M 33.015625 40.375 \r\nQ 26.375 40.375 22.484375 35.828125 \r\nQ 18.609375 31.296875 18.609375 23.390625 \r\nQ 18.609375 15.53125 22.484375 10.953125 \r\nQ 26.375 6.390625 33.015625 6.390625 \r\nQ 39.65625 6.390625 43.53125 10.953125 \r\nQ 47.40625 15.53125 47.40625 23.390625 \r\nQ 47.40625 31.296875 43.53125 35.828125 \r\nQ 39.65625 40.375 33.015625 40.375 \r\nz\r\nM 52.59375 71.296875 \r\nL 52.59375 62.3125 \r\nQ 48.875 64.0625 45.09375 64.984375 \r\nQ 41.3125 65.921875 37.59375 65.921875 \r\nQ 27.828125 65.921875 22.671875 59.328125 \r\nQ 17.53125 52.734375 16.796875 39.40625 \r\nQ 19.671875 43.65625 24.015625 45.921875 \r\nQ 28.375 48.1875 33.59375 48.1875 \r\nQ 44.578125 48.1875 50.953125 41.515625 \r\nQ 57.328125 34.859375 57.328125 23.390625 \r\nQ 57.328125 12.15625 50.6875 5.359375 \r\nQ 44.046875 -1.421875 33.015625 -1.421875 \r\nQ 20.359375 -1.421875 13.671875 8.265625 \r\nQ 6.984375 17.96875 6.984375 36.375 \r\nQ 6.984375 53.65625 15.1875 63.9375 \r\nQ 23.390625 74.21875 37.203125 74.21875 \r\nQ 40.921875 74.21875 44.703125 73.484375 \r\nQ 48.484375 72.75 52.59375 71.296875 \r\nz\r\n\" id=\"DejaVuSans-54\"/>\r\n       </defs>\r\n       <use xlink:href=\"#DejaVuSans-54\"/>\r\n      </g>\r\n     </g>\r\n    </g>\r\n    <g id=\"xtick_5\">\r\n     <g id=\"line2d_5\">\r\n      <g>\r\n       <use style=\"stroke:#000000;stroke-width:0.8;\" x=\"205.3865\" xlink:href=\"#mf727cd1abd\" y=\"224.64\"/>\r\n      </g>\r\n     </g>\r\n     <g id=\"text_5\">\r\n      <!-- 8 -->\r\n      <g transform=\"translate(202.20525 239.238437)scale(0.1 -0.1)\">\r\n       <defs>\r\n        <path d=\"M 31.78125 34.625 \r\nQ 24.75 34.625 20.71875 30.859375 \r\nQ 16.703125 27.09375 16.703125 20.515625 \r\nQ 16.703125 13.921875 20.71875 10.15625 \r\nQ 24.75 6.390625 31.78125 6.390625 \r\nQ 38.8125 6.390625 42.859375 10.171875 \r\nQ 46.921875 13.96875 46.921875 20.515625 \r\nQ 46.921875 27.09375 42.890625 30.859375 \r\nQ 38.875 34.625 31.78125 34.625 \r\nz\r\nM 21.921875 38.8125 \r\nQ 15.578125 40.375 12.03125 44.71875 \r\nQ 8.5 49.078125 8.5 55.328125 \r\nQ 8.5 64.0625 14.71875 69.140625 \r\nQ 20.953125 74.21875 31.78125 74.21875 \r\nQ 42.671875 74.21875 48.875 69.140625 \r\nQ 55.078125 64.0625 55.078125 55.328125 \r\nQ 55.078125 49.078125 51.53125 44.71875 \r\nQ 48 40.375 41.703125 38.8125 \r\nQ 48.828125 37.15625 52.796875 32.3125 \r\nQ 56.78125 27.484375 56.78125 20.515625 \r\nQ 56.78125 9.90625 50.3125 4.234375 \r\nQ 43.84375 -1.421875 31.78125 -1.421875 \r\nQ 19.734375 -1.421875 13.25 4.234375 \r\nQ 6.78125 9.90625 6.78125 20.515625 \r\nQ 6.78125 27.484375 10.78125 32.3125 \r\nQ 14.796875 37.15625 21.921875 38.8125 \r\nz\r\nM 18.3125 54.390625 \r\nQ 18.3125 48.734375 21.84375 45.5625 \r\nQ 25.390625 42.390625 31.78125 42.390625 \r\nQ 38.140625 42.390625 41.71875 45.5625 \r\nQ 45.3125 48.734375 45.3125 54.390625 \r\nQ 45.3125 60.0625 41.71875 63.234375 \r\nQ 38.140625 66.40625 31.78125 66.40625 \r\nQ 25.390625 66.40625 21.84375 63.234375 \r\nQ 18.3125 60.0625 18.3125 54.390625 \r\nz\r\n\" id=\"DejaVuSans-56\"/>\r\n       </defs>\r\n       <use xlink:href=\"#DejaVuSans-56\"/>\r\n      </g>\r\n     </g>\r\n    </g>\r\n   </g>\r\n   <g id=\"matplotlib.axis_2\">\r\n    <g id=\"ytick_1\">\r\n     <g id=\"line2d_6\">\r\n      <defs>\r\n       <path d=\"M 0 0 \r\nL -3.5 0 \r\n\" id=\"me0a2a34e7f\" style=\"stroke:#000000;stroke-width:0.8;\"/>\r\n      </defs>\r\n      <g>\r\n       <use style=\"stroke:#000000;stroke-width:0.8;\" x=\"20.5625\" xlink:href=\"#me0a2a34e7f\" y=\"18.072\"/>\r\n      </g>\r\n     </g>\r\n     <g id=\"text_6\">\r\n      <!-- 0 -->\r\n      <g transform=\"translate(7.2 21.871219)scale(0.1 -0.1)\">\r\n       <use xlink:href=\"#DejaVuSans-48\"/>\r\n      </g>\r\n     </g>\r\n    </g>\r\n    <g id=\"ytick_2\">\r\n     <g id=\"line2d_7\">\r\n      <g>\r\n       <use style=\"stroke:#000000;stroke-width:0.8;\" x=\"20.5625\" xlink:href=\"#me0a2a34e7f\" y=\"61.56\"/>\r\n      </g>\r\n     </g>\r\n     <g id=\"text_7\">\r\n      <!-- 2 -->\r\n      <g transform=\"translate(7.2 65.359219)scale(0.1 -0.1)\">\r\n       <use xlink:href=\"#DejaVuSans-50\"/>\r\n      </g>\r\n     </g>\r\n    </g>\r\n    <g id=\"ytick_3\">\r\n     <g id=\"line2d_8\">\r\n      <g>\r\n       <use style=\"stroke:#000000;stroke-width:0.8;\" x=\"20.5625\" xlink:href=\"#me0a2a34e7f\" y=\"105.048\"/>\r\n      </g>\r\n     </g>\r\n     <g id=\"text_8\">\r\n      <!-- 4 -->\r\n      <g transform=\"translate(7.2 108.847219)scale(0.1 -0.1)\">\r\n       <use xlink:href=\"#DejaVuSans-52\"/>\r\n      </g>\r\n     </g>\r\n    </g>\r\n    <g id=\"ytick_4\">\r\n     <g id=\"line2d_9\">\r\n      <g>\r\n       <use style=\"stroke:#000000;stroke-width:0.8;\" x=\"20.5625\" xlink:href=\"#me0a2a34e7f\" y=\"148.536\"/>\r\n      </g>\r\n     </g>\r\n     <g id=\"text_9\">\r\n      <!-- 6 -->\r\n      <g transform=\"translate(7.2 152.335219)scale(0.1 -0.1)\">\r\n       <use xlink:href=\"#DejaVuSans-54\"/>\r\n      </g>\r\n     </g>\r\n    </g>\r\n    <g id=\"ytick_5\">\r\n     <g id=\"line2d_10\">\r\n      <g>\r\n       <use style=\"stroke:#000000;stroke-width:0.8;\" x=\"20.5625\" xlink:href=\"#me0a2a34e7f\" y=\"192.024\"/>\r\n      </g>\r\n     </g>\r\n     <g id=\"text_10\">\r\n      <!-- 8 -->\r\n      <g transform=\"translate(7.2 195.823219)scale(0.1 -0.1)\">\r\n       <use xlink:href=\"#DejaVuSans-56\"/>\r\n      </g>\r\n     </g>\r\n    </g>\r\n   </g>\r\n   <g id=\"patch_3\">\r\n    <path d=\"M 20.5625 224.64 \r\nL 20.5625 7.2 \r\n\" style=\"fill:none;stroke:#000000;stroke-linecap:square;stroke-linejoin:miter;stroke-width:0.8;\"/>\r\n   </g>\r\n   <g id=\"patch_4\">\r\n    <path d=\"M 238.0025 224.64 \r\nL 238.0025 7.2 \r\n\" style=\"fill:none;stroke:#000000;stroke-linecap:square;stroke-linejoin:miter;stroke-width:0.8;\"/>\r\n   </g>\r\n   <g id=\"patch_5\">\r\n    <path d=\"M 20.5625 224.64 \r\nL 238.0025 224.64 \r\n\" style=\"fill:none;stroke:#000000;stroke-linecap:square;stroke-linejoin:miter;stroke-width:0.8;\"/>\r\n   </g>\r\n   <g id=\"patch_6\">\r\n    <path d=\"M 20.5625 7.2 \r\nL 238.0025 7.2 \r\n\" style=\"fill:none;stroke:#000000;stroke-linecap:square;stroke-linejoin:miter;stroke-width:0.8;\"/>\r\n   </g>\r\n  </g>\r\n </g>\r\n <defs>\r\n  <clipPath id=\"pf19cf360e2\">\r\n   <rect height=\"217.44\" width=\"217.44\" x=\"20.5625\" y=\"7.2\"/>\r\n  </clipPath>\r\n </defs>\r\n</svg>\r\n",
      "image/png": "[encoded data removed]"
     },
     "metadata": {
      "needs_background": "light"
     }
    }
   ],
   "source": [
    "model_name_10x10_100N = response.json()[\"operation-location\"]\n",
    "model_weights_10x10_100N = download(model_name_10x10_100N)\n",
    "view(model_weights_10x10_100N)"
   ]
  },
  {
   "cell_type": "markdown",
   "metadata": {},
   "source": [
    "<h2> NOTE : <i> Around 10 runs were performed for calculating average times indendently (i.e. only single model was trained at a time).\n",
    "    All of the runs are only for training set of 10 RGB colors with initial learning rate of 0.1.</i> \n",
    "</h2>\n",
    "<p style='color:#FF4500'>\n",
    "    <b>Dockerised</b> : indicates running the project from docker image as local server.<br>\n",
    "    <b>Not Dockerised</b> : indicates running the project from command line as local server.\n",
    "</p>"
   ]
  },
  {
   "cell_type": "markdown",
   "metadata": {},
   "source": [
    "- How long does this take?\n",
    "<p style=\"color:#FF4500\">Running this training independantly (i.e. server is only performing this task), it was observed that it takes less than <b>5 seconds</b> to train.</p>\n",
    "\n",
    "<table style=\"width:20%;text-align: center\">\n",
    "  <tr>\n",
    "    <th>Type</th>\n",
    "    <th>Average Time</th>\n",
    "  </tr>\n",
    "  <tr>\n",
    "    <td>Dockerised</td>\n",
    "    <td>~ 3-4 seconds</td>\n",
    "  </tr>\n",
    "  <tr>\n",
    "    <td>Dockerised with Vectorisation</td>\n",
    "    <td style=\"color:#FF4500\">~ 0.2-0.3 seconds</td>\n",
    "  </tr>\n",
    "  <tr>\n",
    "    <td>Not Dockerised</td>\n",
    "    <td>~ 10 seconds</td>\n",
    "  </tr>\n",
    "</table>"
   ]
  },
  {
   "cell_type": "markdown",
   "metadata": {},
   "source": [
    "- What does the map look like? (You will need to translate the weights of each node in the map to pixel data)\n",
    "<p style='color:#FF4500;'> Influence of training items can been seen on the map where similar colors/shades grouped together towards same area and different colors (RGB values) move away from each other. Since resolution is very low 10X10, the is overlapping of different groups at boundaries. In order to determine more groups (if exists), it is essential to either increase number of iterations or to increase the grid size.</p>"
   ]
  },
  {
   "cell_type": "markdown",
   "metadata": {},
   "source": [
    "## 2.2 Train a 10x10 network for 200 iterations"
   ]
  },
  {
   "cell_type": "code",
   "execution_count": 13,
   "metadata": {},
   "outputs": [
    {
     "output_type": "execute_result",
     "data": {
      "text/plain": [
       "{'grid_shape': [10, 10],\n",
       " 'max_iterations': 200,\n",
       " 'learning_rate': 0.1,\n",
       " 'training_data': [[0.09803922, 0.78823529, 0.27058824],\n",
       "  [0.17254902, 0.8745098, 0.18823529],\n",
       "  [0.82352941, 0.6, 0.49411765],\n",
       "  [0.83529412, 0.56078431, 0.65098039],\n",
       "  [0.85098039, 0.74509804, 0.54509804],\n",
       "  [0.06666667, 0.3254902, 0.63529412],\n",
       "  [0.1254902, 0.56470588, 0.09411765],\n",
       "  [0.82352941, 0.00392157, 0.61176471],\n",
       "  [0.91764706, 0.85882353, 0.70980392],\n",
       "  [0.38039216, 0.68627451, 0.70980392]],\n",
       " 'training_data_shape': (10, 3),\n",
       " 'debug_mode': False,\n",
       " 'verbose': False}"
      ]
     },
     "metadata": {},
     "execution_count": 13
    }
   ],
   "source": [
    "payload[\"max_iterations\"] = 200\n",
    "payload"
   ]
  },
  {
   "cell_type": "code",
   "execution_count": 14,
   "metadata": {
    "tags": []
   },
   "outputs": [
    {
     "output_type": "execute_result",
     "data": {
      "text/plain": [
       "b'{\"message\":\"Model training has finished and time taken is 0.34 seconds.\",\"operation-location\":\"07-04-2021_02h30m48sT_10X10_200N_0.1LR\"}'"
      ]
     },
     "metadata": {},
     "execution_count": 14
    }
   ],
   "source": [
    "response = req.post(url=f\"{endpoint}/train/\", data=json.dumps(payload))\n",
    "response.content"
   ]
  },
  {
   "cell_type": "markdown",
   "metadata": {},
   "source": [
    "#### Download/View"
   ]
  },
  {
   "cell_type": "code",
   "execution_count": 15,
   "metadata": {
    "tags": []
   },
   "outputs": [
    {
     "output_type": "display_data",
     "data": {
      "text/plain": "<Figure size 432x288 with 1 Axes>",
      "image/svg+xml": "<?xml version=\"1.0\" encoding=\"utf-8\" standalone=\"no\"?>\r\n<!DOCTYPE svg PUBLIC \"-//W3C//DTD SVG 1.1//EN\"\r\n  \"http://www.w3.org/Graphics/SVG/1.1/DTD/svg11.dtd\">\r\n<!-- Created with matplotlib (https://matplotlib.org/) -->\r\n<svg height=\"248.518125pt\" version=\"1.1\" viewBox=\"0 0 245.2025 248.518125\" width=\"245.2025pt\" xmlns=\"http://www.w3.org/2000/svg\" xmlns:xlink=\"http://www.w3.org/1999/xlink\">\r\n <metadata>\r\n  <rdf:RDF xmlns:cc=\"http://creativecommons.org/ns#\" xmlns:dc=\"http://purl.org/dc/elements/1.1/\" xmlns:rdf=\"http://www.w3.org/1999/02/22-rdf-syntax-ns#\">\r\n   <cc:Work>\r\n    <dc:type rdf:resource=\"http://purl.org/dc/dcmitype/StillImage\"/>\r\n    <dc:date>2021-04-07T12:30:50.942390</dc:date>\r\n    <dc:format>image/svg+xml</dc:format>\r\n    <dc:creator>\r\n     <cc:Agent>\r\n      <dc:title>Matplotlib v3.3.4, https://matplotlib.org/</dc:title>\r\n     </cc:Agent>\r\n    </dc:creator>\r\n   </cc:Work>\r\n  </rdf:RDF>\r\n </metadata>\r\n <defs>\r\n  <style type=\"text/css\">*{stroke-linecap:butt;stroke-linejoin:round;}</style>\r\n </defs>\r\n <g id=\"figure_1\">\r\n  <g id=\"patch_1\">\r\n   <path d=\"M 0 248.518125 \r\nL 245.2025 248.518125 \r\nL 245.2025 0 \r\nL 0 0 \r\nz\r\n\" style=\"fill:none;\"/>\r\n  </g>\r\n  <g id=\"axes_1\">\r\n   <g id=\"patch_2\">\r\n    <path d=\"M 20.5625 224.64 \r\nL 238.0025 224.64 \r\nL 238.0025 7.2 \r\nL 20.5625 7.2 \r\nz\r\n\" style=\"fill:#ffffff;\"/>\r\n   </g>\r\n   <g clip-path=\"url(#p9ccafd3912)\">\r\n    <image height=\"218\" id=\"imagef44484f149\" transform=\"scale(1 -1)translate(0 -218)\" width=\"218\" x=\"20.5625\" xlink:href=\"data:image/png;base64,\r\niVBORw0KGgoAAAANSUhEUgAAANoAAADaCAYAAADAHVzbAAAElklEQVR4nO3cu26dVRSF0fVfzsXOBRzHCQEiUUYpAAkKShpenZI+rSWkCFFAERLb50JNv9eUkMZ4gFn89nd2t6a37747V4PTceqYrfu7/fDNu/uL4ZtVVafz2rI73W9aduv2q5bZ029vh28e3l8N36yqOh/mlt2eVeA/hAYBQoMAoUGA0CBAaBAgNAgQGgQIDQKEBgFCgwChQYDQIEBoECA0CBAaBAgNAoQGAUKDAKFBgNAgYD1/OLQMn09NDR+Owyfnc8shsKqm2fm4tOyu523L7rQbfw3s4bLnytrpwRUs+N8SGgQIDQKEBgFCgwChQYDQIEBoECA0CBAaBAgNAoQGAUKDAKFBgNAgQGgQIDQIEBoECA0ChAYBQoOA9XD7sWd56rnUtKzjrx9tdvvhm1VVy9yzu/30uGV3f/q8ZXe5vhi+eb7cDd+sqjqfev5vvWgQIDQIEBoECA0ChAYBQoMAoUGA0CBAaBAgNAgQGgQIDQKEBgFCgwChQYDQIEBoECA0CBAaBAgNAtbj+7uW4WVZW3af7sYfZXm17zn0cj1ftezuji9ado/Ts5bdT9eXwzePS8/ho5p63h4vGgQIDQKEBgFCgwChQYDQIEBoECA0CBAaBAgNAoQGAUKDAKFBgNAgQGgQIDQIEBoECA0ChAYBQoMAoUHAOvccwap90zWhbw5Ph2/+dPdq+GZV1dfz85bdaX7SsvvnZtOye7ubhm/+tYzfrKo6TD27XjQIEBoECA0ChAYBQoMAoUGA0CBAaBAgNAgQGgQIDQKEBgFCgwChQYDQIEBoECA0CBAaBAgNAoQGAUKDgPXq4+OW4Rfz+GtVVVU/nl4P3/z+/HL4ZlXVZ8tFy+55XVt2n80PLbv77cfhm7dzzzf4+7xt2fWiQYDQIEBoECA0CBAaBAgNAoQGAUKDAKFBgNAgQGgQIDQIEBoECA0ChAYBQoMAoUGA0CBAaBAgNAgQGgSsP7/7tmX45ZOe61pvXj4fvnm1Xg7frKraLE2/Y1PP7nZ7bNl9tP8wfPNmPg/frKr6ox617HrRIEBoECA0CBAaBAgNAoQGAUKDAKFBgNAgQGgQIDQIEBoECA0ChAYBQoMAoUGA0CBAaBAgNAgQGgQIDQLWX379oWV4+2VPw5fL+M1NzxGsmpaeS03zPLXsrpuev9luM/661tPtw/DNqqrX20PLrhcNAoQGAUKDAKFBgNAgQGgQIDQIEBoECA0ChAYBQoMAoUGA0CBAaBAgNAgQGgQIDQKEBgFCgwChQcB68/tVz/Jdz+z8xfiDN/NNz7GbaW2Zrek4/thNVdVSPYdplnX87/nFfjd8s6pq2W9bdr1oECA0CBAaBAgNAoQGAUKDAKFBgNAgQGgQIDQIEBoECA0ChAYBQoMAoUGA0CBAaBAgNAgQGgQIDQKEBgHrfN/U2j89l6XmD+N3p8MyfLOqqg4936Aeeq5g1eGhZXaZx3/fdbsfvllVta49p8u8aBAgNAgQGgQIDQKEBgFCgwChQYDQIEBoECA0CBAaBAgNAoQGAUKDAKFBgNAgQGgQIDQIEBoECA0ChAYB/wJqr19qzaMvpgAAAABJRU5ErkJggg==\" y=\"-6.64\"/>\r\n   </g>\r\n   <g id=\"matplotlib.axis_1\">\r\n    <g id=\"xtick_1\">\r\n     <g id=\"line2d_1\">\r\n      <defs>\r\n       <path d=\"M 0 0 \r\nL 0 3.5 \r\n\" id=\"m6dbb2e6289\" style=\"stroke:#000000;stroke-width:0.8;\"/>\r\n      </defs>\r\n      <g>\r\n       <use style=\"stroke:#000000;stroke-width:0.8;\" x=\"31.4345\" xlink:href=\"#m6dbb2e6289\" y=\"224.64\"/>\r\n      </g>\r\n     </g>\r\n     <g id=\"text_1\">\r\n      <!-- 0 -->\r\n      <g transform=\"translate(28.25325 239.238437)scale(0.1 -0.1)\">\r\n       <defs>\r\n        <path d=\"M 31.78125 66.40625 \r\nQ 24.171875 66.40625 20.328125 58.90625 \r\nQ 16.5 51.421875 16.5 36.375 \r\nQ 16.5 21.390625 20.328125 13.890625 \r\nQ 24.171875 6.390625 31.78125 6.390625 \r\nQ 39.453125 6.390625 43.28125 13.890625 \r\nQ 47.125 21.390625 47.125 36.375 \r\nQ 47.125 51.421875 43.28125 58.90625 \r\nQ 39.453125 66.40625 31.78125 66.40625 \r\nz\r\nM 31.78125 74.21875 \r\nQ 44.046875 74.21875 50.515625 64.515625 \r\nQ 56.984375 54.828125 56.984375 36.375 \r\nQ 56.984375 17.96875 50.515625 8.265625 \r\nQ 44.046875 -1.421875 31.78125 -1.421875 \r\nQ 19.53125 -1.421875 13.0625 8.265625 \r\nQ 6.59375 17.96875 6.59375 36.375 \r\nQ 6.59375 54.828125 13.0625 64.515625 \r\nQ 19.53125 74.21875 31.78125 74.21875 \r\nz\r\n\" id=\"DejaVuSans-48\"/>\r\n       </defs>\r\n       <use xlink:href=\"#DejaVuSans-48\"/>\r\n      </g>\r\n     </g>\r\n    </g>\r\n    <g id=\"xtick_2\">\r\n     <g id=\"line2d_2\">\r\n      <g>\r\n       <use style=\"stroke:#000000;stroke-width:0.8;\" x=\"74.9225\" xlink:href=\"#m6dbb2e6289\" y=\"224.64\"/>\r\n      </g>\r\n     </g>\r\n     <g id=\"text_2\">\r\n      <!-- 2 -->\r\n      <g transform=\"translate(71.74125 239.238437)scale(0.1 -0.1)\">\r\n       <defs>\r\n        <path d=\"M 19.1875 8.296875 \r\nL 53.609375 8.296875 \r\nL 53.609375 0 \r\nL 7.328125 0 \r\nL 7.328125 8.296875 \r\nQ 12.9375 14.109375 22.625 23.890625 \r\nQ 32.328125 33.6875 34.8125 36.53125 \r\nQ 39.546875 41.84375 41.421875 45.53125 \r\nQ 43.3125 49.21875 43.3125 52.78125 \r\nQ 43.3125 58.59375 39.234375 62.25 \r\nQ 35.15625 65.921875 28.609375 65.921875 \r\nQ 23.96875 65.921875 18.8125 64.3125 \r\nQ 13.671875 62.703125 7.8125 59.421875 \r\nL 7.8125 69.390625 \r\nQ 13.765625 71.78125 18.9375 73 \r\nQ 24.125 74.21875 28.421875 74.21875 \r\nQ 39.75 74.21875 46.484375 68.546875 \r\nQ 53.21875 62.890625 53.21875 53.421875 \r\nQ 53.21875 48.921875 51.53125 44.890625 \r\nQ 49.859375 40.875 45.40625 35.40625 \r\nQ 44.1875 33.984375 37.640625 27.21875 \r\nQ 31.109375 20.453125 19.1875 8.296875 \r\nz\r\n\" id=\"DejaVuSans-50\"/>\r\n       </defs>\r\n       <use xlink:href=\"#DejaVuSans-50\"/>\r\n      </g>\r\n     </g>\r\n    </g>\r\n    <g id=\"xtick_3\">\r\n     <g id=\"line2d_3\">\r\n      <g>\r\n       <use style=\"stroke:#000000;stroke-width:0.8;\" x=\"118.4105\" xlink:href=\"#m6dbb2e6289\" y=\"224.64\"/>\r\n      </g>\r\n     </g>\r\n     <g id=\"text_3\">\r\n      <!-- 4 -->\r\n      <g transform=\"translate(115.22925 239.238437)scale(0.1 -0.1)\">\r\n       <defs>\r\n        <path d=\"M 37.796875 64.3125 \r\nL 12.890625 25.390625 \r\nL 37.796875 25.390625 \r\nz\r\nM 35.203125 72.90625 \r\nL 47.609375 72.90625 \r\nL 47.609375 25.390625 \r\nL 58.015625 25.390625 \r\nL 58.015625 17.1875 \r\nL 47.609375 17.1875 \r\nL 47.609375 0 \r\nL 37.796875 0 \r\nL 37.796875 17.1875 \r\nL 4.890625 17.1875 \r\nL 4.890625 26.703125 \r\nz\r\n\" id=\"DejaVuSans-52\"/>\r\n       </defs>\r\n       <use xlink:href=\"#DejaVuSans-52\"/>\r\n      </g>\r\n     </g>\r\n    </g>\r\n    <g id=\"xtick_4\">\r\n     <g id=\"line2d_4\">\r\n      <g>\r\n       <use style=\"stroke:#000000;stroke-width:0.8;\" x=\"161.8985\" xlink:href=\"#m6dbb2e6289\" y=\"224.64\"/>\r\n      </g>\r\n     </g>\r\n     <g id=\"text_4\">\r\n      <!-- 6 -->\r\n      <g transform=\"translate(158.71725 239.238437)scale(0.1 -0.1)\">\r\n       <defs>\r\n        <path d=\"M 33.015625 40.375 \r\nQ 26.375 40.375 22.484375 35.828125 \r\nQ 18.609375 31.296875 18.609375 23.390625 \r\nQ 18.609375 15.53125 22.484375 10.953125 \r\nQ 26.375 6.390625 33.015625 6.390625 \r\nQ 39.65625 6.390625 43.53125 10.953125 \r\nQ 47.40625 15.53125 47.40625 23.390625 \r\nQ 47.40625 31.296875 43.53125 35.828125 \r\nQ 39.65625 40.375 33.015625 40.375 \r\nz\r\nM 52.59375 71.296875 \r\nL 52.59375 62.3125 \r\nQ 48.875 64.0625 45.09375 64.984375 \r\nQ 41.3125 65.921875 37.59375 65.921875 \r\nQ 27.828125 65.921875 22.671875 59.328125 \r\nQ 17.53125 52.734375 16.796875 39.40625 \r\nQ 19.671875 43.65625 24.015625 45.921875 \r\nQ 28.375 48.1875 33.59375 48.1875 \r\nQ 44.578125 48.1875 50.953125 41.515625 \r\nQ 57.328125 34.859375 57.328125 23.390625 \r\nQ 57.328125 12.15625 50.6875 5.359375 \r\nQ 44.046875 -1.421875 33.015625 -1.421875 \r\nQ 20.359375 -1.421875 13.671875 8.265625 \r\nQ 6.984375 17.96875 6.984375 36.375 \r\nQ 6.984375 53.65625 15.1875 63.9375 \r\nQ 23.390625 74.21875 37.203125 74.21875 \r\nQ 40.921875 74.21875 44.703125 73.484375 \r\nQ 48.484375 72.75 52.59375 71.296875 \r\nz\r\n\" id=\"DejaVuSans-54\"/>\r\n       </defs>\r\n       <use xlink:href=\"#DejaVuSans-54\"/>\r\n      </g>\r\n     </g>\r\n    </g>\r\n    <g id=\"xtick_5\">\r\n     <g id=\"line2d_5\">\r\n      <g>\r\n       <use style=\"stroke:#000000;stroke-width:0.8;\" x=\"205.3865\" xlink:href=\"#m6dbb2e6289\" y=\"224.64\"/>\r\n      </g>\r\n     </g>\r\n     <g id=\"text_5\">\r\n      <!-- 8 -->\r\n      <g transform=\"translate(202.20525 239.238437)scale(0.1 -0.1)\">\r\n       <defs>\r\n        <path d=\"M 31.78125 34.625 \r\nQ 24.75 34.625 20.71875 30.859375 \r\nQ 16.703125 27.09375 16.703125 20.515625 \r\nQ 16.703125 13.921875 20.71875 10.15625 \r\nQ 24.75 6.390625 31.78125 6.390625 \r\nQ 38.8125 6.390625 42.859375 10.171875 \r\nQ 46.921875 13.96875 46.921875 20.515625 \r\nQ 46.921875 27.09375 42.890625 30.859375 \r\nQ 38.875 34.625 31.78125 34.625 \r\nz\r\nM 21.921875 38.8125 \r\nQ 15.578125 40.375 12.03125 44.71875 \r\nQ 8.5 49.078125 8.5 55.328125 \r\nQ 8.5 64.0625 14.71875 69.140625 \r\nQ 20.953125 74.21875 31.78125 74.21875 \r\nQ 42.671875 74.21875 48.875 69.140625 \r\nQ 55.078125 64.0625 55.078125 55.328125 \r\nQ 55.078125 49.078125 51.53125 44.71875 \r\nQ 48 40.375 41.703125 38.8125 \r\nQ 48.828125 37.15625 52.796875 32.3125 \r\nQ 56.78125 27.484375 56.78125 20.515625 \r\nQ 56.78125 9.90625 50.3125 4.234375 \r\nQ 43.84375 -1.421875 31.78125 -1.421875 \r\nQ 19.734375 -1.421875 13.25 4.234375 \r\nQ 6.78125 9.90625 6.78125 20.515625 \r\nQ 6.78125 27.484375 10.78125 32.3125 \r\nQ 14.796875 37.15625 21.921875 38.8125 \r\nz\r\nM 18.3125 54.390625 \r\nQ 18.3125 48.734375 21.84375 45.5625 \r\nQ 25.390625 42.390625 31.78125 42.390625 \r\nQ 38.140625 42.390625 41.71875 45.5625 \r\nQ 45.3125 48.734375 45.3125 54.390625 \r\nQ 45.3125 60.0625 41.71875 63.234375 \r\nQ 38.140625 66.40625 31.78125 66.40625 \r\nQ 25.390625 66.40625 21.84375 63.234375 \r\nQ 18.3125 60.0625 18.3125 54.390625 \r\nz\r\n\" id=\"DejaVuSans-56\"/>\r\n       </defs>\r\n       <use xlink:href=\"#DejaVuSans-56\"/>\r\n      </g>\r\n     </g>\r\n    </g>\r\n   </g>\r\n   <g id=\"matplotlib.axis_2\">\r\n    <g id=\"ytick_1\">\r\n     <g id=\"line2d_6\">\r\n      <defs>\r\n       <path d=\"M 0 0 \r\nL -3.5 0 \r\n\" id=\"m5ff2decd6d\" style=\"stroke:#000000;stroke-width:0.8;\"/>\r\n      </defs>\r\n      <g>\r\n       <use style=\"stroke:#000000;stroke-width:0.8;\" x=\"20.5625\" xlink:href=\"#m5ff2decd6d\" y=\"18.072\"/>\r\n      </g>\r\n     </g>\r\n     <g id=\"text_6\">\r\n      <!-- 0 -->\r\n      <g transform=\"translate(7.2 21.871219)scale(0.1 -0.1)\">\r\n       <use xlink:href=\"#DejaVuSans-48\"/>\r\n      </g>\r\n     </g>\r\n    </g>\r\n    <g id=\"ytick_2\">\r\n     <g id=\"line2d_7\">\r\n      <g>\r\n       <use style=\"stroke:#000000;stroke-width:0.8;\" x=\"20.5625\" xlink:href=\"#m5ff2decd6d\" y=\"61.56\"/>\r\n      </g>\r\n     </g>\r\n     <g id=\"text_7\">\r\n      <!-- 2 -->\r\n      <g transform=\"translate(7.2 65.359219)scale(0.1 -0.1)\">\r\n       <use xlink:href=\"#DejaVuSans-50\"/>\r\n      </g>\r\n     </g>\r\n    </g>\r\n    <g id=\"ytick_3\">\r\n     <g id=\"line2d_8\">\r\n      <g>\r\n       <use style=\"stroke:#000000;stroke-width:0.8;\" x=\"20.5625\" xlink:href=\"#m5ff2decd6d\" y=\"105.048\"/>\r\n      </g>\r\n     </g>\r\n     <g id=\"text_8\">\r\n      <!-- 4 -->\r\n      <g transform=\"translate(7.2 108.847219)scale(0.1 -0.1)\">\r\n       <use xlink:href=\"#DejaVuSans-52\"/>\r\n      </g>\r\n     </g>\r\n    </g>\r\n    <g id=\"ytick_4\">\r\n     <g id=\"line2d_9\">\r\n      <g>\r\n       <use style=\"stroke:#000000;stroke-width:0.8;\" x=\"20.5625\" xlink:href=\"#m5ff2decd6d\" y=\"148.536\"/>\r\n      </g>\r\n     </g>\r\n     <g id=\"text_9\">\r\n      <!-- 6 -->\r\n      <g transform=\"translate(7.2 152.335219)scale(0.1 -0.1)\">\r\n       <use xlink:href=\"#DejaVuSans-54\"/>\r\n      </g>\r\n     </g>\r\n    </g>\r\n    <g id=\"ytick_5\">\r\n     <g id=\"line2d_10\">\r\n      <g>\r\n       <use style=\"stroke:#000000;stroke-width:0.8;\" x=\"20.5625\" xlink:href=\"#m5ff2decd6d\" y=\"192.024\"/>\r\n      </g>\r\n     </g>\r\n     <g id=\"text_10\">\r\n      <!-- 8 -->\r\n      <g transform=\"translate(7.2 195.823219)scale(0.1 -0.1)\">\r\n       <use xlink:href=\"#DejaVuSans-56\"/>\r\n      </g>\r\n     </g>\r\n    </g>\r\n   </g>\r\n   <g id=\"patch_3\">\r\n    <path d=\"M 20.5625 224.64 \r\nL 20.5625 7.2 \r\n\" style=\"fill:none;stroke:#000000;stroke-linecap:square;stroke-linejoin:miter;stroke-width:0.8;\"/>\r\n   </g>\r\n   <g id=\"patch_4\">\r\n    <path d=\"M 238.0025 224.64 \r\nL 238.0025 7.2 \r\n\" style=\"fill:none;stroke:#000000;stroke-linecap:square;stroke-linejoin:miter;stroke-width:0.8;\"/>\r\n   </g>\r\n   <g id=\"patch_5\">\r\n    <path d=\"M 20.5625 224.64 \r\nL 238.0025 224.64 \r\n\" style=\"fill:none;stroke:#000000;stroke-linecap:square;stroke-linejoin:miter;stroke-width:0.8;\"/>\r\n   </g>\r\n   <g id=\"patch_6\">\r\n    <path d=\"M 20.5625 7.2 \r\nL 238.0025 7.2 \r\n\" style=\"fill:none;stroke:#000000;stroke-linecap:square;stroke-linejoin:miter;stroke-width:0.8;\"/>\r\n   </g>\r\n  </g>\r\n </g>\r\n <defs>\r\n  <clipPath id=\"p9ccafd3912\">\r\n   <rect height=\"217.44\" width=\"217.44\" x=\"20.5625\" y=\"7.2\"/>\r\n  </clipPath>\r\n </defs>\r\n</svg>\r\n",
      "image/png": "[encoded data removed]"
     },
     "metadata": {
      "needs_background": "light"
     }
    }
   ],
   "source": [
    "model_name_10x10_200N = response.json()[\"operation-location\"]\n",
    "model_weights_10x10_200N = download(model_name_10x10_200N)\n",
    "view(model_weights_10x10_200N)"
   ]
  },
  {
   "cell_type": "markdown",
   "metadata": {},
   "source": [
    "- How long does this take?\n",
    "<p style=\"color:#FF4500\">Running this training independantly (i.e. server is only performing this task), it was observed that it takes less than <b>10 seconds</b> to train.</p>\n",
    "\n",
    "<table style=\"width:20%;text-align: center\">\n",
    "  <tr>\n",
    "    <th>Type</th>\n",
    "    <th>Average Time</th>\n",
    "  </tr>\n",
    "   <tr>\n",
    "    <td>Dockerised</td>\n",
    "    <td>~ 7.3 seconds</td>\n",
    "  </tr>\n",
    "  <tr>\n",
    "    <td>EDIT: Dockerised with Vectorization</td>\n",
    "    <td style=\"color:#FF4500\">~ 0.3-0.4 seconds</td>\n",
    "  </tr>\n",
    "  <tr>\n",
    "    <td>Not Dockerised</td>\n",
    "    <td>~ 20 seconds</td>\n",
    "  </tr>\n",
    "</table>"
   ]
  },
  {
   "cell_type": "markdown",
   "metadata": {},
   "source": [
    "- What does the map look like?\n",
    "<p style='color:#FF4500;'> The map looks very same as 10x10 100N run with change in absolute positions. A light color is associated with colors that have higher average eucledian distance from BMU. For example, BMU for a green input-training-item have a cluster with the lightest-green being out far. BMU must be at the centre of a particular group, and the more closer a node is to BMU, the more similar/dark the color of node becomes.</p>"
   ]
  },
  {
   "cell_type": "markdown",
   "metadata": {},
   "source": [
    "## 2.3 Train a 10x10 network for 500 iterations"
   ]
  },
  {
   "cell_type": "code",
   "execution_count": 16,
   "metadata": {},
   "outputs": [
    {
     "output_type": "execute_result",
     "data": {
      "text/plain": [
       "{'grid_shape': [10, 10],\n",
       " 'max_iterations': 500,\n",
       " 'learning_rate': 0.1,\n",
       " 'training_data': [[0.09803922, 0.78823529, 0.27058824],\n",
       "  [0.17254902, 0.8745098, 0.18823529],\n",
       "  [0.82352941, 0.6, 0.49411765],\n",
       "  [0.83529412, 0.56078431, 0.65098039],\n",
       "  [0.85098039, 0.74509804, 0.54509804],\n",
       "  [0.06666667, 0.3254902, 0.63529412],\n",
       "  [0.1254902, 0.56470588, 0.09411765],\n",
       "  [0.82352941, 0.00392157, 0.61176471],\n",
       "  [0.91764706, 0.85882353, 0.70980392],\n",
       "  [0.38039216, 0.68627451, 0.70980392]],\n",
       " 'training_data_shape': (10, 3),\n",
       " 'debug_mode': False,\n",
       " 'verbose': False}"
      ]
     },
     "metadata": {},
     "execution_count": 16
    }
   ],
   "source": [
    "payload[\"max_iterations\"] = 500\n",
    "payload"
   ]
  },
  {
   "cell_type": "code",
   "execution_count": 17,
   "metadata": {
    "tags": []
   },
   "outputs": [
    {
     "output_type": "execute_result",
     "data": {
      "text/plain": [
       "b'{\"message\":\"Model training has finished and time taken is 1.27 seconds.\",\"operation-location\":\"07-04-2021_02h30m51sT_10X10_500N_0.1LR\"}'"
      ]
     },
     "metadata": {},
     "execution_count": 17
    }
   ],
   "source": [
    "response = req.post(url=f\"{endpoint}/train/\", data=json.dumps(payload))\n",
    "response.content"
   ]
  },
  {
   "cell_type": "markdown",
   "metadata": {},
   "source": [
    "#### Download/View"
   ]
  },
  {
   "cell_type": "code",
   "execution_count": 18,
   "metadata": {
    "tags": []
   },
   "outputs": [
    {
     "output_type": "display_data",
     "data": {
      "text/plain": "<Figure size 432x288 with 1 Axes>",
      "image/svg+xml": "<?xml version=\"1.0\" encoding=\"utf-8\" standalone=\"no\"?>\r\n<!DOCTYPE svg PUBLIC \"-//W3C//DTD SVG 1.1//EN\"\r\n  \"http://www.w3.org/Graphics/SVG/1.1/DTD/svg11.dtd\">\r\n<!-- Created with matplotlib (https://matplotlib.org/) -->\r\n<svg height=\"248.518125pt\" version=\"1.1\" viewBox=\"0 0 245.2025 248.518125\" width=\"245.2025pt\" xmlns=\"http://www.w3.org/2000/svg\" xmlns:xlink=\"http://www.w3.org/1999/xlink\">\r\n <metadata>\r\n  <rdf:RDF xmlns:cc=\"http://creativecommons.org/ns#\" xmlns:dc=\"http://purl.org/dc/elements/1.1/\" xmlns:rdf=\"http://www.w3.org/1999/02/22-rdf-syntax-ns#\">\r\n   <cc:Work>\r\n    <dc:type rdf:resource=\"http://purl.org/dc/dcmitype/StillImage\"/>\r\n    <dc:date>2021-04-07T12:30:53.543594</dc:date>\r\n    <dc:format>image/svg+xml</dc:format>\r\n    <dc:creator>\r\n     <cc:Agent>\r\n      <dc:title>Matplotlib v3.3.4, https://matplotlib.org/</dc:title>\r\n     </cc:Agent>\r\n    </dc:creator>\r\n   </cc:Work>\r\n  </rdf:RDF>\r\n </metadata>\r\n <defs>\r\n  <style type=\"text/css\">*{stroke-linecap:butt;stroke-linejoin:round;}</style>\r\n </defs>\r\n <g id=\"figure_1\">\r\n  <g id=\"patch_1\">\r\n   <path d=\"M 0 248.518125 \r\nL 245.2025 248.518125 \r\nL 245.2025 0 \r\nL 0 0 \r\nz\r\n\" style=\"fill:none;\"/>\r\n  </g>\r\n  <g id=\"axes_1\">\r\n   <g id=\"patch_2\">\r\n    <path d=\"M 20.5625 224.64 \r\nL 238.0025 224.64 \r\nL 238.0025 7.2 \r\nL 20.5625 7.2 \r\nz\r\n\" style=\"fill:#ffffff;\"/>\r\n   </g>\r\n   <g clip-path=\"url(#pdf936818c6)\">\r\n    <image height=\"218\" id=\"image48f29c16dd\" transform=\"scale(1 -1)translate(0 -218)\" width=\"218\" x=\"20.5625\" xlink:href=\"data:image/png;base64,\r\niVBORw0KGgoAAAANSUhEUgAAANoAAADaCAYAAADAHVzbAAAEiklEQVR4nO3cTYodZRiG4bdO1fnptGmDMZH8KBEHGYgoDpy4AHEbrtANuA6dqEhAFHEQSDRt96ly7Px7HxCuawEPzXf6pmbv9PFPn27V4aZn9p8f/xq+efvz6+GbVVVb0xss69yy+8mLZy2733z79fDN9188HL5ZVTWdp5bdXcsq8B9CgwChQYDQIEBoECA0CBAaBAgNAoQGAUKDAKFBgNAgQGgQIDQIEBoECA0ChAYBQoMAoUGA0CBAaBCwbGtPa9t5bdmtafyVomnqeYO5eq5gXdWpZffJ8e2W3cOjhstSL8dPVlVN165gwf+W0CBAaBAgNAgQGgQIDQKEBgFCgwChQYDQIEBoECA0CBAaBAgNAoQGAUKDAKFBgNAgQGgQIDQIEBoELG/+vuhZvu25gjXP4zfvnZbxo1X1eO1528/Wpy27nz941rJ778vxP9qu5wlqetXwD1a+aBAhNAgQGgQIDQKEBgFCgwChQYDQIEBoECA0CBAaBAgNAoQGAUKDAKFBgNAgQGgQIDQIEBoECA0C2o7zTNvWsntxPA7f/OjOafhmVdVXN09adp9v77bsXu573mH+YPzm9GAaP1pV07nnUJMvGgQIDQKEBgFCgwChQYDQIEBoECA0CBAaBAgNAoQGAUKDAKFBgNAgQGgQIDQIEBoECA0ChAYBQoMAoUHAsm0914S6dmveD598eOi5KvXhrmf37jr+ElhV1W5q+s2W8RfRpp6DXVXnnjfwRYMAoUGA0CBAaBAgNAgQGgQIDQKEBgFCgwChQYDQIEBoECA0CBAaBAgNAoQGAUKDAKFBgNAgQGgQIDQIWGptaq3pCtZyczF+c7s3fLOqaluaTjU1/WbTruc369idrs/DN6uq6nptmfVFgwChQYDQIEBoECA0CBAaBAgNAoQGAUKDAKFBgNAgQGgQIDQIEBoECA0ChAYBQoMAoUGA0CBAaBAgNAhYtt/utwzP675l9+J2/N97vT4evllV9evp0LJ7OV+37N499lyAmpd5+OZ02/MG9WZpmfVFgwChQYDQIEBoECA0CBAaBAgNAoQGAUKDAKFBgNAgQGgQIDQIEBoECA0ChAYBQoMAoUGA0CBAaBAgNAhYbr/7omV4PvU0fHjvcvjm60dXwzerqr6/s7XsHg4vW3afH1+17C678e8wLz3/X8t+/MWuKl80iBAaBAgNAoQGAUKDAKFBgNAgQGgQIDQIEBoECA0ChAYBQoMAoUGA0CBAaBAgNAgQGgQIDQKEBgHL+fd3WoZvj1PL7u7qNHxzncdvVlX92bJa9cPa87b369yy+3Q/fvdw563hm1VV+1PPri8aBAgNAoQGAUKDAKFBgNAgQGgQIDQIEBoECA0ChAYBQoMAoUGA0CBAaBAgNAgQGgQIDQKEBgFCgwChQcBSTReVtnPPbm3jd6ddz996Uz27f6zHlt1f1quW3UfH8VewlovL4ZtVVfOyb9n1RYMAoUGA0CBAaBAgNAgQGgQIDQKEBgFCgwChQYDQIEBoECA0CBAaBAgNAoQGAUKDAKFBgNAgQGgQIDQI+Be6zWaOtuOaRQAAAABJRU5ErkJggg==\" y=\"-6.64\"/>\r\n   </g>\r\n   <g id=\"matplotlib.axis_1\">\r\n    <g id=\"xtick_1\">\r\n     <g id=\"line2d_1\">\r\n      <defs>\r\n       <path d=\"M 0 0 \r\nL 0 3.5 \r\n\" id=\"m8130d7159e\" style=\"stroke:#000000;stroke-width:0.8;\"/>\r\n      </defs>\r\n      <g>\r\n       <use style=\"stroke:#000000;stroke-width:0.8;\" x=\"31.4345\" xlink:href=\"#m8130d7159e\" y=\"224.64\"/>\r\n      </g>\r\n     </g>\r\n     <g id=\"text_1\">\r\n      <!-- 0 -->\r\n      <g transform=\"translate(28.25325 239.238437)scale(0.1 -0.1)\">\r\n       <defs>\r\n        <path d=\"M 31.78125 66.40625 \r\nQ 24.171875 66.40625 20.328125 58.90625 \r\nQ 16.5 51.421875 16.5 36.375 \r\nQ 16.5 21.390625 20.328125 13.890625 \r\nQ 24.171875 6.390625 31.78125 6.390625 \r\nQ 39.453125 6.390625 43.28125 13.890625 \r\nQ 47.125 21.390625 47.125 36.375 \r\nQ 47.125 51.421875 43.28125 58.90625 \r\nQ 39.453125 66.40625 31.78125 66.40625 \r\nz\r\nM 31.78125 74.21875 \r\nQ 44.046875 74.21875 50.515625 64.515625 \r\nQ 56.984375 54.828125 56.984375 36.375 \r\nQ 56.984375 17.96875 50.515625 8.265625 \r\nQ 44.046875 -1.421875 31.78125 -1.421875 \r\nQ 19.53125 -1.421875 13.0625 8.265625 \r\nQ 6.59375 17.96875 6.59375 36.375 \r\nQ 6.59375 54.828125 13.0625 64.515625 \r\nQ 19.53125 74.21875 31.78125 74.21875 \r\nz\r\n\" id=\"DejaVuSans-48\"/>\r\n       </defs>\r\n       <use xlink:href=\"#DejaVuSans-48\"/>\r\n      </g>\r\n     </g>\r\n    </g>\r\n    <g id=\"xtick_2\">\r\n     <g id=\"line2d_2\">\r\n      <g>\r\n       <use style=\"stroke:#000000;stroke-width:0.8;\" x=\"74.9225\" xlink:href=\"#m8130d7159e\" y=\"224.64\"/>\r\n      </g>\r\n     </g>\r\n     <g id=\"text_2\">\r\n      <!-- 2 -->\r\n      <g transform=\"translate(71.74125 239.238437)scale(0.1 -0.1)\">\r\n       <defs>\r\n        <path d=\"M 19.1875 8.296875 \r\nL 53.609375 8.296875 \r\nL 53.609375 0 \r\nL 7.328125 0 \r\nL 7.328125 8.296875 \r\nQ 12.9375 14.109375 22.625 23.890625 \r\nQ 32.328125 33.6875 34.8125 36.53125 \r\nQ 39.546875 41.84375 41.421875 45.53125 \r\nQ 43.3125 49.21875 43.3125 52.78125 \r\nQ 43.3125 58.59375 39.234375 62.25 \r\nQ 35.15625 65.921875 28.609375 65.921875 \r\nQ 23.96875 65.921875 18.8125 64.3125 \r\nQ 13.671875 62.703125 7.8125 59.421875 \r\nL 7.8125 69.390625 \r\nQ 13.765625 71.78125 18.9375 73 \r\nQ 24.125 74.21875 28.421875 74.21875 \r\nQ 39.75 74.21875 46.484375 68.546875 \r\nQ 53.21875 62.890625 53.21875 53.421875 \r\nQ 53.21875 48.921875 51.53125 44.890625 \r\nQ 49.859375 40.875 45.40625 35.40625 \r\nQ 44.1875 33.984375 37.640625 27.21875 \r\nQ 31.109375 20.453125 19.1875 8.296875 \r\nz\r\n\" id=\"DejaVuSans-50\"/>\r\n       </defs>\r\n       <use xlink:href=\"#DejaVuSans-50\"/>\r\n      </g>\r\n     </g>\r\n    </g>\r\n    <g id=\"xtick_3\">\r\n     <g id=\"line2d_3\">\r\n      <g>\r\n       <use style=\"stroke:#000000;stroke-width:0.8;\" x=\"118.4105\" xlink:href=\"#m8130d7159e\" y=\"224.64\"/>\r\n      </g>\r\n     </g>\r\n     <g id=\"text_3\">\r\n      <!-- 4 -->\r\n      <g transform=\"translate(115.22925 239.238437)scale(0.1 -0.1)\">\r\n       <defs>\r\n        <path d=\"M 37.796875 64.3125 \r\nL 12.890625 25.390625 \r\nL 37.796875 25.390625 \r\nz\r\nM 35.203125 72.90625 \r\nL 47.609375 72.90625 \r\nL 47.609375 25.390625 \r\nL 58.015625 25.390625 \r\nL 58.015625 17.1875 \r\nL 47.609375 17.1875 \r\nL 47.609375 0 \r\nL 37.796875 0 \r\nL 37.796875 17.1875 \r\nL 4.890625 17.1875 \r\nL 4.890625 26.703125 \r\nz\r\n\" id=\"DejaVuSans-52\"/>\r\n       </defs>\r\n       <use xlink:href=\"#DejaVuSans-52\"/>\r\n      </g>\r\n     </g>\r\n    </g>\r\n    <g id=\"xtick_4\">\r\n     <g id=\"line2d_4\">\r\n      <g>\r\n       <use style=\"stroke:#000000;stroke-width:0.8;\" x=\"161.8985\" xlink:href=\"#m8130d7159e\" y=\"224.64\"/>\r\n      </g>\r\n     </g>\r\n     <g id=\"text_4\">\r\n      <!-- 6 -->\r\n      <g transform=\"translate(158.71725 239.238437)scale(0.1 -0.1)\">\r\n       <defs>\r\n        <path d=\"M 33.015625 40.375 \r\nQ 26.375 40.375 22.484375 35.828125 \r\nQ 18.609375 31.296875 18.609375 23.390625 \r\nQ 18.609375 15.53125 22.484375 10.953125 \r\nQ 26.375 6.390625 33.015625 6.390625 \r\nQ 39.65625 6.390625 43.53125 10.953125 \r\nQ 47.40625 15.53125 47.40625 23.390625 \r\nQ 47.40625 31.296875 43.53125 35.828125 \r\nQ 39.65625 40.375 33.015625 40.375 \r\nz\r\nM 52.59375 71.296875 \r\nL 52.59375 62.3125 \r\nQ 48.875 64.0625 45.09375 64.984375 \r\nQ 41.3125 65.921875 37.59375 65.921875 \r\nQ 27.828125 65.921875 22.671875 59.328125 \r\nQ 17.53125 52.734375 16.796875 39.40625 \r\nQ 19.671875 43.65625 24.015625 45.921875 \r\nQ 28.375 48.1875 33.59375 48.1875 \r\nQ 44.578125 48.1875 50.953125 41.515625 \r\nQ 57.328125 34.859375 57.328125 23.390625 \r\nQ 57.328125 12.15625 50.6875 5.359375 \r\nQ 44.046875 -1.421875 33.015625 -1.421875 \r\nQ 20.359375 -1.421875 13.671875 8.265625 \r\nQ 6.984375 17.96875 6.984375 36.375 \r\nQ 6.984375 53.65625 15.1875 63.9375 \r\nQ 23.390625 74.21875 37.203125 74.21875 \r\nQ 40.921875 74.21875 44.703125 73.484375 \r\nQ 48.484375 72.75 52.59375 71.296875 \r\nz\r\n\" id=\"DejaVuSans-54\"/>\r\n       </defs>\r\n       <use xlink:href=\"#DejaVuSans-54\"/>\r\n      </g>\r\n     </g>\r\n    </g>\r\n    <g id=\"xtick_5\">\r\n     <g id=\"line2d_5\">\r\n      <g>\r\n       <use style=\"stroke:#000000;stroke-width:0.8;\" x=\"205.3865\" xlink:href=\"#m8130d7159e\" y=\"224.64\"/>\r\n      </g>\r\n     </g>\r\n     <g id=\"text_5\">\r\n      <!-- 8 -->\r\n      <g transform=\"translate(202.20525 239.238437)scale(0.1 -0.1)\">\r\n       <defs>\r\n        <path d=\"M 31.78125 34.625 \r\nQ 24.75 34.625 20.71875 30.859375 \r\nQ 16.703125 27.09375 16.703125 20.515625 \r\nQ 16.703125 13.921875 20.71875 10.15625 \r\nQ 24.75 6.390625 31.78125 6.390625 \r\nQ 38.8125 6.390625 42.859375 10.171875 \r\nQ 46.921875 13.96875 46.921875 20.515625 \r\nQ 46.921875 27.09375 42.890625 30.859375 \r\nQ 38.875 34.625 31.78125 34.625 \r\nz\r\nM 21.921875 38.8125 \r\nQ 15.578125 40.375 12.03125 44.71875 \r\nQ 8.5 49.078125 8.5 55.328125 \r\nQ 8.5 64.0625 14.71875 69.140625 \r\nQ 20.953125 74.21875 31.78125 74.21875 \r\nQ 42.671875 74.21875 48.875 69.140625 \r\nQ 55.078125 64.0625 55.078125 55.328125 \r\nQ 55.078125 49.078125 51.53125 44.71875 \r\nQ 48 40.375 41.703125 38.8125 \r\nQ 48.828125 37.15625 52.796875 32.3125 \r\nQ 56.78125 27.484375 56.78125 20.515625 \r\nQ 56.78125 9.90625 50.3125 4.234375 \r\nQ 43.84375 -1.421875 31.78125 -1.421875 \r\nQ 19.734375 -1.421875 13.25 4.234375 \r\nQ 6.78125 9.90625 6.78125 20.515625 \r\nQ 6.78125 27.484375 10.78125 32.3125 \r\nQ 14.796875 37.15625 21.921875 38.8125 \r\nz\r\nM 18.3125 54.390625 \r\nQ 18.3125 48.734375 21.84375 45.5625 \r\nQ 25.390625 42.390625 31.78125 42.390625 \r\nQ 38.140625 42.390625 41.71875 45.5625 \r\nQ 45.3125 48.734375 45.3125 54.390625 \r\nQ 45.3125 60.0625 41.71875 63.234375 \r\nQ 38.140625 66.40625 31.78125 66.40625 \r\nQ 25.390625 66.40625 21.84375 63.234375 \r\nQ 18.3125 60.0625 18.3125 54.390625 \r\nz\r\n\" id=\"DejaVuSans-56\"/>\r\n       </defs>\r\n       <use xlink:href=\"#DejaVuSans-56\"/>\r\n      </g>\r\n     </g>\r\n    </g>\r\n   </g>\r\n   <g id=\"matplotlib.axis_2\">\r\n    <g id=\"ytick_1\">\r\n     <g id=\"line2d_6\">\r\n      <defs>\r\n       <path d=\"M 0 0 \r\nL -3.5 0 \r\n\" id=\"m51d15977ea\" style=\"stroke:#000000;stroke-width:0.8;\"/>\r\n      </defs>\r\n      <g>\r\n       <use style=\"stroke:#000000;stroke-width:0.8;\" x=\"20.5625\" xlink:href=\"#m51d15977ea\" y=\"18.072\"/>\r\n      </g>\r\n     </g>\r\n     <g id=\"text_6\">\r\n      <!-- 0 -->\r\n      <g transform=\"translate(7.2 21.871219)scale(0.1 -0.1)\">\r\n       <use xlink:href=\"#DejaVuSans-48\"/>\r\n      </g>\r\n     </g>\r\n    </g>\r\n    <g id=\"ytick_2\">\r\n     <g id=\"line2d_7\">\r\n      <g>\r\n       <use style=\"stroke:#000000;stroke-width:0.8;\" x=\"20.5625\" xlink:href=\"#m51d15977ea\" y=\"61.56\"/>\r\n      </g>\r\n     </g>\r\n     <g id=\"text_7\">\r\n      <!-- 2 -->\r\n      <g transform=\"translate(7.2 65.359219)scale(0.1 -0.1)\">\r\n       <use xlink:href=\"#DejaVuSans-50\"/>\r\n      </g>\r\n     </g>\r\n    </g>\r\n    <g id=\"ytick_3\">\r\n     <g id=\"line2d_8\">\r\n      <g>\r\n       <use style=\"stroke:#000000;stroke-width:0.8;\" x=\"20.5625\" xlink:href=\"#m51d15977ea\" y=\"105.048\"/>\r\n      </g>\r\n     </g>\r\n     <g id=\"text_8\">\r\n      <!-- 4 -->\r\n      <g transform=\"translate(7.2 108.847219)scale(0.1 -0.1)\">\r\n       <use xlink:href=\"#DejaVuSans-52\"/>\r\n      </g>\r\n     </g>\r\n    </g>\r\n    <g id=\"ytick_4\">\r\n     <g id=\"line2d_9\">\r\n      <g>\r\n       <use style=\"stroke:#000000;stroke-width:0.8;\" x=\"20.5625\" xlink:href=\"#m51d15977ea\" y=\"148.536\"/>\r\n      </g>\r\n     </g>\r\n     <g id=\"text_9\">\r\n      <!-- 6 -->\r\n      <g transform=\"translate(7.2 152.335219)scale(0.1 -0.1)\">\r\n       <use xlink:href=\"#DejaVuSans-54\"/>\r\n      </g>\r\n     </g>\r\n    </g>\r\n    <g id=\"ytick_5\">\r\n     <g id=\"line2d_10\">\r\n      <g>\r\n       <use style=\"stroke:#000000;stroke-width:0.8;\" x=\"20.5625\" xlink:href=\"#m51d15977ea\" y=\"192.024\"/>\r\n      </g>\r\n     </g>\r\n     <g id=\"text_10\">\r\n      <!-- 8 -->\r\n      <g transform=\"translate(7.2 195.823219)scale(0.1 -0.1)\">\r\n       <use xlink:href=\"#DejaVuSans-56\"/>\r\n      </g>\r\n     </g>\r\n    </g>\r\n   </g>\r\n   <g id=\"patch_3\">\r\n    <path d=\"M 20.5625 224.64 \r\nL 20.5625 7.2 \r\n\" style=\"fill:none;stroke:#000000;stroke-linecap:square;stroke-linejoin:miter;stroke-width:0.8;\"/>\r\n   </g>\r\n   <g id=\"patch_4\">\r\n    <path d=\"M 238.0025 224.64 \r\nL 238.0025 7.2 \r\n\" style=\"fill:none;stroke:#000000;stroke-linecap:square;stroke-linejoin:miter;stroke-width:0.8;\"/>\r\n   </g>\r\n   <g id=\"patch_5\">\r\n    <path d=\"M 20.5625 224.64 \r\nL 238.0025 224.64 \r\n\" style=\"fill:none;stroke:#000000;stroke-linecap:square;stroke-linejoin:miter;stroke-width:0.8;\"/>\r\n   </g>\r\n   <g id=\"patch_6\">\r\n    <path d=\"M 20.5625 7.2 \r\nL 238.0025 7.2 \r\n\" style=\"fill:none;stroke:#000000;stroke-linecap:square;stroke-linejoin:miter;stroke-width:0.8;\"/>\r\n   </g>\r\n  </g>\r\n </g>\r\n <defs>\r\n  <clipPath id=\"pdf936818c6\">\r\n   <rect height=\"217.44\" width=\"217.44\" x=\"20.5625\" y=\"7.2\"/>\r\n  </clipPath>\r\n </defs>\r\n</svg>\r\n",
      "image/png": "[encoded data removed]"
     },
     "metadata": {
      "needs_background": "light"
     }
    }
   ],
   "source": [
    "model_name_10x10_500N = response.json()[\"operation-location\"]\n",
    "model_weights_10x10_500N = download(model_name_10x10_500N)\n",
    "view(model_weights_10x10_500N)"
   ]
  },
  {
   "cell_type": "markdown",
   "metadata": {},
   "source": [
    "- How long does this take?\n",
    "\n",
    "<p style=\"color:#FF4500\">Running this training independantly (i.e. server is only performing this task), it was observed that it takes less than <b>20 seconds</b> to train.</p>\n",
    "\n",
    "<table style=\"width:20%;text-align: center\">\n",
    "  <tr>\n",
    "    <th>Type</th>\n",
    "    <th>Average Time</th>\n",
    "  </tr>\n",
    "  <tr>\n",
    "    <td>Dockerised</td>\n",
    "    <td>~ 20 seconds</td>\n",
    "  </tr>\n",
    "  <tr>\n",
    "    <td>EDIT: Dockerised with Vectorization</td>\n",
    "    <td style=\"color:#FF4500\">~ 1.2 - 1.5 seconds</td>\n",
    "  </tr>\n",
    "  <tr>\n",
    "    <td>Not Dockerised</td>\n",
    "    <td>~ 35 seconds</td>\n",
    "  </tr>\n",
    "</table>"
   ]
  },
  {
   "cell_type": "markdown",
   "metadata": {},
   "source": [
    "\n",
    "- What does the map look like?\n",
    "<p style='color:#FF4500;'> Model is better able to move similar group of colours to a area on grid than previous run. With more iterations (500 > 100,200), the algorithm gets more oppurtunities to map the training input to lower dimensions - making a color/node more closer to the BMU.</p>"
   ]
  },
  {
   "cell_type": "markdown",
   "metadata": {},
   "source": [
    "---"
   ]
  },
  {
   "cell_type": "markdown",
   "metadata": {},
   "source": [
    "## POST /atrain/ :  Asynchronous Training \n",
    "Allows you to train the grid Asynchronously. That means you dont have to wait till the grid completes its training to get REST response. Both ```/train/```, ```/atrain/``` will have ```operation-location``` key:value pair in the response. You can futher use it to download the trained model using ```/download/```\n",
    "\n",
    "<p style='color:#FF4500;'>Useful and practical for training large grids of sizes of order >= 100X100</p>"
   ]
  },
  {
   "cell_type": "markdown",
   "metadata": {},
   "source": [
    "## 3. Train a 100x100 network over 1000 iterations"
   ]
  },
  {
   "source": [
    "#### Training using the SYNCHRONOUS /train/"
   ],
   "cell_type": "markdown",
   "metadata": {}
  },
  {
   "cell_type": "code",
   "execution_count": 26,
   "metadata": {},
   "outputs": [
    {
     "output_type": "execute_result",
     "data": {
      "text/plain": [
       "b'{\"message\":\"Model training has finished and time taken is 24.75 seconds.\",\"operation-location\":\"07-04-2021_02h35m51sT_100X100_1000N_0.1LR\"}'"
      ]
     },
     "metadata": {},
     "execution_count": 26
    }
   ],
   "source": [
    "payload[\"grid_shape\"] = [100, 100]\n",
    "payload[\"max_iterations\"] = 1000\n",
    "response = req.post(url=f\"{endpoint}/train/\", data=json.dumps(payload))\n",
    "response.content"
   ]
  },
  {
   "cell_type": "code",
   "execution_count": 27,
   "metadata": {},
   "outputs": [
    {
     "output_type": "display_data",
     "data": {
      "text/plain": "<Figure size 432x288 with 1 Axes>",
      "image/svg+xml": "<?xml version=\"1.0\" encoding=\"utf-8\" standalone=\"no\"?>\r\n<!DOCTYPE svg PUBLIC \"-//W3C//DTD SVG 1.1//EN\"\r\n  \"http://www.w3.org/Graphics/SVG/1.1/DTD/svg11.dtd\">\r\n<!-- Created with matplotlib (https://matplotlib.org/) -->\r\n<svg height=\"251.230144pt\" version=\"1.1\" viewBox=\"0 0 251.565 251.230144\" width=\"251.565pt\" xmlns=\"http://www.w3.org/2000/svg\" xmlns:xlink=\"http://www.w3.org/1999/xlink\">\r\n <metadata>\r\n  <rdf:RDF xmlns:cc=\"http://creativecommons.org/ns#\" xmlns:dc=\"http://purl.org/dc/elements/1.1/\" xmlns:rdf=\"http://www.w3.org/1999/02/22-rdf-syntax-ns#\">\r\n   <cc:Work>\r\n    <dc:type rdf:resource=\"http://purl.org/dc/dcmitype/StillImage\"/>\r\n    <dc:date>2021-04-07T12:36:17.799795</dc:date>\r\n    <dc:format>image/svg+xml</dc:format>\r\n    <dc:creator>\r\n     <cc:Agent>\r\n      <dc:title>Matplotlib v3.3.4, https://matplotlib.org/</dc:title>\r\n     </cc:Agent>\r\n    </dc:creator>\r\n   </cc:Work>\r\n  </rdf:RDF>\r\n </metadata>\r\n <defs>\r\n  <style type=\"text/css\">*{stroke-linecap:butt;stroke-linejoin:round;}</style>\r\n </defs>\r\n <g id=\"figure_1\">\r\n  <g id=\"patch_1\">\r\n   <path d=\"M 0 251.230144 \r\nL 251.565 251.230144 \r\nL 251.565 0 \r\nL 0 0 \r\nz\r\n\" style=\"fill:none;\"/>\r\n  </g>\r\n  <g id=\"axes_1\">\r\n   <g id=\"patch_2\">\r\n    <path d=\"M 26.925 227.352019 \r\nL 244.365 227.352019 \r\nL 244.365 9.912019 \r\nL 26.925 9.912019 \r\nz\r\n\" style=\"fill:#ffffff;\"/>\r\n   </g>\r\n   <g clip-path=\"url(#p0ec008b3ed)\">\r\n    <image height=\"218\" id=\"imageaf0ffca93c\" transform=\"scale(1 -1)translate(0 -218)\" width=\"218\" x=\"26.925\" xlink:href=\"data:image/png;base64,\r\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\" y=\"-9.352019\"/>\r\n   </g>\r\n   <g id=\"matplotlib.axis_1\">\r\n    <g id=\"xtick_1\">\r\n     <g id=\"line2d_1\">\r\n      <defs>\r\n       <path d=\"M 0 0 \r\nL 0 3.5 \r\n\" id=\"m9e384b052f\" style=\"stroke:#000000;stroke-width:0.8;\"/>\r\n      </defs>\r\n      <g>\r\n       <use style=\"stroke:#000000;stroke-width:0.8;\" x=\"28.0122\" xlink:href=\"#m9e384b052f\" y=\"227.352019\"/>\r\n      </g>\r\n     </g>\r\n     <g id=\"text_1\">\r\n      <!-- 0 -->\r\n      <g transform=\"translate(24.83095 241.950456)scale(0.1 -0.1)\">\r\n       <defs>\r\n        <path d=\"M 31.78125 66.40625 \r\nQ 24.171875 66.40625 20.328125 58.90625 \r\nQ 16.5 51.421875 16.5 36.375 \r\nQ 16.5 21.390625 20.328125 13.890625 \r\nQ 24.171875 6.390625 31.78125 6.390625 \r\nQ 39.453125 6.390625 43.28125 13.890625 \r\nQ 47.125 21.390625 47.125 36.375 \r\nQ 47.125 51.421875 43.28125 58.90625 \r\nQ 39.453125 66.40625 31.78125 66.40625 \r\nz\r\nM 31.78125 74.21875 \r\nQ 44.046875 74.21875 50.515625 64.515625 \r\nQ 56.984375 54.828125 56.984375 36.375 \r\nQ 56.984375 17.96875 50.515625 8.265625 \r\nQ 44.046875 -1.421875 31.78125 -1.421875 \r\nQ 19.53125 -1.421875 13.0625 8.265625 \r\nQ 6.59375 17.96875 6.59375 36.375 \r\nQ 6.59375 54.828125 13.0625 64.515625 \r\nQ 19.53125 74.21875 31.78125 74.21875 \r\nz\r\n\" id=\"DejaVuSans-48\"/>\r\n       </defs>\r\n       <use xlink:href=\"#DejaVuSans-48\"/>\r\n      </g>\r\n     </g>\r\n    </g>\r\n    <g id=\"xtick_2\">\r\n     <g id=\"line2d_2\">\r\n      <g>\r\n       <use style=\"stroke:#000000;stroke-width:0.8;\" x=\"71.5002\" xlink:href=\"#m9e384b052f\" y=\"227.352019\"/>\r\n      </g>\r\n     </g>\r\n     <g id=\"text_2\">\r\n      <!-- 20 -->\r\n      <g transform=\"translate(65.1377 241.950456)scale(0.1 -0.1)\">\r\n       <defs>\r\n        <path d=\"M 19.1875 8.296875 \r\nL 53.609375 8.296875 \r\nL 53.609375 0 \r\nL 7.328125 0 \r\nL 7.328125 8.296875 \r\nQ 12.9375 14.109375 22.625 23.890625 \r\nQ 32.328125 33.6875 34.8125 36.53125 \r\nQ 39.546875 41.84375 41.421875 45.53125 \r\nQ 43.3125 49.21875 43.3125 52.78125 \r\nQ 43.3125 58.59375 39.234375 62.25 \r\nQ 35.15625 65.921875 28.609375 65.921875 \r\nQ 23.96875 65.921875 18.8125 64.3125 \r\nQ 13.671875 62.703125 7.8125 59.421875 \r\nL 7.8125 69.390625 \r\nQ 13.765625 71.78125 18.9375 73 \r\nQ 24.125 74.21875 28.421875 74.21875 \r\nQ 39.75 74.21875 46.484375 68.546875 \r\nQ 53.21875 62.890625 53.21875 53.421875 \r\nQ 53.21875 48.921875 51.53125 44.890625 \r\nQ 49.859375 40.875 45.40625 35.40625 \r\nQ 44.1875 33.984375 37.640625 27.21875 \r\nQ 31.109375 20.453125 19.1875 8.296875 \r\nz\r\n\" id=\"DejaVuSans-50\"/>\r\n       </defs>\r\n       <use xlink:href=\"#DejaVuSans-50\"/>\r\n       <use x=\"63.623047\" xlink:href=\"#DejaVuSans-48\"/>\r\n      </g>\r\n     </g>\r\n    </g>\r\n    <g id=\"xtick_3\">\r\n     <g id=\"line2d_3\">\r\n      <g>\r\n       <use style=\"stroke:#000000;stroke-width:0.8;\" x=\"114.9882\" xlink:href=\"#m9e384b052f\" y=\"227.352019\"/>\r\n      </g>\r\n     </g>\r\n     <g id=\"text_3\">\r\n      <!-- 40 -->\r\n      <g transform=\"translate(108.6257 241.950456)scale(0.1 -0.1)\">\r\n       <defs>\r\n        <path d=\"M 37.796875 64.3125 \r\nL 12.890625 25.390625 \r\nL 37.796875 25.390625 \r\nz\r\nM 35.203125 72.90625 \r\nL 47.609375 72.90625 \r\nL 47.609375 25.390625 \r\nL 58.015625 25.390625 \r\nL 58.015625 17.1875 \r\nL 47.609375 17.1875 \r\nL 47.609375 0 \r\nL 37.796875 0 \r\nL 37.796875 17.1875 \r\nL 4.890625 17.1875 \r\nL 4.890625 26.703125 \r\nz\r\n\" id=\"DejaVuSans-52\"/>\r\n       </defs>\r\n       <use xlink:href=\"#DejaVuSans-52\"/>\r\n       <use x=\"63.623047\" xlink:href=\"#DejaVuSans-48\"/>\r\n      </g>\r\n     </g>\r\n    </g>\r\n    <g id=\"xtick_4\">\r\n     <g id=\"line2d_4\">\r\n      <g>\r\n       <use style=\"stroke:#000000;stroke-width:0.8;\" x=\"158.4762\" xlink:href=\"#m9e384b052f\" y=\"227.352019\"/>\r\n      </g>\r\n     </g>\r\n     <g id=\"text_4\">\r\n      <!-- 60 -->\r\n      <g transform=\"translate(152.1137 241.950456)scale(0.1 -0.1)\">\r\n       <defs>\r\n        <path d=\"M 33.015625 40.375 \r\nQ 26.375 40.375 22.484375 35.828125 \r\nQ 18.609375 31.296875 18.609375 23.390625 \r\nQ 18.609375 15.53125 22.484375 10.953125 \r\nQ 26.375 6.390625 33.015625 6.390625 \r\nQ 39.65625 6.390625 43.53125 10.953125 \r\nQ 47.40625 15.53125 47.40625 23.390625 \r\nQ 47.40625 31.296875 43.53125 35.828125 \r\nQ 39.65625 40.375 33.015625 40.375 \r\nz\r\nM 52.59375 71.296875 \r\nL 52.59375 62.3125 \r\nQ 48.875 64.0625 45.09375 64.984375 \r\nQ 41.3125 65.921875 37.59375 65.921875 \r\nQ 27.828125 65.921875 22.671875 59.328125 \r\nQ 17.53125 52.734375 16.796875 39.40625 \r\nQ 19.671875 43.65625 24.015625 45.921875 \r\nQ 28.375 48.1875 33.59375 48.1875 \r\nQ 44.578125 48.1875 50.953125 41.515625 \r\nQ 57.328125 34.859375 57.328125 23.390625 \r\nQ 57.328125 12.15625 50.6875 5.359375 \r\nQ 44.046875 -1.421875 33.015625 -1.421875 \r\nQ 20.359375 -1.421875 13.671875 8.265625 \r\nQ 6.984375 17.96875 6.984375 36.375 \r\nQ 6.984375 53.65625 15.1875 63.9375 \r\nQ 23.390625 74.21875 37.203125 74.21875 \r\nQ 40.921875 74.21875 44.703125 73.484375 \r\nQ 48.484375 72.75 52.59375 71.296875 \r\nz\r\n\" id=\"DejaVuSans-54\"/>\r\n       </defs>\r\n       <use xlink:href=\"#DejaVuSans-54\"/>\r\n       <use x=\"63.623047\" xlink:href=\"#DejaVuSans-48\"/>\r\n      </g>\r\n     </g>\r\n    </g>\r\n    <g id=\"xtick_5\">\r\n     <g id=\"line2d_5\">\r\n      <g>\r\n       <use style=\"stroke:#000000;stroke-width:0.8;\" x=\"201.9642\" xlink:href=\"#m9e384b052f\" y=\"227.352019\"/>\r\n      </g>\r\n     </g>\r\n     <g id=\"text_5\">\r\n      <!-- 80 -->\r\n      <g transform=\"translate(195.6017 241.950456)scale(0.1 -0.1)\">\r\n       <defs>\r\n        <path d=\"M 31.78125 34.625 \r\nQ 24.75 34.625 20.71875 30.859375 \r\nQ 16.703125 27.09375 16.703125 20.515625 \r\nQ 16.703125 13.921875 20.71875 10.15625 \r\nQ 24.75 6.390625 31.78125 6.390625 \r\nQ 38.8125 6.390625 42.859375 10.171875 \r\nQ 46.921875 13.96875 46.921875 20.515625 \r\nQ 46.921875 27.09375 42.890625 30.859375 \r\nQ 38.875 34.625 31.78125 34.625 \r\nz\r\nM 21.921875 38.8125 \r\nQ 15.578125 40.375 12.03125 44.71875 \r\nQ 8.5 49.078125 8.5 55.328125 \r\nQ 8.5 64.0625 14.71875 69.140625 \r\nQ 20.953125 74.21875 31.78125 74.21875 \r\nQ 42.671875 74.21875 48.875 69.140625 \r\nQ 55.078125 64.0625 55.078125 55.328125 \r\nQ 55.078125 49.078125 51.53125 44.71875 \r\nQ 48 40.375 41.703125 38.8125 \r\nQ 48.828125 37.15625 52.796875 32.3125 \r\nQ 56.78125 27.484375 56.78125 20.515625 \r\nQ 56.78125 9.90625 50.3125 4.234375 \r\nQ 43.84375 -1.421875 31.78125 -1.421875 \r\nQ 19.734375 -1.421875 13.25 4.234375 \r\nQ 6.78125 9.90625 6.78125 20.515625 \r\nQ 6.78125 27.484375 10.78125 32.3125 \r\nQ 14.796875 37.15625 21.921875 38.8125 \r\nz\r\nM 18.3125 54.390625 \r\nQ 18.3125 48.734375 21.84375 45.5625 \r\nQ 25.390625 42.390625 31.78125 42.390625 \r\nQ 38.140625 42.390625 41.71875 45.5625 \r\nQ 45.3125 48.734375 45.3125 54.390625 \r\nQ 45.3125 60.0625 41.71875 63.234375 \r\nQ 38.140625 66.40625 31.78125 66.40625 \r\nQ 25.390625 66.40625 21.84375 63.234375 \r\nQ 18.3125 60.0625 18.3125 54.390625 \r\nz\r\n\" id=\"DejaVuSans-56\"/>\r\n       </defs>\r\n       <use xlink:href=\"#DejaVuSans-56\"/>\r\n       <use x=\"63.623047\" xlink:href=\"#DejaVuSans-48\"/>\r\n      </g>\r\n     </g>\r\n    </g>\r\n   </g>\r\n   <g id=\"matplotlib.axis_2\">\r\n    <g id=\"ytick_1\">\r\n     <g id=\"line2d_6\">\r\n      <defs>\r\n       <path d=\"M 0 0 \r\nL -3.5 0 \r\n\" id=\"mcba481a58a\" style=\"stroke:#000000;stroke-width:0.8;\"/>\r\n      </defs>\r\n      <g>\r\n       <use style=\"stroke:#000000;stroke-width:0.8;\" x=\"26.925\" xlink:href=\"#mcba481a58a\" y=\"10.999219\"/>\r\n      </g>\r\n     </g>\r\n     <g id=\"text_6\">\r\n      <!-- 0 -->\r\n      <g transform=\"translate(13.5625 14.798437)scale(0.1 -0.1)\">\r\n       <use xlink:href=\"#DejaVuSans-48\"/>\r\n      </g>\r\n     </g>\r\n    </g>\r\n    <g id=\"ytick_2\">\r\n     <g id=\"line2d_7\">\r\n      <g>\r\n       <use style=\"stroke:#000000;stroke-width:0.8;\" x=\"26.925\" xlink:href=\"#mcba481a58a\" y=\"54.487219\"/>\r\n      </g>\r\n     </g>\r\n     <g id=\"text_7\">\r\n      <!-- 20 -->\r\n      <g transform=\"translate(7.2 58.286437)scale(0.1 -0.1)\">\r\n       <use xlink:href=\"#DejaVuSans-50\"/>\r\n       <use x=\"63.623047\" xlink:href=\"#DejaVuSans-48\"/>\r\n      </g>\r\n     </g>\r\n    </g>\r\n    <g id=\"ytick_3\">\r\n     <g id=\"line2d_8\">\r\n      <g>\r\n       <use style=\"stroke:#000000;stroke-width:0.8;\" x=\"26.925\" xlink:href=\"#mcba481a58a\" y=\"97.975219\"/>\r\n      </g>\r\n     </g>\r\n     <g id=\"text_8\">\r\n      <!-- 40 -->\r\n      <g transform=\"translate(7.2 101.774437)scale(0.1 -0.1)\">\r\n       <use xlink:href=\"#DejaVuSans-52\"/>\r\n       <use x=\"63.623047\" xlink:href=\"#DejaVuSans-48\"/>\r\n      </g>\r\n     </g>\r\n    </g>\r\n    <g id=\"ytick_4\">\r\n     <g id=\"line2d_9\">\r\n      <g>\r\n       <use style=\"stroke:#000000;stroke-width:0.8;\" x=\"26.925\" xlink:href=\"#mcba481a58a\" y=\"141.463219\"/>\r\n      </g>\r\n     </g>\r\n     <g id=\"text_9\">\r\n      <!-- 60 -->\r\n      <g transform=\"translate(7.2 145.262437)scale(0.1 -0.1)\">\r\n       <use xlink:href=\"#DejaVuSans-54\"/>\r\n       <use x=\"63.623047\" xlink:href=\"#DejaVuSans-48\"/>\r\n      </g>\r\n     </g>\r\n    </g>\r\n    <g id=\"ytick_5\">\r\n     <g id=\"line2d_10\">\r\n      <g>\r\n       <use style=\"stroke:#000000;stroke-width:0.8;\" x=\"26.925\" xlink:href=\"#mcba481a58a\" y=\"184.951219\"/>\r\n      </g>\r\n     </g>\r\n     <g id=\"text_10\">\r\n      <!-- 80 -->\r\n      <g transform=\"translate(7.2 188.750437)scale(0.1 -0.1)\">\r\n       <use xlink:href=\"#DejaVuSans-56\"/>\r\n       <use x=\"63.623047\" xlink:href=\"#DejaVuSans-48\"/>\r\n      </g>\r\n     </g>\r\n    </g>\r\n   </g>\r\n   <g id=\"patch_3\">\r\n    <path d=\"M 26.925 227.352019 \r\nL 26.925 9.912019 \r\n\" style=\"fill:none;stroke:#000000;stroke-linecap:square;stroke-linejoin:miter;stroke-width:0.8;\"/>\r\n   </g>\r\n   <g id=\"patch_4\">\r\n    <path d=\"M 244.365 227.352019 \r\nL 244.365 9.912019 \r\n\" style=\"fill:none;stroke:#000000;stroke-linecap:square;stroke-linejoin:miter;stroke-width:0.8;\"/>\r\n   </g>\r\n   <g id=\"patch_5\">\r\n    <path d=\"M 26.925 227.352019 \r\nL 244.365 227.352019 \r\n\" style=\"fill:none;stroke:#000000;stroke-linecap:square;stroke-linejoin:miter;stroke-width:0.8;\"/>\r\n   </g>\r\n   <g id=\"patch_6\">\r\n    <path d=\"M 26.925 9.912019 \r\nL 244.365 9.912019 \r\n\" style=\"fill:none;stroke:#000000;stroke-linecap:square;stroke-linejoin:miter;stroke-width:0.8;\"/>\r\n   </g>\r\n  </g>\r\n </g>\r\n <defs>\r\n  <clipPath id=\"p0ec008b3ed\">\r\n   <rect height=\"217.44\" width=\"217.44\" x=\"26.925\" y=\"9.912019\"/>\r\n  </clipPath>\r\n </defs>\r\n</svg>\r\n",
      "image/png": "[encoded data removed]"
     },
     "metadata": {
      "needs_background": "light"
     }
    }
   ],
   "source": [
    "model_name_100x100_1000N = response.json()[\"operation-location\"]\n",
    "model_weights_100x100_1000N = download(model_name_100x100_1000N)\n",
    "view(model_weights_100x100_1000N)"
   ]
  },
  {
   "source": [
    "# ---"
   ],
   "cell_type": "markdown",
   "metadata": {}
  },
  {
   "cell_type": "code",
   "execution_count": 19,
   "metadata": {},
   "outputs": [],
   "source": [
    "payload[\"debug_mode\"] = False\n",
    "payload[\"grid_shape\"] = [100, 100]\n",
    "payload[\"max_iterations\"] = 1000"
   ]
  },
  {
   "cell_type": "markdown",
   "metadata": {},
   "source": [
    "##### Below are optional settings (default to False) which allow the algorithm to run multiprocessing at various targets mentioned above in optimisation section."
   ]
  },
  {
   "cell_type": "code",
   "execution_count": 20,
   "metadata": {},
   "outputs": [
    {
     "output_type": "execute_result",
     "data": {
      "text/plain": [
       "{'grid_shape': [100, 100],\n",
       " 'max_iterations': 1000,\n",
       " 'learning_rate': 0.1,\n",
       " 'training_data': [[0.09803922, 0.78823529, 0.27058824],\n",
       "  [0.17254902, 0.8745098, 0.18823529],\n",
       "  [0.82352941, 0.6, 0.49411765],\n",
       "  [0.83529412, 0.56078431, 0.65098039],\n",
       "  [0.85098039, 0.74509804, 0.54509804],\n",
       "  [0.06666667, 0.3254902, 0.63529412],\n",
       "  [0.1254902, 0.56470588, 0.09411765],\n",
       "  [0.82352941, 0.00392157, 0.61176471],\n",
       "  [0.91764706, 0.85882353, 0.70980392],\n",
       "  [0.38039216, 0.68627451, 0.70980392]],\n",
       " 'training_data_shape': (10, 3),\n",
       " 'debug_mode': False,\n",
       " 'verbose': False,\n",
       " 'pp_FIND_BMU': False,\n",
       " 'pp_INF_BMU_W': False,\n",
       " 'pp_INF_BMU_POS': False}"
      ]
     },
     "metadata": {},
     "execution_count": 20
    }
   ],
   "source": [
    "payload[\"pp_FIND_BMU\"] = False\n",
    "payload[\"pp_INF_BMU_W\"]  = False\n",
    "payload[\"pp_INF_BMU_POS\"] = False\n",
    "payload"
   ]
  },
  {
   "source": [
    "#### Training using the ASYNCHRONOUS /atrain/"
   ],
   "cell_type": "markdown",
   "metadata": {}
  },
  {
   "cell_type": "code",
   "execution_count": 21,
   "metadata": {},
   "outputs": [
    {
     "output_type": "stream",
     "name": "stdout",
     "text": [
      "Training for '07-04-2021_02h31m11sT_100X100_1000N_0.1LR' has started. You can run below 2-cells to wait and download the model\n"
     ]
    }
   ],
   "source": [
    "# POST Request asynchronous\n",
    "aresponse = req.post(url=f\"{endpoint}/atrain/\", data=json.dumps(payload))\n",
    "aresponse_body = aresponse.json()\n",
    "a_model_name_100X100_1000N = aresponse_body[\"operation-location\"]\n",
    "print(f\"Training for '{a_model_name_100X100_1000N}' has started. You can run below 2-cells to wait and download the model\")"
   ]
  },
  {
   "cell_type": "markdown",
   "metadata": {},
   "source": [
    "Since it is asynchronous call, your model might not be trained just yet. So, if you try to download file at ```operation-location```, you will probably receive 404 status code in response.\n",
    "An approach to would be trying to get the file at regular intervals and when you receive 200 status code in response, you will be downloading the file."
   ]
  },
  {
   "cell_type": "code",
   "execution_count": 22,
   "metadata": {
    "tags": []
   },
   "outputs": [],
   "source": [
    "import timeit\n",
    "import time\n",
    "async def async_download(model_name, wait_between_calls=20):\n",
    "    \"\"\"\n",
    "    Helper method that faciliates downloading trained model by looking for its saved file\n",
    "    with time iterval.\n",
    "    \n",
    "    Parameters\n",
    "    ----------\n",
    "    model_name (operation-location) : str\n",
    "        The operation location that was provided by API under\n",
    "        which the model file will be saved.\n",
    "    \n",
    "    wait_between_calls : int\n",
    "        Seconds to wait between each try to download the file from application sever.\n",
    "    \"\"\"\n",
    "    while True:\n",
    "        download_endpoint = f\"{endpoint}/download/{model_name}/\"\n",
    "        response = req.get(url=download_endpoint)\n",
    "        if response.status_code == 404:\n",
    "            time.sleep(wait_between_calls)\n",
    "        elif response.status_code == 200:\n",
    "            view(response.content)\n",
    "            break\n",
    "        else:\n",
    "            raise Exception(\"Exception at server.\")\n",
    "            break"
   ]
  },
  {
   "cell_type": "markdown",
   "metadata": {},
   "source": [
    "#### Execute cell below to wait and try download the model.\n",
    "<p style='color:#FF4500;'> <b>NOTE:</b> ONLY run cell below, if you have POSTed a asynchronous requests to server to train. The executing of below cell will await for the model to finish train. Otherwise, you can skip it anyway and continue with other cells and come back later to this one (as running this cell is a blocking execution) </p>"
   ]
  },
  {
   "cell_type": "code",
   "execution_count": 23,
   "metadata": {},
   "outputs": [
    {
     "output_type": "stream",
     "name": "stdout",
     "text": [
      "Starting to wait for '07-04-2021_02h31m11sT_100X100_1000N_0.1LR' model!\n",
      "40.14\n"
     ]
    },
    {
     "output_type": "display_data",
     "data": {
      "text/plain": "<Figure size 432x288 with 1 Axes>",
      "image/svg+xml": "<?xml version=\"1.0\" encoding=\"utf-8\" standalone=\"no\"?>\r\n<!DOCTYPE svg PUBLIC \"-//W3C//DTD SVG 1.1//EN\"\r\n  \"http://www.w3.org/Graphics/SVG/1.1/DTD/svg11.dtd\">\r\n<!-- Created with matplotlib (https://matplotlib.org/) -->\r\n<svg height=\"251.230144pt\" version=\"1.1\" viewBox=\"0 0 251.565 251.230144\" width=\"251.565pt\" xmlns=\"http://www.w3.org/2000/svg\" xmlns:xlink=\"http://www.w3.org/1999/xlink\">\r\n <metadata>\r\n  <rdf:RDF xmlns:cc=\"http://creativecommons.org/ns#\" xmlns:dc=\"http://purl.org/dc/elements/1.1/\" xmlns:rdf=\"http://www.w3.org/1999/02/22-rdf-syntax-ns#\">\r\n   <cc:Work>\r\n    <dc:type rdf:resource=\"http://purl.org/dc/dcmitype/StillImage\"/>\r\n    <dc:date>2021-04-07T12:31:55.968840</dc:date>\r\n    <dc:format>image/svg+xml</dc:format>\r\n    <dc:creator>\r\n     <cc:Agent>\r\n      <dc:title>Matplotlib v3.3.4, https://matplotlib.org/</dc:title>\r\n     </cc:Agent>\r\n    </dc:creator>\r\n   </cc:Work>\r\n  </rdf:RDF>\r\n </metadata>\r\n <defs>\r\n  <style type=\"text/css\">*{stroke-linecap:butt;stroke-linejoin:round;}</style>\r\n </defs>\r\n <g id=\"figure_1\">\r\n  <g id=\"patch_1\">\r\n   <path d=\"M 0 251.230144 \r\nL 251.565 251.230144 \r\nL 251.565 0 \r\nL 0 0 \r\nz\r\n\" style=\"fill:none;\"/>\r\n  </g>\r\n  <g id=\"axes_1\">\r\n   <g id=\"patch_2\">\r\n    <path d=\"M 26.925 227.352019 \r\nL 244.365 227.352019 \r\nL 244.365 9.912019 \r\nL 26.925 9.912019 \r\nz\r\n\" style=\"fill:#ffffff;\"/>\r\n   </g>\r\n   <g clip-path=\"url(#pe8f1a2d51d)\">\r\n    <image height=\"218\" id=\"image1e70d8b7d2\" transform=\"scale(1 -1)translate(0 -218)\" width=\"218\" x=\"26.925\" xlink:href=\"data:image/png;base64,\r\niVBORw0KGgoAAAANSUhEUgAAANoAAADaCAYAAADAHVzbAABmuUlEQVR4nO1925rkrK5kyFV7zyvM5TzyvO+sTs0FOoSEcGaduvtfe9FftTkIjIEghMBO+T//938rvttJDSiHRVIm/JJh/rsESv51vQAB9LpW+G1dI3x5vqvlEegl+z0EeQ+xinHdPMwPV8Lf7X608LyHDn7vKJX4E/LjceXV/b/e1vVfb0v2X28r7dcb8OuC/nrLuH+9Aw8B/t+66r/eLd5lPZ+sfA8Bfl1L9tcboFgyKivuIeGHClTtWeyq8Tz5fMphd9+KgLn/ru+8xX/cV93vANnPuLnm8g1P9M9tE3bfD7TeLhMBPGu7b2jbjxTx79GVH3C3M7jAW+QEnll6D0WsZIpQZJeO8KZUpHbB9/oMjH+ur+dnd/fbGE3ivyHhmMiZT/k+kOc/7pNub+z75j9CaMwl9b9ZZtLkm/9l9+1j43mBv1V1fFodOXRCDwxyx5v8YwD3uyp6us8OpOecxsB4rVwAkGCzVpJ0f+UsGSdkifGwLa0PVfqwhnXrXsv8+4C2tY88Sf/5KvzHze6OqWaQVYlUE8k/gUQW6FaiNLAl6nZgyNlW9fKzfId7vfTvBdoL991nmRvAnVTGU7m39/+gaen7bbF/pyvPOTX+Dq2T+iclz646LsDNbMarMDZGu8AE681/0jyH+K8B8Olg29z3AW0ExRPV45W6ntX2j5fxWfdvC7oBTIrxeUOi7tWsIac3A4/HQENOMWfILBolJ/Hta7R2+xIM+YFNxwd85j43mH5OdRxBNqgDdTqrVxzCPepTIKyj6X+MWnkzaRyb0ffRiqwsUA6dNaqOaAAY7ytFxVzemY4O0ccxdLesf919vpDvAdozJfnA+zIFZEvcGfDQay/gE3I30l5lrm9nuN8F8/N9hDewXU67Ad0BQLGKiEuG6p3elEORUBF9jcbs1s8O+Jos8pBcuRszHKWX2h/HYEvbcn6tj74OtPspiuJkT3tW9+n5NtT9x33Ovdp+O5MBMIar8OryO6PNnVnAQSgRQ8I40bL3BgcbuE4yP+y+BrQjyAZQFRme3dAacGhZskw9u/19QnevqI8/el7neNfvd8N9TPWL4T6svzKvHceisrb0AFaCpDNalbG7uIHE6MoNJlxEntJzWWxrNrEETwdqeme8sVk2ivue/vkc0E73/2Sdxllnov2vuKcF/NtaPG7d3Cy0/tIut+IqV9n/25ptZ7RYg21AaOBlkPXK9gFDyJJNbvc/Hbqv0OAH3fuHpO/uvbEQB/u0gzrRyeoELeqllAbs8rd/rVoKfVL55lz8g9n+XmcPoTVc1cBMq0O+74yd06Zw0pH1pxrY1OL83iGeY0VDfXT6QpTBY0Q1gwpA1PKqxy1/zANqt/Y28bhoIuHAt7jXGe0zIDtlPE47h2zHe+8J2+z3Uq5PuP8RBDi0FKmPvYv6PtoOv3rNzAxQHx51A3urFjMUhcu83ifdNuTmon9mZj0z2iv364CawHFkNv6zBu4TrNT8MQu123x8zCsEs/1RoNCNzjq1fRfV/Q66PLCZ7h0kTglu6Aj1UWivjECh1X9itIRP/qkInQrpybKR4nn8ZBu6RiS6Xs1azEa96ExGHR/hGHwkz93/RXeND/Ss/zeZA8heYase1xu0y0+d8EJ1lzu12J/YU/s9d3ntzsfGPsfQgHTAScvD5pE+8zIsM67HGEwZj42NfM034rENI3BeSnh6JvIbuuqLa7QngOC40/pr6wMhZtvLF+ywCFWfOqNN4M/dM5L6x63XqLJkpOjDOABDm9IC8jOTuZ+YbGc6UDj98ef9rtRZNBbW0s2Qtb2My/JR/ejvuILXai3sxfn6TbOW3gzZZjTe9oH3IXe/RjsyBzcCyYa/g4zLk7nMyVY7+r0jbuo8+M8YuWu9Jy37T1insZo0xPWWqUb9DqLKOXVdxendgJLm++KPJYPFi/8hhlgOiZyAY5ObZfgKDksLJ3breGtN0caOTDIfcO8fyjhx7Fa5DjKZ5bhFOqCpgbXItfuPk0AmbThowN9lcj4c13CF1b5CcZ/N9/nys9rUCMxmBCFobVixdVsy3cm8sQOTa+CA8fjFQtnZ2aID0gZgsGWxPKT4ekzKukzo8Xkd5/JcxMRikVaEXnNPjCGHAdGjR4BNV280mcMMTmrrzTgygKvI3VQ93WrhEZBUhDb5QzF/kZMWmhplV+siTHtkeZbxACytABv9cgFyEaCoU+MKwNhM+1i4sL4JwmMDWZReAjw8gq8HZzomq5hu7vdkAHEkbQLVZwD3/vJpy0lMyNOB1eOOzIaWdy9rAxFodpJTHLES3frD2t63A+knUdnKvlERuUGlpPOIYzDl4MtDxjtQd7DxXegedMTK48P4F2DkrG38OEYdEO023tf9mpMJda1US2SUw3trw+ApadjT2b2uOo5A28Ez7fzXcJt5xL+SJa28Gi4GD58BQQ96eI7ePmm+ByqrzYi6b8PYEf1Z/Dx1Q737zAQQW2W+NHAg/Js6qALRC8Bl12YM0QuCi+QYcJf92ZpML3RG86+QyWVfsvKka5WvwWhCDGdGsMufY02tyui5aaMKvqEFldVMixoGQ8knbZxQ4N7qeBo8zIING6+BDAUcPrOV2aGXgbsyCJA4WRy/Aw1fLeP3oFG2WWFq3A1yGdjYSlBzdzAC/E5aZTWqQx8LdnUWU5c3FdKthMFyrSg11uO9sSLrVkcGDQhkrjIq9onU81GmMrEDQ6aWRFV+P9sd66DYNEw5JG4N2cNSAUJ96myoF+Ul86+IbOs1L4bj67rOVEhOx95G0UBd37Deir47Ye2PsJrsoY3JePBb2F9/iY1pB8WVrEffdBRjpmA1XCZjTAaSYQYLP63RsNZsCwFLLoAlsr7J+bD2doZ7CPTCir/y+41yGYs9sOJB/eNDSFferi7GdsCNuteGALWxpUsTPvYM8D6NDtk8hxJGgFGgA6oXLk2GRQV9Yk2QiNQyPuzOJ0N+DjHfXeYEslmmvGumEYuEn+yLnOJnmJpsWePVsrJ8rqXPgNS/rYQVR6xmEwJvuaWlUArbOYPEuo9kvB5dXZz0RgGKBTLK1dZEmtleWae9y7PTjhPq5JDewbStubqfWpDDrndbfAdcWa+B4ujeq4M07lUamKqprbVTjgGnJZ1nuCL346w2gCuq0W/MrEVhB8XN5vN+vcy/rs5UK2eyHDAx2wVxBoPArZDRv7A1m7PateRUZTGWMasau6oKjHihxnQODjX0LmYzUCugj2lNZlqOemRbeJHauTlamgNNpkwg6W6MIQdg9bBQhLS4DXgU3yfNqdzTH3ZguffeOPIaEiZQviwz3uJH0XcGWeWTNjtxfE4jbBBJEz5qHF35XtsWAO0opzzfXLK9pKWL1bfsQLuI5ORsgKnrfJ9kooqrmaKullTmWGlrOq17bBWl66JtDGpJ5ii842oPPzlpngaITJ7SKW5kOG4w2eUkO2xjMdS12VhtcdaidVZ7lARMtqhYC6ea2mXmBv1+J4PPb3oCWKZFDFsUaR22fG4xJJAFcxFrhXUx2UzU8nZZMwl6fGWyXJtBLqgsVpNr1cmtjWuNtp5CzdqoEbfuVpnMw0hm875SYz2t/mQ05GAoA6s0ePHygeXOctEjFnFgNNl6VeK/Q+Q24KXFDSBqcT6pFXN/TpyrYdv6rINt2nOr9drjKthedI25yqQ26P4fdzcAG2O7ha9faZZnkLHqiIxzGQdd8YPVyZnpiiopmR/9L+ZZn0il9jNfw6ix0nOcHB77klHDeKrXDKsBpRZWO2bi7Vkm7orFiH+XE6ONA3NCH/sn0HFDDCBjsFnYz6dtxhDKmmm+YK7DjNmP9z6zer46k1LlaR0H4GxtPMhzzEdALE9vIlslq0WxxZUBDuyAIBCB2ImAxWzV12fT2mxXL6+iRu5XWrO51ZEYDM5AELM65jMyoz2Aup/2yL539go287QH2loNL8y82UdrWCgH6jwbjNaBdtfP0gIb0NzfAHcC2zRrRZoH27GcAGMDk/0Xa25/Rkrv67fanjlnTW08AvEZ+Fx9ewGgT1E80LT0DlCOkyLD759VY8cVgErAOVAojQwhAUp0EFbAuSnf40K+AczDsXFthhFcEsBxs75CII81seoFiJv+1d750gRWAO6qAAMQ7Ag3pgTg9GXA9UVEZtuBd95Hk81TgnvyBDwGWM9c0woIWnox4ZKc+CMRePj+hcnodp3dJhY7te8IuGfuFpAfAxh3LMfWbyy6mijpD7kEGbMZHCZxugMhw0y3ZBI8Je/GcE11DIMHz4beMQQwB5vldVXRxX2f1UGGB6UB4EMNbHUEUEFnrOfxoZZ6U5Z1wNQ32eSx+W3tnBrQWiW+y9uho7doOac9AxvLdPXR4qSkNf07oiUBV0CY4zHCGMLx4NLAxseyanUL48WgIPuVHtaEvZG2/qJ2GPtygtQAMKAsUiNXsJv7DTx05fWWH59KYKUMA8wNHKJvBEpZ4QI+N+sb+OQiIwhdLwGUjSN+YGF1qpvpu8EDWGNEHzZWnOW8P0yVXP0jwWauQjrQ1EyHSn9uTVx+yZP/DjzvL7qeN79Xj7xmdZz6OOIOAJw2sxmIx83uFPPFcaQRmKq1cZfp9e3j+Ryu9HPEQcvrOV9zVLkDAPfmrjNYhLRLMMhQzjy6vxtAuj/kSviqMpSnX+c0lLjsN8nZkJioTtA8blYp1RAidgYSJc/l44RZy/1ju2pGHTvTJ1gNuXJqxJO4i/XEaM+w1xtjynME4Q425QajfLIxXJZTDCZelGRZYcqfwGtT0LqVZh6qfgfhFF8iS/5TA9417HEmo5A/VKbl/1V93NTCYRPaw5XJjMF0sRRUcGFgsjCKUDjYzxhMmcmY0QaA+fW6ihEEuMJopYCdb3QWc1YDoIIHDXwlAERYq78zGVTwaPFQDQ3SGctlC8ERO8aSxXErt2cdp34/DJQtuo1aBt0AOE8ua7B2zVmM6iG77GRhnMH2zM0LK6HUF8SHnB+Pl02OwFR8FWQhu63fTI6NH6MxxBv4nslKvBCYiyzd21WSCWgatwTgL2dSGnd0Gw88tOqEfm7u/V2O7qTIuYwC+amEWFWQLBlCAOAd75+YfW8n5iGRgVa81GghVlGh1GBCfq1Zi2wBrvSmIrB07CM3qDnOZ9Ptkbqz9cDunsftYKJwaDTSpLMxMr8z2/ruUrCa2neYgsn8YDAzmjEYr9mM2ZbfzfeL2VYNKK9dY7Pa12jbRnVeHXgKWWwWHXfFWmwBTrJ9Fbk2ozWY/xJOsJYZOILpLI7Xa+JrwO2vrt0AqSwILLZjlrOr2DM4GAHgXfrAeGm27+PhDpQz8IrxgYHHoBSfPebZq29YjmzWilYZ0qe4vcoAMOynNcA8SX89LkEmJa1BcgSZVJChyRSAJqPVD+3wXtnOXOteUmTQZBxEneGCvWhp4IMz+j+ubTb0a6y3JE31sUaz/Bbe1mpRtOLxQJHNZJ9c62jg7nWz2sSEPe6G0WqlPpm4s1eEpEVlOMHBg0pysotgy0NFdsYr6RTHVfCyp7j6FPVZtKVmQQfw3JVY9NocXcJxBXw0SHmQb2syg0BjNGeqAJczGPr1Slm9cDGDWd4FKgcdWyEtzU+w2zU/b2Dx12LSYDLbN/PnDGYBcn2m5vc1mTManNnyNRkVTcbyA8tW/MO77rHYjNdtzmC+B1fYztq+ruN2pjufDGH3goi7bdBtZd3M5g1YwVgk1oHExRYVvsl0thtlov4JwZy9zm5+0jzBEBUo8tussuXfQZ2MlRJSWC3YyQEX1yt8wTwboxF7MRCL7L5PlixGLOjqI4yVvE4CA6Q9B50I8vYQ+BEsIaPXuoP6JrZvVsP8rE5ihR8R79qoTVIKPOLUyALFZSrl2meTUB/LiRKX8edQzYPF3I1lcK7U1xjtA24v7VR+xquHG/vFrB2b1TSLh8Uys2xsZv91ghnz9CqgykqPtMLniaVDpFFxcTLm2OJZJfRBTmuYCjDkpnPshXm67Z+FFdHBxOE3y1mvi72u+uesB16z8cuexJjNCFIZziaNOHJlsvB+5nhX4XN/zJmsrNmMgcoazcATR7PMk9ZGYj1t67LCdFYXZNrObClz3rCGC94mf9DNbCYtPI3JBITM8YUxpALM/otT/AB8lRoGEipzAuKWVu7/fDLZwyfANZmmJoYMgWqBbgKcgwjYVMbYsL7MfL+nbaxWAHZZXmayzngmG0BKA820RlMHW7SDrHfPVBYWY+B3w4QN+AfFEfB8M3mphcOmNnQd64KxIpWBAXihHvp7bpRmRAexbQFnvKfm/VsYbiA8S+94nUG3/me264MsszKbdPZiWa1Sm7o45jven24+1GN2T9iuyxQDB9+VgUdAm/bLcEFclva5AlR8nIr30WBWR6RsAWIBXb3GfUNtHI5jQbD22IBu5q8Tik2W/lkDUwvlkfHeBbEG4wPIhXkSeAscGqBcBeR6b2VROkXCwFNaq1EeVyG1Am+Bzo5g4QmjPXXPGE/v5/xUDWrY/T23DqkRXxiIXmNvbCUpssd5XikiY71dfdllTsx1eDa9SfNQVxOBGxbzgY/CSoXRCmjIrE8MV8KNzXKjmowhBLxlut8PHmc7+JpN4qtWvpeXlgwHj8Q3tYO9HCANTGjXDXDGkH4bMcA9XPXz9IvyP9ZIejzy3gtwphUx0yli3cfq5WvGkO5otG+bv7NuNaT1oZ3/n7GbA7AD00ub1L6JrdjQcic3Vp1lJjSPpdBsPejGE8MxwLKmzlrEbAPgil97OF9nKQaQCRhKIA3QyfAv12Gnz9aJd4pKWhyd0frCmiYZNUYDYKZ8YwuT8pOnjk/xk/j9VZhH3kIvLftql6FnGUlSLVQgXja9rgXGMLJcbgHVVE+V6keWkntjyFO2Gmb8Kc8Qp/HfxAdENQE+Visqm/EtCq6l5mDZiYdq1N0EJPtVp/jncTLI1J9USpmMb5vRPthtzVXOMj5lNDfby8Gsb6wVqmM3kAyqI6webtZnFVIljSDMcMxoAMhaAYD6n9Q5oLOYcBZSKZnNNJgmDClYAAOA66E7o8U6bdVJyMyvo8rq5v1k3PsPqE5TfU+fGOyFuE3tY+GBJV6pSmW6vMeJZDvBHskXGJvp2Ty0A6rG8bWqh8lWmSa1nBFk0kDW1MqR0ZKRCkOpYP9XN6YTWCjx4WezvsvQIdRFXsRs8fjWFnxgNR6898TQM76BPUhqGSMasmned4BrUpq9hvOwnCF7GpVBb3njp1bH4l5hK23Rh3QOb+xSmCz9AOJIy6kaI1O97E55K8PUO81pc968Tj8EWMuU0Xyfd2ZQ0XGqiN8ZDPDjVWTKp43olO1Mluswjgug8f18o1qIRXHZRHbV5+FnD0YDiirpFBUMlvHT0aglQ2GlMd9Ypxo6QAyn1fpoTHht8o0dC6NJqdPr394P93weB+pQO+YqMxUJdiYL8A7yVs4d453SPsZgEztOwNrTpcvR/tCWBikgrMxW4yqjZd5glcMaLeXa+2YgvzZWYxbs9y5hNCaT1Z3EbK4+iLdFWB8tTUFaUMYrspXijUCOPHWBYt9YHkaFYK2/lvGFGM3Bbus33+x248he8jqYxevCG0bLLx4ejRgcf8dcSrlu5LQDr6kTCbrGIpIz3cvTxqbKenRnIxnkTow1AarKTMACnOEmVuO4fCFz5bkivrBbN+cHUGRfm8HYSW3dFdbGvlHNYGOL4puB6w28bZBMZs8gCbzKakPbGTDjSm0Z+7qKym523ZgNyTQbowGxTeDpV2e4YDng8Vgs6KrjdeXabd97k2DDJ2s0UsIOlKAcIXv66+4MEu0BqQPUBTox50Z7Y0f3hTbSynmhnku8gq3kGycmGaQFXR3MCaWyFoBguoRiY67YhCY2ivDhSFU5dkUA8WswWwMngaWHI74w2f48zHYJrr299l7J8ULLoJyDFdtYDMw6u7lB5bK0RzLQslQaKwFpmfQPA7kuant8D7c6hqXSbwT7YtD4hvUNWnrlu21/YDg9xIdfJn8yWfkWxhMwJwNLAx6DaQfeppKSapeSdfZl1slyG0sN+Vy2z+aypc2Mlq/ANGAQ2PiolWwMR8zTmY2ti3R06mrHq1w24wicYqxrXyd2M76zbW2X1l68NqP41Sxi5SImXD+Jkeu34Upsx2E+9QEAD3qReIFrsVecKIGBEcj127XKELc6hqVSkyntcYaTIXWG35I4fld8xywvA2SbuXrcAGyKEgLo+BwcpT1aasRTdp7Bu4PIrgNzhfy2ZkuWKizBLFcMHhPI6imPymQMMgKhLjCMr8jESY9mnex1vL229iEWW4CR2nfUItMYceNeCDiRWLwX5TKu2gkcaKnyXZdGdy4M+jtuSqdGDDzIEyKqYuqmRmZRMSLTKO+sOjLT9HhWy0b+hlPRfX6fpbZyp/InwPFARu0kbSJAnS3DrNwr1wbBdt8cMpne6+N1asy3gQuIPbEGJma5WJMRczl4XC4B084rbgz3VsAGXAlGOuWxsSED0EFXrI35HFE/N4oYy21HrU4gK0sEL7N1o09cNj5UbMg5yDweyQd+TApIYAQ+3EoYgPR0Wn/5azZ+ENkQG+u0R+ZdYM8TRvuLn92VJ9R8UGAfzJP6x+WMgCR/yE4AaP5t9iOZEXQSwWtguSPgTuEBhGUAUR5mqS1uA1PKJhuwEaSqjN1fgMVgVDZoZHi9W9YOFZNssmGqmPVDqbSP5iZ9QeSNdok45ATLk90ra7M2MSuNIf50QMzxxF5ifZxAk5AJIwaU3jmrZxyhwMPB6GB6GMs5wKQbR7K8137xkxkIWemyqaUNgK+Uu8nKHqfUB1O5t2CntAIuBjKrNc3RzJkRdRJIwPg9Opi8jDabb2By2bQkVlBVgJU0BsDpJAj8kDGt57Y1Wj9eNcXvR7C4HXo437C2oLdFYSVuJ28+wThhlq56bZCV7nfkcbqDVoXeOeNjVXYEy9d0j1Xnoh6GXDvtb/d4DWjTrN8Hoc8q/cl4HbexlwxxLNfT98qWGO6Y4pckNO7MDXwDSEK4DYYYVEJxOyvNsgy4NHAsycZeBZDdGNKsgwVYbPRgcFZTPZo6uRtMGksSgINJkXVKBqN6BxOZH8xo3IutzW8nSKRhhLuVwMhGkWA0E1YPsyoJYrfOaEAxcKgBEcivbz1oE/xh6POttnugTQDg+Ltw+FuDSU8Htjq4KlHyCIFZDuVkHpleqab78wDoaRVmHXCeLmOaA2OLK4AhQBcjCcDruu1w7mYMyfjKNpOZv6/npIGoxtdy876VuZi/6rNy+6zxmO3i8x+vvWvc0OSF7SyK+j8mUe/S0ISmQdDKp3osZZCiElm5iX2tfntYOPbVVOJE/2UluZHlfDLkqP4NFd9mnkFsAtsoK8NthwF9WDzngM24KDc6qwOSB38rJ+45ACUGjr/D0QfZnoeNIOs5rlZGY4bCRh5f1UI2gGzMs7ESr7/aMazRwEGyEKTVkevdntH9dJI/2jraaeoz79Pe5+xoCqSxw1gpn3pTySOTndlQmcyNHx6OLYAIS7Dgegetvh7zUI2fmno8VqaHlXf+sXh+zkndi9qR/IlBvIxbgBELCcm3vHJI285ARlx29CpDttlzAjZ1Z7l2WSnp+8Ap8lpL2cz6zrQFZBWwJzbb/Ha9aB3XGY2ZjEEi/X6ocjt75fP3g8S1HzxCqL84Pttp6JKU7ZO6X56okfwpi5CPSVfz/vuNh0rtA1gobr1GJ5BHMNpU+PwwW/rIhk+ouhR5ujkqKLZcvcV6eZKMFw0su/rZBkcONpdvs22kpryg553T9nyV0frB4A6OEua1GXZmG40ijdFA6VzOur7Zs77tLIpTuLVB/KFaF71Fm7bBbcyd3kfAeXRRf7ssYUQkvzhctgQsLr9JYlm0fqE4fwMAZyukyYUFMp79U4zW0jeVUYZ0pUHfQHJgrl4Fb0gp+aTNlrVjhBr/LLXfi1lqA/AXQZZ+Ai1wXI+xvw/qI5sNzNatlxtrlTz2rEpPHSDhcmtc+MuAp2ekPL3lpUdrj8AgR2NpyBJmfqHniSy2FiONiM0JWdcc4Jl9SW3jk8EQP4LojPaK6897YrsOGoDYpKUNZUpvwAgxOL3B5s5bM5SQ/t5VHcSE0E+Zn2boZwBI/8RSAJiZNoNG3YzONFqrFQZDMk5hK2YzZrs3kuksuMedZLMNLnRVc/d7P1EYkmPBO2FTH1sfba5F0jJkGlKcS4tn1Y/HnH/bo+y9qal/zlpGaW6VDIC3o1mxXtM82rWrjq9ofjvY2xMRaKY12eCPw6VcXE4vDWQoKgJXKfqSwMYHV8uXfKe8W5wAJc/OEAkQu6/LNXXzyFI8IYzGkNM9J5XRAXJt8gzuXnYFct2m6PU5T0j8P8f1Fk4wlZ5o/b/3xjk6vDQmuTjeegqi8aZnTasXwjcouijiTevFXlp+e+16CFQUl52T3BlteqYT+BqYZIgr4YO/nODmKjA4RtBIA5WzFFqYyzmpQfuAyqvVytW9YfDnzI/KACODcRk9Tz1mdWa2nYEq8Pq6a8qb8iOwO8veWRgLqOzPB8Q2UfUBBJLnlBPwfHwMwRP4ZPPeOBqIQXGENWOzOB/Jv83mZ7qwnvgB/wrWK66DpydN6RPgOosBCKuPYC+/gExGkO1Xf8TaVVLiKI+Hj8BjcKGma7uWQcUg62cUGWAsw3l3gFUgoQIkGOwa7o0deAH4q+XniaOBqYejnbjTud19wPooF5JDy9fdczikyADLkdlsXUVsJi3Lftd9cHfAxf4aVmsoEB//ueztmNeA1u55+pzACJZDelEVHXi94TaQIa+1ShUEDXAFMKjDI1P7nNxBZ2kdXDG4UViwDvIOMM7fT5NMAOvM2erGQCz+e9AE2AikUZdxHdZbcW+1jBvS+ygeVcUXAPaKnDSvjQdmPXEzooPuAMAs5Wbgi+bXtxT2CT3NN6w/9Tg7yM9pW1jKrOJp1XjBxQkBUeJaoNNUxhhUATgGlJR/GPxdKgZlUx1n0E0M1tXFxiwKzGrcbN6vwOiMl2rkdp9SZtapgsll0OJq+9SRkcDaATdda1B6xNG9CMIblVJaZMz1hrRb1TK0L22q5Bpz8X4aVhPmh4D0DLSXHukO5KOsjOVuDd2AtaIKtMCdVwGV14AKn7UDv5gywoqYiVJ8EtBSMpXCgLBSJ2PEBrgqy/Ij4EYjzASGds8X5Uu7bvG17bMOe0+ewCVD3CT38fSDKGk/OsiMWwDQBJAgNrvzKoY5LUYW9/iXB3I7Qb7hJy7Gp+B4ghED0x8k/FIsld1iOKmOdR6VxmZiFrgK0g4NH+xC1x7nDNAZblP/tK2hNpnGkCw7MM20jirs19nLzPwAxbXwJh9A9o7wdO+7+leAWzpaWhlT2sndpX9xhMrojXHIq5dUI5kQaGALsKFVgHipzcem7oaRj63RPuSeNxCri/wQNF+WkgpgDIAJl3rnPjQIVjdDhgCWUMm8Zd03+/k+k+Wyq5kABobb/aD7g8umcOGLSdMoZjlpcq0Vx/VTd13mO/N8mQKeVyMNinNcTPL0gxUyAXaZ8gs7ukZm68DvA5rYfwdm6xSbYYG0SYP3y9iqKFPYnqwAKNis+fmfCuKXVmL/qTGb+qcAkq1Ep9PuzB4o4Qq4wdBRDhUzA3UmY9DVNVpntjmurtFK3AbW/U97XLMgPr92/xRu8V/F2rRWO93mGcOFtWQow1kMS2b6LbVvAtr3zD7MPOybukfIRxxAgJv+Jjab8juIajw0ztgXMLI8Wnys85Sejpg4nnRkMk9rT94BUYxIe3pknxYpJY+LMUj2VuJ8ry7RdzeMGTnEf8ctTmu1Jlu+wOEggrOUIFdg5/wFrOY+CbSbxhCUJ5EhPtqzG0foHORmRRQQ6wwAMRas6WvQXgaP4BMr5wrw0IdrNJXFDFf2KkxG67UEWGW9ea2W663OZIWtBuYiuAMQaF+HjWCb0zamijjuvfbrpQRgaXJ83ctp/by5bwTZTdHBVhhA1wHHYeH1242pf0j/ANA+0AgNbE/Lk3wwOf6fwNpiI38DWYCN8mv/jIyn93eE+R8DjxnMgYEoG5x2ukLQrZjOTPGUG2vtbLKb5jEAjFpRQcACyWWZBTwKyp/gSunMO4GzEcqP4ujDbmKwnr6t1yq7hZlfkBZJKjO6BLdA+4FWIUDwHWQLJ1N5+j1zpdGCP4bGH01baRcBKgFxOSPZmqyAymX6+1zaWZDYithrAez8CkzZs2pMJkeGWvG6ramuNeA3xgL5W7xmvEabJyPtc2YFZwFyxA39ToF5Dv5DKLwD3BN2c7Bt5n+sdlzXlfl9K/X7n2GMFf9vM/fXmZBB14dVjWPm6afyHCxIACrFT+DUBtxuAAl/gshV0TSKMLAYYMl+t0x2ZLU6JSXgVhyzlnpc1IUHQvYFD469v/ae7ACrTEdxw3tnOyj/Aqp7BrhuoYx4WVbJA7M5Jt9/6iGl1ep0FwZW9zFITn4HzWXTTayAaB122UB3ZntjEKnJagWVs5xbHV32xGQeN50aKWxG8fGEL4OL47AzVMRjSK9x2uRyBpbD4Je2v+R5uedqXn718OQmoP5RR4A7gq0xmzawkf4dnh/cR+tONp+Mcc8Yi1gJ2+dHi7rIYFvXy9jOWetqYLwSdBsYB8B1ltM8phWvqwxGEma2BNphk3hacylqGMwMKy4AFTP0DrgtTjrY5n7cjSAnhquMeSpvz/cXOBnYrbOeg6+BzfOSIfdngHbHkTJcvanvrgE2ncBXAVaAaGy3gLVk32wAvwWIiNEYnEpgdeCxQSRAV1ksv9MhDWh0NcCwf2KtaCXtPydMAFEOV/BVIDrAcvCXgb2pR7J1Juflnsy4ufdnsO2yfxXgmMWeyRzA5u7bgbYrHFPsipPmnyCWgHIAELC0sZaFmcFYdXwjdXCB0NnsCjAJFqtd2lRHMorE2iwMJqQ6mszEZKMKGcAik31nsYMlsTCSJogyLcG2hSWBNgEzgMjmwuiwvT87AHfAyP2Abe6vARyx2GeYzd1vUB1l83WIySDdJSqLcVy9FsDZbHS1PBcQDHYxozUGSwAnm3q8KNp+HBqzZTiYa2M1EKjcTy1BacwWPvjv110VNP4ycDjNdnbQVSebeH+NpBtApvip1I+A568BHF6se2NBr/+3Am1ms+oX6nwGCShMR3Iz7qDSvU1hEJsZKzGg3oyV3oK1KoOtfMRymixV49s6zUz25RNvt6ojTR+h/u1p1YoopEb6egyWluzVVcXL/YXJkrXyl1Iq8BykMcjaTO2OQdaZ7TtA8scBN6mRFAdBfjdS1vkRlv1hRptUxpMiCRpO3d9Zjf8aswUg66c+pYSrKsqGlbRQIqyZzHB+j4vXirRmg4KAZvWf1MW0QMQ0A6CZ6k2EeraCilS85t/WX6CMp04YZEaVkBb6JyB9F8D+KncDts1vAY/6FqCNwFEpaXU4uSq2AyQYjdU1dCaDrbeAN2K6teZK9vK/zmB5lcZsVzCbpyWDVYZjNku2SyZbz9Q3sJOtKqtZy9B6iJmtWgfrtaqLsgHN/x4m8ZD8Kdk5Ta0cjR9pWN8oZNXUkEZA7K4yHKu/X2MnvtcfAfIEtpq0/ALru498M+TDdbmbLmeV0Sta34iWiDuzWFctk70CoN2vNQ+nx7quq6o2MUxWR/8ZqNiwhk8cSNUirvas2tqIjQ4qpRO1XzXDG3tJVfceNtQvk/HPWzzo9tKuJzWwu6+pc/dj5B/lqJF807qk4RuA1ptrYq4IawdJZbbYdNYGCKQ18QomW6zha7S40nos/RcxG+ep6X4VmCwE12Nfq8VxLVRmc3M+v1qTV2I0ENC0D/PVTs+AVkBmWR/BQooLvDazNGcz2HfjLU2MsdZ35gVh9bD52MGpwgAGE1txkVsRbyL/BLC+BvQv3ljb/SeweVPii0A7gewsTxI0g3N8YbISrqql2ACYrITbn+bV2eoq6iH9kXwCGAS0ymZ5KoVURzCjJbMB3vAJMm8BXodFExFz9Suz2EMz58NVPxvgD2pbVWM4WQznlsh498/CDqzpZEdnulSO/pz7I4C7o/pB8NNAuwPZ/kGcHHgec5UByQBqxgltA9+ZzJmH2MnXVpdecb0MLAEsY6sLdc2WYNstksxkqTrmKZJqebSn0WSwCNs12Y1a0gCoEef7Z/dAY9ZS5JeoH8ZOK20dnlKxqwFO4Cqk2K+qLJkFzkVXQbxYe0MuHzVxAUk7m+XexmINp9x3uZfH/je76b41Tj4HtFdBxumcpwOxAE5pn2tYJ8VaCQQM5OZzgqgaQy4GIy5cSmAlkOUWAANsyYLrxCBjoDmI2E/AKi/plnWaRM90tfG4NpPB6OFs5GECQABXnItMqMsIGTk0f3BPvf5S78HXXn+E+hhPeQO+r7s/CrZ2c477ENAmBaECKuPY72szgA//SlmbOVgYdN2Qwey2M5pU9qJTIW+cRwXvDiZUJmML5Q44B9gVdZwYzUHlMqHLK7WMSrYWq5IRPrNY+nM9xkBLgBm7mIzEOUb/zS5NnJsMwiK5/HHy0QoOdZPAZyUVdmLAdTD+DvdHVMmpEtQgLwHtpIHnCsOcMvB8sFVJXneV41RIldFN95cxTxgrUIGUKh7w3tTAt1Afd1WxylL5lueoOgJPGS3Wat4WcSXF+chqFkXpI8CsNd2i+CC5rjoKlhFE/GeIAPvWiuBhk4CYughVY0kJsLkh42G7sdyPve8RTGkALes35rzf434ccBODHerwqQ+oyhSrncmqLA86B2BVt1Jl9CF5uYo4MNpm4BjYK1RHYj2hvAGqfg8kg70xsMCn97Pu9QgWTS7EZsxq3F7RfK2HCqNpBZwbNKTI0S9TAgUkqgtsgFkjAxRuRRRcDgoFLt83I2brk+o6na7Rt6mGZv+fBvifUu9+hzs92wa0uzmnAywbPTshOiQAw4CaVMZ9MLtpnY0YvhndGe091lu5DquMRsz2mI0g2xrNZYC6Ue3XUW2kdtBUERfAPEwt2ZisHN6NzkpGcCA5g8VPvgLGaGmuf4gGgxHcoBD8MpUx9iYFJiu2VkPYOBhswFr/XZKGlPXS4zxuihpp5Z0G4U8D70eZrVfe2lZb2jvL35e3r8WACjL+v4CMww4yZxeSKSqk1g3lYKJtzWR5mOmUGIrTkGnJbGnudwbNI1jV+FI2rKOcZLALKKASbh9v+d7burdpnJnDvvbyPTIg97RWsRqgu2INlisoB+6FZLjVbsRMhsCov/gaTePTfgt3VXPJKaB/U8TTKvtm2u91f5JJb79UfGIwV4syjsBkA8sHQ54JzME5np5HM78rMVuwzkWq4WKnd5N5L+x0WZ5kt8J6j4vuk4xWjmc9DIz9uq3N0Mz6OZnwPllYG/uaTHtATFVMHvJh7KDzmId1wLI0Lllfrz3WkivC/gNCyWhL9mGjb80DGmqlM1uY84nZWBVdWPTnzDCzMT9aHeypa/4uEJQJ7Tfcx+9xWKN1iHUWq3ECbq5kqAQgDUqkasVHmepxKRzi93VUOSIFVBYLdsvtgGDTiE+gJGN6nVHLJ3Bd/Cw+uWh/em6vZLnSAy3MKldnMi/dAbd+U2F9SE4FeNizP/ye0uog6/M9DxWIaNY/1D9nMASziTGb2J0NXilrlT6Z8OuAo0XcX+B+J8O975CqFXGfN2jGs0rogyiBdUWYBuwAEma0d14f6bIkBnuZ3DtZDpmlIv6R+2iV0QYL5eMyUNaDyGzNvOJamSzWmgQ0Xq+hXK0lqVel9bCWdNrXoqsPVj/R8bB+WOylAbILiLiHmznkgqriFy5cAvyKNdoDotfGbA9TKaPfA/kuKHHYGMFdPk40PofN0PQnqyz2+1mNXWeenyp/ZLSuMO4MVvmrg4xP5fss39c6yWz1xcwEXn+Jc2IzOr0/yaCCOVgvmA2jLE8UeaXnAwJ83g474ECqI6KN3F+c7h3eGc0HpZ/2yKy61lkGOD8JAlcnjcou9bOOakaNrIt/N97B4VbGwmzxnAki/wIUa0BudOn17+PrT62VTu6nATes0Sb2onjUwYboeB7EeZL9zXKlFY8H/2Vg8XVWsgmb6DcLIqSyHZzRQGu1C9cjmc3ZTvx+ytZG+3sI8iQIMRqSrUK1bGs0xORR2SrXZqw2DlpEqI4Mq4nVaD/Mrg9T2y7Ns479k2e/BLGFsBhtHbQSuUL1S0umMRQxW9H6FAHaYCy1K63jRBJ26sC0x78D4p903DMv1evFysfn5vraYQZYhsu7ZMgBt/kLO9EmtJnqfc3Ex6nKSXz4PteSD/O9yzTGKqf3ce0Mp/XoFW9cC3yvjSYMZzSskXsNIGMVsbC+5jVa87A2c68Uv6loHpIEWxmq6mwH+OkOj/Pb6yqK/M5o+VtgXr6z4gP+FoAprbaeE68bBNJPkcCBmiOoP9ed+5uA92HQdUHyv3e1EKWJdnD1tVkHWDU4AP514HKusDBaZa666Zys5TKFsWi99e77asPeGJe3XpPpJ0Lq327WlwDUOvWRllM48JAgYhUyG72qkXsH+QosAeQx9axigs2ZwtnLjSC+lFK+FzHaw9hr/z06xUOAN33gIYI3C6sV6CrpKkvwkLpd4LWP9ViAsKrExJkW18N/D9jcDToIgNfrGcaQE7iAZwDzcF1b1X0uGYGWm8sGhABLhvtxqqfGEE0WCwBTuXx+cVvfMdA6sFhl9GcnVq+b00hVkSeyw2w3dpzm4Ktbz8RM/mfrMYGGGumYcIDkiRHE2quMflIR1V6o2sPJTgLFpbkGZIul0ImR0F+J6xAyvO/GvPcPcfp6jd+vEmxqYlOFAmg2U4cRQ9OfYEv26FdX/ULFK3tieL43hrRQ8rnFVf6uRk4Hg+N4l7MXujEkGRpIFbKDjBntcyBL9W/J6vg/s4CfUQygiauOEuusVWSGfU0VA552xTVqovVqMg9jvytAB3udJpVF5i1RoRdCk5EdkA42yN+7Vvuy03qtjKYJtaIymp8tiEA1fORmdFcZyeDBAEM/9FsB1oHWj1MVWeVDxVSmSgHavjZLADKDjUCzwXG5uuizt/oabVcdM66NaGiRYRN3xiQ1OT/k2cIEGYBgqweQBgi1UuSyYh4GB3sV1Mz6ZWJNJXVdjdHeRIOUHHxKYbXrA2JHtJirJAkNHVT1uVmFJK32n+NuKvtej1DNANsMHxbezeWzqhjqGZKRqsrY1mxIIIQKafH8+stk0q/GkKq+1s3tZsrXtIj27Ydi/PDWYTWS2ozb8lW1USJSChg7+NhaKVhnGpkT1mY0sN6grgeD3cARxo5Q6RJey/hhm9pwa7LG2cbVWuw3QBl98YfxxOJ2fq5P9o9lsw9W+P0NtfNiENHAYQZzRisAUzMOFIAxo7XjVSCWwj1LlQ1n5PGp9wepju0+fc3VmSzZyzespRg7lgxsbbZaJk59GCiLulgYLcPeIR14GZAhbpWhFK5rNZLSau5/uCpm7BKdahvVKghmWz9ffJkRxD944Ee4HtHnoexZOZD1nL735uu2C/72gOCyCeARBpdFgSK5loy1GvLcpcPxbzeMjBWaJlLNwK3qWNYkFC4/fwRXGZ0RLlqzpanezfrlRD4ZO1wFPW0889ormadaB6f1lk8Gu2WUX8shFRj5rPDroV0cRMlkdYBw49+Z9fc+q+bxs6GAganBIkBuXPu6ypnHVbuLwCLxKoy2Z/e/VbaIX/2OJEtm/romq4/K9lJWMDHIZPgvBNuLzsfB+5vSgEJTmWjQxYl2TAaPZLbJ6OHWwMVADDBJI0iTYQviZqov6y46gFyuaUHcmYyYONZZ7J+uqTa72ggg0pydGGCbytjTGCgMSkrrh5c4l3pe2l/j9VpompZhAWvtjImsdvolgOjDGFBhKzo8HAoigF74JQ9AL0AegPczXB21F04N1Pz6wWPhD64VmGYb1VptVFntr3ZP2ExK52ikFUbzgVQAhgQeswWrjPHRUmKVqkImMzHIyufekKy0M1zbG8OKWypjYykGCNW1ThDOgsg0DM9d/niGrYxW/+/cQzmPndQZrCuRub7Zsy+mEviIdiaxePHyAT8yJXAGQ2E83nSOPwUxmUZbPULG4e5t0I5sRb21SHY1cWexv5DVnlRg01rIvb9rHqA6ge1kXWTDR6h4w1ps3zO7aI3WDv+CjmTRkSleb9X71GsCkddbDiwKo4HSrmVtRmsxtiiWTf5Yqw2N3RjuvtMSWvl/XaXVQenSfHJjyTtrqNWHCNeA4wyNXKMZEz1kseIlEtdgMlyAPgC58GZ51A4kX2F9tHvZfdLwksycswZBLpgvn3sC26k5f9zd9OE2ARKb+Xh4j0XvoC6W40eo5xUFwzEoA9BS/+qeGB+nClM9hAAmY5itj7mpnWprWRNua7usP9d7+2RCe+6chRNklflR1m2vqIy3rFY6iaFVB5cQ7GKcFq5zf17jOQxlyWLMWHZOUtYm9CX0NrUqxE6APOz84qXr8+EJWsVl5yKlxOd98kT/3AQClLe5/yp36DOZZFxDaXmC0ereWB+YNTx9U5FVRmepDrgCIgJFAaPWFz6ZxbZTHX5FX3fJZkHcXm1Bqpt9LZbWRuRaDJ5GoDvMaJue3gF505FVZRy7NKSW1ZELdnAZKLBGe1TH2cazSJb8AOLI1eVsBWJMfeBNrlh/+VruCrb1mkSNsqqC/FYkvC2lbE/E5KG7FRLIKYNb47cw23CTo2FLrb4cdkZ760DzwRgAS1UrP8OdBo/9tMdwcgNpsn8jc/52BIsMGqMFsv1xndj66HUPpurAClmE6tfZTGxEVoABwQ5ozDWoieOM96QjJyDu27hDPKMHeRhYYv1mg1VhxpPKZqsp1iBZaqMWMC21cB3LUjWgmcro7LZYTVM1pQ/7iM/yASK3klawAYshu3GE/biJ+1b3Qt/U/q4zJsu/vyN/0RLgo1T9WNXEZFVljPUWeF/rfq3G+1zx4icScAtMubZik/9x3YVkM5eB8iSygyr8zmAEJlYjo8HvwNY7SX0mp6Z/MkJmPqsm9SpNgxQSD+C/iyb8uThTCzOrD3QCFiprJUApzcDl19hDU5D10UAbbxXk3pqDPdRLrpLWtaZzmrZn/xF2e3WyDK2HAsRioAn63VU7n/lZTazWRbIoBtB8b4xVx2sHHMsW1bECbTwiBQbYCVi87mJmq0DK9WiymoOLWSs2nkGN5v4BTNtMdwIcqxWbmwdQy426yunD0+M0mHptYpsS5senbOKJh4tjVakGLtPHin/TvMarNwYYZ7BHANBrk6zJa751WmUl8CSQp/8l8gsQr+bk02n8f2qvL4Hupk97WFqij49Ip/C4RtsA1hisr822g7w4GEMmWQLxZkF00NAabbeAIura2SnApnldz+qNyQyXcdHQHWQtvnfGqFrcuDo4Wk/qXlqfvf1XYDY2iBJjhRVPVY0iYsBbRpCHOPOq9fuaGNxIsl6LUSMqJXXRjm2JtbXADCQJHaF6uVquwmFjP+JspYdisCGe7L5dPwK4O9P8pkIyY92BDDklvP+XvtFsT8aFGLz9OBUbK7qayOBb6h+/Jyao6y+2KhaAFWbjd8Kq0QOoB5uhKOb5MGz4wxOwIkwdc7xqhjY2i8bVEl/SDh3Gbu9obaGEUwwkzY70NQ3P/QL7EA+Y2bAZRSBuDEFbi132E0QKyANvSGOIEpMJ7KooR7OqDuhNJPaBVoSK+WAB+tYIP48qgS8AugLPADe6V1DIfdnzqNY4GlcJNA0A2lnHyhQTk+XLlWYEgeA90vfPwHXrY1c3eZM73mqO8mf1MFREOHjuNpqrH+Hfw9iussV3fwlH7+so1zvtM25SmXjm7gaEftQp0z2M8vEd/0w4zJzvm92+YZ3mfY241TdmqYTGqf3a/mYM4W+NgFqYzP75MNXbr6GBEyO+3LyvCj4BWZHpIPNIVh3/l74vJsCutk2nPOo3PpKlyo9LDIxW3qwermx+f4MYiCqL8doqjTdAMcffAixlUMK1QYt6WBp4D3N+bvjiPqCW3LtqCthskXGOS+gh1hC9sNZoD6FhqfnqjX8bRAG8wddobpS/IPqAknk/XsUx4DGzwcpwdKgYBGNTe00Drlo+nPkyA7wj8k23vmmPBFxriU/PaYrSvr0waQCT1t+5htf48blgtLJXpp3R0thR12iVeXZGw6YO+tm4/prLmhXJuohZLQwAaQXSBiqt8dn8ZxZjcE1MNoVPcc9cyfNkRDwbMHKQSTZbpZRDvmF4sAFh6zRnH5dZZn+xdRdi3ZXfg9Ty/RC/l1ss3ZxfNrDhTGn3sTyr7evb2goJ7E3MNrcBl/sxwI1rNE3P3RquTMyG/hhPzGjjYCfQ8Lc9ksnqdxh3EO4f0eErrwFH03wHFhs74kHSH2H3l+tBFWRGOvlbd21qxJbaDNAn2RdGwQRkbSGCTBlg4gsxYjaB/chgsBKf5Ece4TJw5Yuf60DxmyBYM9ZixnoPPOwdNmcyvy4m9HWba1Nq1VKr4wP2aQSsiSB/dIOYrDR+9k5l+Wyhxvd3DbnFJ+tn0pnBEI0XcS5jP8f6Xjd8fb1UVb0dPHdmfQYj74VdAapVbj+k7IDgjeb56g9ZmIwadlQJb65Td0jzhdrQHTX+ywz3ad3mxGK7WuUqVR4s9kGZbKHC7ZZKWrZprrf8ZdCIa4yWllxnwLUh7T+KAazJEuKD0GjO0+zeDq76yo2VbRPBskAq5artgxJHwHzW7nqeJKX3s1I6g4zqIJXR3gCwipeAYxAJ2FRfwcVmezeU3B36ddbizXFQ2g4uJFvFw1RAlXVXf+B2jcaTLttmw9Ix+xDfgaVV5FYd+bw7qUbzm8xqe1HMBMufJnvgoVJ+rknF3jsUxP7bmx0ohoLWZs5oa1S9KeyryAhkvMGsmuLfiUS5jzfbo7wZvuK8TjNg9g38ynfshoa/6Z/S/9rGFQFMsB6uqIpqE7NincVG7KM11Q4zo4VhY2Q0l+9vVM9rQI5z0OSG8r4e8+ZkdZAbZFIX0eI2tQ69Q3LdMDvBpFL8KTcDjm2NHWxd1WrsZYnRppYhLY2+fsu+yM+QLwRdBsxLko9yzZyg9r08Zlx/eXTdnjasjf0KI4OfZT6kduyiIeG0FTOqixgYrIGsq5Dv/63rq+DTWqoyWj0iNRlJmP1SJa2Gk1ANaR3Gxg+AAGedVIFUG3RUAzemipRhpgPN9p6PVZoX3Kug+yFw7lybQ5AHpG80+3AFcr12+RRCZvg8imWlBgPZ10eEToa0w8b+EiqcEZHa1jquhfwylxpYxX5ZFFYf8SNkVq+Y5oi3YvLIFvDf6r7tuxOweriwmsZDsPoYKmIDmChyjfZfdjKkgIaA09dks/WxnvBIFdSAhrrR7OyVbNaYS8lPDz9tHN8x1KmhTwd4hFtbzwraETF/kOV6bXc1kk9kNE4wNc9bgT/ss07z+4DON7kF6zMJcTLE1MR+EBmehsWfy+ixDB5q5zLVAOq/CeBHwEp70kut6ZT6KZ9fqBW2xO4GwFW1kTamKa2qjA1gD/crqY54A4Bxn2u0IGLfTyuvsdjVDRzrUwlVdSxrMNypiLIvMIHSuPeqYAePXxuwSm49Bj/kDjPm73XDwPQ2FY5VUuHyVH30U1MdL6kb1UADmF+NtS5ju4fafp4ofeLA34UTUyutjr0jtXtIx0Uq/DLI1qaXrYuL/Mhk2IF2YLACMIp7/291oLEpf127Gsn7ZrLlkVQRidnKESnspnt/WO9UgNRDBllLK023AUIzXz0kV1tvYC1/07h2xQ5IpU75m9zObLtLfpF2XTl4v+uisth4MTEYXxWkZlqeN7GvbGn2mf+YYjan5BeSQX+S6c7Qvf/4KUoj9KdnoGlNijZrwArQoK2/Csg0GC3SNvO+Mxl4vcUGjspg3dBRVceD6Z5ZrF2zCXEMR+MMzSfsKeqEJlaEGm+TvwPXDrbOE3+v21ktVcgVU1RzJwoGoLHd6Xsg/vJnj1NdoHHVczHaYi9fC4rdNz8jDrCBpDyGeeo5SCkivKNYJps7DYPHBDNa8eem9Qy0NWvk2szymHpp5v2639UBtx/F2gEWFkWk6gi0ly2RaiKriP0jrqC4Hs9ui2c8eKt00AHJcr4xs2Xeg3duGxN3nfqbXK1+Dr5gA7ghJGehNSA13hfjT8jlpvYalW8mt74huY5chYnFzPv57f51fQPsRzT8+5HJPwKJ/TalWvvfI+pum9pw7i3nXiwfgZYKDM4eWCxBFcIzsIBYd8n6TeMElwJ4VFaLNRp/c6P8lbUar7t4/8vXW7zJzMaN7uerNy8P1KoYHpnsCQjkKGTTNZ8JdBUHg/gn3TcX92lX5h3U+pyaUOjqTMDbAs5AiHWbsxyxnbNVuZJWI3ZImQGhQPkRelur1U11EywtXDksjm6RRDyb7gndfF/URU+f2GtQHSfguez7fz/yNZlnh355j83VzQBeA5t/WyuuClRg7YaOnFX3jn/VibWOv5KR013OVCtew58GE2kgzNn4IwzX6/6nAeeuadArjljN+yU+rmoyad5PC6JvQruh4yKGc8Zbzey/sgY4H63jyqsMr0d+vi5/MtjXQ0rdyIyG7leADVzBcjcM1oHF4cngAaAYOrrhYzFZxl3OaNsvch7AVhgMdR3W38wGiLkoXK7+QI3FvIl3x3r5mFzUwGJRFJR1mHK4pe1l3Ua+5D6f8+uOnhq1ZffXS1KtRF0nGRYXEOpGszOca6D8ao1sMrzG0xwbYhvf1h0iSmNjIY1Za/e1kDYpn1xdjLP4821Am1mrxD00ng0Mss5yKC9+1o3leoo/12DOaEBnNITf0/zxisGjrcek/3/CUYyYBsOuH0Ur+wYstZ5NjaFCxHctbD732T3SGxH2G5c13r37k+zGYHNwFfD7YyNZxWWD6RTxrUdBbjo7w4VZPw4TI+7wBuWmRq7N8gjwg+tL9XHWmhnN4jTl2PnGtQUyQ7vGuOuAK8AiAMUaDQm4wmgU92vJvr+ZYlA/QIoEWzBZnvB3Xbuu1YjF4tqYLFis8lj4tIXvXAcYsZkDQJqwnvLTPXVKjJhn3PScu/4ku00uBryxT52z1ohn1uB+VTB7WcvxnhvMymgq4CUS6uYDkpZGNfXUbvSALyvyCFe8hV14rPnb5nVZBgwA83tHmIAmvmPObPZIdu4AC0YbjSGa3wzplkRXAwViL2LaC5mcTkzGACwM5n5l0PWO3qH1Otj2Yavc+OG1jjW2i/0dZzKs+PUVKS/bPA5cQbejfMr9abDlcK2n453FynC25wbydZr19WHXBFbkZX5nNNVcO73FFEUWQtMwHEAPahEHc2Xe5XtESYgXSL3ma8Kgp3HgDUYQZqwpHKzlYFGADwoLQOswin/KaGgGjrbuWnEOHI4noOlHADYw2jM3jtCmlJG6F4Bi2WYEqaAyEZwB5RroV5Hyp8HWnfeVmicnS+WWgihZAg2EYgDz0x2rnDzG5dbEy/rCvxsZr4iaFdIbxN/W9lHCJxxzA90nRTpsrFK7MtRFBxwKsPw6AsyYqBo+kIAyMNUwwhDSZcqGdbLUbkGMtRgSUNtp+2gahFx0IqWVznXXRt2r4Itsofck4BhQ0Y/FCOIXBmDWVQmUkf6NCPmdYLu7V3LEmpj8K8WeVk/sV9VQ7KR+qISi0ff84VUAcYj4CoBkjcoaLVi1K+vr0DHt2CEOL3ucY2vd0AIUyUBz8FAFdoMH+7Uw2cZeA8AuZ7R3a77ts20boxFz8VU57M1ED9Dg1QEk3CCvuKYuluNXRjfKMqQekhbJ+ovV1YGVCDzZOro6c0r929wrtWWVrbIDwoLoqqMDDLpO+j/Et3EQ3yJx9c6Bs1hJY8xPPb+RjibwclqQop4qay42nnQDmKRfk8ULq4U/wROMVgDWTPgHwF2/Vh3eL/quYxo4nMEcRAk4l43GH0BGNENsVl1nt4+5XV3s6h3QVbwGIGK8gqhSdGW/8WaHqI88yZ+A5QQwWNxqHx/CbDFGsU7yazepSiajCfLFTTaCXEjV0j+lwK6uuxCnT0rXkDYSH35tABNWGWEVJkABCFUxTuLz1UHHLAUUVREOJq3xV2c0X6PFL8cweJqKWK6as140NAB/E7p34CvQehl6glAX0jXQSVquiiilKYNImCwJlHEvKpu930BqfyMHbqBC7hn5KY84z4jKYMtl2zJwTDq+usUTsdTuqFfN/A6uymSSKqo6cxGj+TX+pKqILt8MHRVoMAbbgVXWZg9srPfuABnVQrpOACrrsSZTQXMPss9wW+O0W8ENQJ7EIMKefh87pP4Dma27O1Uy5psBhLmBTYYMn4wFYeYH3OwvNq7zOFaZuKlJAbN4Ir9bEhZHVyvVYKgII4gyo7U/IXbb1Ua0tVkFzcZoDwMoMd8VbLeqUH+IkNjMmW09ZAWUtPDUMJkyd2a4z44uK6RaGBtLhWBumLad03XxhZ4NIKCpndLy8Q0Gthvr+sJz/m6wTSAq8RoKQMTHRErvlvnb2f4i53K8ceAHj/0+bsxwlqyn/8u9rQQjEfjP8zpOMF1HBpv/GEwACpg8fduYdkD9ws5wbCDxMKaf1o2Hq0BhBuvhNHxk6omlPsNeL7vTiPFggI3iT/5joa+kPEv8hzka8VsT+wRLDLdpPlrj4/uRqAeSfa0W6zHlH8KgutjVmQxgVdGWBRHGemXA8zZggZirMFlZo2ljMMzA6yrjg8469iNT22+GsToYDbaz1bN9sR8F2FaPfgokdcRKdit+Xdr8Hof36LLrmlMFGh1+tP5/Dp99zilOM86tjywXDAf/9BxP2slufmA41Ehjs/hdbE2/LZnWUS8QkxGrMYOttRltWvtbpQ9CcGMynJisqIfJThVoCarKZtjN+xU0Eg3KIMtGHeCi9yD7cYAdWEhEG3sVxIA3rhlQpPnUmxxs/Z/kuz/mTrX6SG19wsUEuJDK0niM+VorQSllJ8aZTMpYXMaT/DadhEwyVwJKzNARacFYUgF2pzKO6mDKFPP+L4o/HcHiY1T8sB6qQOPrC/tjv8sd1L/KXhRvYHNLGePPwRe7P5PMdNOXmO7jj/O97q6XqpYyNOcu7YBAXmO9VvLUI1Ox4az1Zc+wOqobPHzPLrvhQSymcD8xWQCs/0ks9Fw1BGYm64DbWO6Xg0hrfDCbNqAB7xNrMaBO4BLqjd8KqpfdAkkhoqcjuKJ0dfoH7veN8Ph+sM29dM/Ie04dJPo48Y8NdAOZr834ZIgvWXg/jc30/upMoOphd1Az7asdxVJmMk1wBag0Wawz2pNrVRl1AQ0IY8hoAGl7b7FGmxuN0rTKTJ0whf+IO46eA93RCRHeBtqyAjiuv6Z8fU33QfT8rPJ56kUp/5+aoVsF+XqRvAMoyWU1sqKb6DVA5b/ppqoJVmOuZZZPkCWTSQAs9tEe5cZm4CDwHQFGa7LGVkV1/IVdpZwsk+hWR56BBmA9A9WnQPZdo2ksxwDE470bRg5qZykCJFgA5WpTy3bSWf+Ue/mI26mnc9LtaqQ/XWEtdUsiwjASn5qzQpYqaep5XE1NNNAFW1katDKZg8z9CzwJuDR+SPoNCK8wWgJNB6Axo01nHZGAVduwnpq4q4xTd/AA+iuYbHKEj23s31kRY2+tAiWg1fY0/ORCmer5+rXqf9yVh+1l7kx1ulcnag7341mcLrDvNWIB5yJAuUnemW4Bz9koGSlYz5htB5nJPZzlUADH4GJWm4CFgZ3KiZCuDjbATRbKukbDbNS4Vyxq6Gsg+8bZfmSniYlaFjGf+sl1DbmV7sCagNmH52m46jn5A4/11N0AbI6fgMhzxKxWTsACxcc3+ZWqFUzmAWtzzZc9F9A0Ji59GDgfBrwHM9m6SQAvgMUMB7pKstmJyZilGrtNp/Y9D6uLwYJUbjXvx5jUF7vkO5jsgICfdk/wcBY6xD5Fw28A24ebMPteG2Qq69UNHDpYEzn6ckPJz+ssINdsVxgz8pshsDXY2iy23+BWW79pAk8eMBVRjNFgIEQyWISRamMDHxs0ejhAU1TFZlFkIPpZyQ5gbPtoDjDZxgUovcZ9g0taIff9wNvWZAAm9VFApn/SBnNERWlW1aafHo0gX9Qj79yXmCxB1kHnAGJmy7McDp4E4qUJUCeVXUV0Nc+ai1nM1MPL/JcB6zJgMaPhYWqos1oH2C8PI68OoACUsWoHHK/RClMZ4HAwhthksauObfFSAdf6Qndl4ufcDw5KNGBwPO2bvVwvaxuBnl+/KcK3N3hW690FiD/jnuRr84VHCbAzm+5+PjqVzLZKcBAzi6H8rXj3C5v0DXjyMIZ9qAEPtCarjObAqYBKMPb1WAEcyc4b2Ng+nrozWmEvb8ba2jyfbT3wHe6oj33HvbLwnC8oTnLGHbOGkI0skDWsZarkRWAbmfTjz1aKeWpNfKbsdyazuI2+iem0qpFeBz6TKFhj3TebeS9MgfI2s5p6uPbB0oqoD8OZGRgevn/2i9djpjayP9iKGI7ZqgHJjSBxnQC3AcsA5/tpzJQuqwlKAHjfu2AePGOHHY4lfb/7JLuFKvdi9g0MwK5rHjIdZW/yF5X59ec7WQ33ws9xcxkMsqH5JiWA5Txdia1aOVGGM5z6wMxTH8xgHrdUSTSWc7Ca/CPjlcNddbwzhtBajddoDrAAJSg+AFa/MbIzGjca79qWxQm13NbE3+Rui/squ90V3tIEaJtv6+wkKG4n/edge+n5XnOzhnsqY2Ix8pc+zlW7WiiAQ2uzwqaatutkNInKOUji2JQNvsfDms3VwGCytRZTGrjOcLEu+5XrMzxkrdOCwezevkYj0HSwbUaQxn7FIDKokEV1LKAD3KIKBd5j9uqHbNH9wLjv9MqJ9o+4n1ya3dwvVb71PKEqHQHi5yGpEPP6jD3e6DtcmxOyDpN7El8YrNubD3njURcIgZyTC1s5Q9KkEAeS1aBM7NT/0txP4YfHG2MRwOSZ1fEXzirjwdqYYNzPPG4qpd27gM6BJrFW4FbKzwDsX5eagPX1QfR67ifM9lk18ZSxYqi8JFoTGwMCw3f7hfy6lf+6kzGkh/QTi03AygkGwVou5y/8rrUYreZVEKACjSdFAgnrrKD2K7HV8i/wRZwBIOJ/ZToeZoU0mWSwndGKytj9E/CaQWQLO7OhMVpXHe3Z18mQovKc1hx3TNdlP+54KHyxqPubTOVuI9WGW5lTJKdt97tkNEtTLW/XX1K9epJrsrftMjFQA5n2+CHPNAdoyudIEfh38X3IFLDFH4MbdKaxshb/LWbw41SpUoqrlAYmNWtjMNcDA+BwD7QJcD3+gaoyYgAeg8s+Tedq8jvKKPPBNMX1pp9G7fcgJMF/V9oTZnvpRo2dx8c7TTyUqRiFqjIXFk5G5LGZTmqeuS3PidkGRjsAbGKwjeE0mS6ZrL5H5vnjbWiVUt8wdiDXbBftp7laWK2NCKujb0arDf4A2APGcljAeqAyHIPK0ouquF01QHt3DrICTAeg2XNvxpBtkCkgeS4tB8oBeD/EQt9bbA4rbXG3dxsB2fMBOa37IJvuhZT9iPuAKd8hVElyYjCT1KpCxm5qA14HmTOa10+Rg21nNj/bKDEYH77eCkMHzDCSrKYBplVOqI6/VjpcdZyY7F8ojBYnQwyMI+AmNZFYrauMBWC+/vM4lwHwnmOE2cwABS2/6VwGzBFs38A0dJsYu8cSW+pXCA78SDPoJCafkuOA0RdVx2fu+Ew3qqJGDx7kK4tt6zUCqLNayCnLU4lxGNiskMxsBXgJNlYx01SfgOPPDzAQU/VLMKbRw1nJGCwYLss4MVq3NHYjyCaDvG81glhrWtzOaI6rYaLP38uit4872L7btbGML9/pSV1LclMLGYmSkfnDGKQukf1d7OeOatmvPsXrTLaK7eqksVMH2cB0DKgIOwMFQ1Z1khmtlF0AJclYSMa6TC5URVcd3a8Zh192Wt/BxWqib1r/SyqDmepYQOUMReDrVseN4Rpjbcw1qY6N2d7z+2oaKpKz2N27WtEJHWyFFlAzfZM7cM033e/EUjcA5V+heVLLmv6CG4s4MJmeZHK3tKuDxa+71ZHDXcXcrg4s1PNFfMBYh8Hof9rjmaVaWGjdlvEaLBbxXuaj/t2xFOepKiNdobRf1p4J7TkwMBprjkKz8NSH+TvDJ7BR3FfcUMRXS635e2kZjt0yUierSsYzEY5xn5oGjsLSZDrwJhAtf9ajMRDXta/ZKLy62rd/KO901f2aVkY/ryipEhKr4VcyWq7RBib7JUs2mEshvjZzhrMwM9ppjVaOZ9FLohsIT+zFYQCuQhKjAZBlUoX4F6QkpqOyfNu6Nbdufwxsgzsz27N7fbQ+N9Q+Uj3B6tsefWCxzUByAhinGXjAxpKdoepkQvJbGpXnj2uDLjeuY3gZozlgfTBmOZEXOXCjHGY3+itMyMYLPzkSKieKWb+wVOQf3sDeZKy2zbJYwWatNTNaspMQyNjYGGHuF1c3gbRSBqR7Z35y1B1BfgLbs3vNgEnNNx+0fPdRTDZHadwvS5xY7vWaVYFXANbkSvqgKqpQDLFXu2dhNq3glLY2U2KryRDi6zTeN4uT97oYqbAaraGUmEdj/YXKag8s5gq2w7ZWO63RigrJx7U43v1ABR40gbexGaJN38sr++IfqEmQ5R4QYroqhyOiY3Twea8AtRN/B9i+4wZ3KmWBZSXyT57Mz4Ju0rSFj+kT2IBitHDftPaKx/L9Mgffzmbu0yJPbrA81iNbDaTAzFbTnxlHQAeK+xqtslz+FbXvMaSVNRnn0b0MzGEfE+sIljWTq4sSTJbgY2bzFnI1oQj4bx4rnwN0GWrsDHyLG8HWtxo2gSnXK2ADjZQ++PlGZ9CUmmmTnep5B7CRwXq+M7PR8Eac9KD8ua9mst6cOvjpFEjZtJ7YzdZobLJ3RitmfKX4xmixNntorMlkY7S88j5ayHZQFTYjxtqsjf5sFEdhIOPeueHFkOMzsp/k18JkUtZq64vAhfKisN0SV0U+Bbgb+vocs30GbM/udsdKs2SU1EFXEr8JYJH+JM92Qj/BlopKqqFpnVz+GBVN1c11GK3VGJjBZMRSA5MxEOFM80B9PWZak3VLYwGa1rQJXFMYFI8Wh2A0jstlb8zLjdEibELlg1GRUZMdqROyJnSDbWA+gcuHEfUM0LXATS08lBH7Y8fSnjNbzEuUW7f072KwU3yNEypDWz7heBjbOTCsrNeA01W9Cg5/ZYYBog04hZ2IpWJfjc46dibDr3y3LGQ6sLo6yWu0eEZqW/In2FbkO/8MyC2g0IejHfr0aS4YzDKG8cA7r6mSI+Dc8eD5EKIOKuScehe6j3teN57hzxJTPVmNa7KfAJE+BeUJqFYXzQk4BxKxG9U5zj6S+snsloBk9ZLKPv2xOtlZavpjwDlATiDt7HYHtKluoIlJqRHaBJqfMkDO4n38RyM2DPl2QNl7M2rTgfZWY3fAUU3HcXsarM8G+QupI8BnYPEGRlbhdRVxrgeX1eLH8CvMVuVlS898Wz/052HrpDK7IcHmcbqDDRrDxPwVoFLYr7Kev3fGgzrXgSgA7OphSTsAbQMWs1RXF7lcoBhH4iEn0JF7T7N8UwFVbI2mZnhciQo3jtiZP2nAJECu/jgDLusjtZZnlKQbjRC1xFuwlVHT0qh+W/wQe7oPDzyqWp3Fx3v3erb7n1jqBeBxurT4uNUJcKV7JAcibHrWVJliklbeEkCAcmavjHeTfwJDPsFomFVMN6p0oDkoW72qyqiljqXhBpBtR7B4wARwCDRpEMkVXMz1Ni11dvMbaXjoLuVN5qgWXbRUeHTjKD/qo68WsJejN9JTdm5oZEsd71HA+AQ4A2Du4/u9z+XXlhvq5j2ue5/1vJXdPG0Ya8ZUDMR+TCtU1ALWJ39NLZzM+542xW9xNg5icmJQDcAaGO2yeEWeUDPmMmbLtMskHkhligAH2grwmwlVrhNJw5UnREdvmHkFPPHI1KHnfPUU+iR3AEkXvakar1myg56wF/tD7jlL3cbzfcc8KxwSDJA2gPwIVnRbB5XSusyuk4p4/ycBBO2MxX+Pwc9g61sDz1RIxSIBBi0/JwNuunY/wryvdMJcsdRGJFN5YwPLqBHmfwTrbWzHR7nICYazkeFNyJa6hhgPktdAVxnlkGcb4DdlD0mF6bZ6dslDuDDZKe0jAJvVv+dplt5maeW0oaSS3vtcWYYPOGcZDFhmOc9Y2K3U/fz3jP3kkJ9/SL4zV5mEngGM5GPD2n/TKjnAWcx/Oo6eODa0H5SH5ZzthMrIsrs1MzzBu1IfygIVA0SHpfF3JNCdW4puDbn8VfXZin0GNq8s1bUMtsJmp0E/sdo3qYxjer+ny1n9w0/tQs+Y7JXqJfiZKS5UQ8/TjRz8dzJydIabmKods5rWcXyAOGTugIr9mtshlNb8uUZTNGsiBuZyoVXKYifPUwt2BdRDZWOb1mfYGA7ZC22g1S8BkxtkRzRs7iOyr5Z1E3c0YnD4AKDh6NQYt4HlBM6pfof45s4T1zDveVwZG9WCmVbJrMcUNw7+lj7GD+mVzfQmbS5vXIvdTMb7Gi3eRfP1lkLpfGO0Gp8QteaLlnBLpamPq8H6GnBnuKgfF+mxPLNSb25G91HNJOD3hgN1PHo8Nlbb1US639b4zGw004M2utvh3LP/iXr40iZ2T2v1H+ObPwaaVBFKL9OXtjgGjKW7HIMo5Cbz/RPr47Y5fZLV/Ucvpr/taNUr4OpAc085fW+fm1Nar0FZMUTZj1ZrQX6TuDPkugY1Dgy3arfKdrmo3V57z4ptRXfjvpPBrLxpZjuyiFCsD9QTKGTLszNYli0bUG7U0y29t0gD501zpcq4y2/sdpioyhqQ8m7ltjwnYBQwHMGjuxy6zFDWUJdTPLd6YbQctr5iy5KWFXJVTuVhM1r+9Hcwn90iGQxUlkZa3sv347JSzHDR2NvCDkE5i+Vk6Jht+FjMvWq0Ze3+MqsxeJAnMRTYWCaaM/2yrckGgNyqjXfxLa3XY5TK9I9MR+MUpnN8AVEHDkAnTniwJzCU2aeb8el62qjO99Tq3y14cb4Kx7Xnd1f20RaIKDPJhholgOi1gAUavIr8ET/U/TGWgXhZGgwnppfGIOW1oK8XwWn8NHcsxYMsIdZnz62OQ3qVPZxHVC+nDXwG5QbQAUyb/J36eCp3CB9lenqVmtrrlH9jMSqrl1PUSS7DAVUGuwTgXt5LG/+0hE8Hg+tkWtM3YPUHHhqgvWHtheQRqomVfMgKHhlfGM2LY9ZbeXydlN8lsS7wkyje8Iz8qNdKKAYRNqQIEd+LJzsQUyv2660KJbUzePA/tQ7exR0YrqdtcS1+TL+TG8Qs/jiVHfKMYCvlaMk/Ag4Y12wMuBFIbZO6p29Hqu6ARuECrm2c3LcH0E7vs2wULAyyDrgLvEKqwEpQxp5aBxzdpx8awRavoR4uVdH36IIiy3M83YiOxpKjyJ5dhkZ+ph4OoOC0AlD23wBujOvlTOl3soPrA5/i9SDjEcfTdOrjJLs14xM8fQthZzEJk7wSeE6nP0JlnNInYHXgYbge22CPy/fRSDNbjFDjWKUsYLSwBAt2dbL5rdx+nzJr0g3YKJOVWYlSmGtQE738NuDGA8Lt2eaB7Gkyhwt4yP8MNLiRGdnxwGJ34Buf45z0zJ1UxL2tcWjtOk5WfXIUFIM2IroN9tXBXzWMVLC3+925U/oQX99HU8Dt+PTaHupmNg/sagxJ+slpIdRJeayNSTf/Wxnbu29c3wZKjgv2256NhNE6mgBwHCha/TkYqhoZr+x3cMVm9wC4DpTNtH9gupLG8a8wWJ8UBpHJvTBr71Mb+UofSZPJ0NZ/NDEtACULRXs/M8l3Y8mN7FOQYrhO7fGkXemHCJsZnygnvs4re0cyvhZ7WYTHAWWbgBksDSLcL4Sk+HZJ0mJAs20Z5FKPKJSe7UOtsgGkPPEus91n/lLULdg2cPX44V5fAthHmO5VdHK5e546uVW5M0Om2Kj1aKgtOzi0ZaA46TebwHRTl9vw4N5H8MT/ubEsjBKqscY3Rpy9LkdRxuW765GXtwsibPcN8z+9u7PBJueBrJKrmol6eh4ug5+QHmecsaSqMY3ZOpuVK6uOyrInMA1M9tQA0tKOMl9xN2XFhJrT5DkPGcv6JEFllPTB+HFch93F36VzxY9ALQ83h/fHDXcJJKh9PbeAB8DCYetsjxPLa3nSj8wPQXwASDJvjxOhcvydNaF68P1v/ajPU2Ts72b2EvZta7EmXAA0MNWroBrlqKwjyAT92cd69/SX/z7ifAw8k+k+ctS+0sKTzBEcfdK8K2Mq5ztcK6vuo7kAT9phdu8bzUu4MJEwe9kM5GszbgGzGLKV0kqItLzPsMEd97c4RTP5E4GSa7bO5etypZM6e4FmWCrnsOZaxN4AdVqfbUetGqA6A3R/Z9nPuG2gPSunZRDA16iA90lRK9IjBxYk9nKwaWgFmrd95W9isSkOH7gOj/00HsCVXmIY0NxEjCZCDOfJxExCs2F+IsHYi1hwSy8zYU2LcrkefQCUe3M53b0yWw8yAZBpkEvKDGUF5E7sNpb1WZB9hom+4IZlR1QD2VufKPgQkgoO4DkQXmG5Z6rhK0z3RKZuWDudcUM9Zbh27MpmNcXD+MZlfO1mL406+8FP5NcN8WS7de0nsGK2o4eZ7CCCJjOwWm+sykScLsUf703x3Tp7vcB8H341ZqrP5r4bcKdG7fepjWa9l2nSUydma0WZkuRgiT6OPwGv4fa/u7Sh2nfxk3sBiO+F5tFHqsSIXm8Ja2nk+FS2xdWXRekXRRSkRkhV7dzPgnwPB1tHDADuP09McFP9pwPKp9mru8JEIPBwWVJlO3u9AraN3Titx7dwcZ8E2NPBwuXqnhRNvs92mTx14ine4gbxbY+NQTH5u7tjxVfYq5f1gosN61h3Cc1AjeUKaMzfv+mYM5ja29gWr1gWysJaeZvlv7B9DsGhw2QbwE2Nkvu2dls9Hu3PWsLcnz5DsivsRDdk2RtjSDBk1G64vqoujh37RfZ6ZbAcWWxs9JQRrRPrDdhmyyXJasbFOHgGshODTXLtkZ6y2QdAWfbR0mcPHKO4MkQcr/F2EBu8KrVRXVYSTA6ItL7bmUlmSapRvLZj+Va5/iGgRFzpJknFsxgmqORTd4eLTuD8KABK2Rt2msB2lOc8d/FT+sl9BoQfmdaLWlGjtXie5+Fp+qRxNNCUccHpXXYqo5d9cqe6fMC9z89cWU75xwqBoLE62LvqyCWkBtd/93A1kmwA88Yrr6a5SsqTKPWjiKmZzMTl4TpTtbmzA8izbvEJlBgaWuOL7JR2PHI11GED2TPwfABcTxny1VF1N3VZK7H2c1fsRwa2973108hwXMaJ0Xr4E2C6c8lovW/KbD4BTohZMs+oSqoA8sjBLLVbxFXGdRMoHiRDXNXzqtXNPwqkzFzEauPpE6vdYbbbX4Vpg/2ZWX4whJDSQ/Hkx8E/Mlx3n2GuV9wHQNfXZ6WTX2U2aiV1LUBTTIFi/ADFUb646M0fu9OjfQObAXBToP+Rkx6oJvi4CpmwI5rL5C0B3qgmM7546R6W+ON75rlM2tBuG+yZuvsB0MB+8ndiEJV7cPX26fk318ru8T8Jsg8PmhfvczL7W/9+vLY3OW4YaTtmdcr7WdB9wL3XYAcblWwDVCy+qGhu5HB2YxWRSh7ZzNVP5GftBA+46ugg5PfYwkDPMptK0lXHmA6oTnqYgKnyNIvu6cyIZyaLsDNlz1P806Rwcl9gsc8MGgGpKprNuhPSkFAFjh+aroUU7eXoTmqiVTMY7qQ+Tv5n9/ygu+6TZfRGcGM9u279z8yGZLMywzFrJqNFqjNdSEmrRGXWvgU+D8rOYlVOigwagA7P7tdQZ5obGeqjgDk9z+90r9xfXqzqB5/lFfVvSBOO/yhrfRF0789FiBXC60MwP6b6ZWYbZBxHavcMBvK8vnlObNbfeZvKLzNeBDVv1lSQ0g6v7KNhuBLoCqvFA7bBdtyM/tMAY8caw5B0ZDZiNdky7EV5P57AdaM+9nRuvaPhBNjL/KJ7wmjs5g4+M9uUpTEbKjvlAWYhMqMpkVhtrtt03ZljfJIj+9xMyRsgO6hk6KSvMtk3uG9UiQCY9vGK3DHwdfeJZ/qdU9YLjMbOB7wrvTfMxiLObJpy45vXaPGWP+ZNP6Zl8ht7CeWz6sb+HqxQB5uifG3p1o0HicnPbTMC9sBqo/wEzn6vL7jvBNmZhFq6oKz3Kd8Nj5WUTW5SHyc2m+T7Go5Efsp9gNHu3cZsk9/ZiJnKo2JNRrLN6pjkQrJUZh2Knd3ont3dtnBX6Sb54V7TxjanndxPguw73LEqP1zHb1blRm332frtC+6DjOZuoA70j59KMk3ka5/58W8x8nTlgNF9nE5rLqH/QfLx66NbrZPV2tPkI42z38Re5i9Xlh1UyInVerlP4z7pfnLKBrCPi0Pas/zsqE3jKF53E3ud0sayaw1K0je12RcYTcrlbu0h/J+sJquMJOllprPwZkFkFoyypMm2PMX/EUYRzAYQT+Nr99+5LvdPBxk+Ud1nGQZt4i7vtmY+5X3unoySD7tvUx2X8302jqKBX8CWghJy1Qiyv9PWgSpz+QV0DLxT+O4vn20+Td/U225AuXvNpcf8DjD8uPv48PzOAV3cCWxT/KHtvwtwXwRaZzUOUhX59AhLBfCmFz8JLA1AEwj4kwv9RdHOiglEcm2t3mVTjgHX2G1zJ5BJu9/Egj82/H6Dk+qVQzx7Pvq4kzHk1Xyvprcx8ZUe+QZG6w11bjjh/4KZKLWb7gvA6P8Y58xaHcwEulLgFK7lJHtJO8YzHUMj/2aVNHfLar8BUP8EpvyKqvdFNfEj7rO99c2qo7snKiRdtxMiYW2keMl4L1h4XbbNmAy6nQGP67SuWsT6S3awxIx6YrWBpW4GwM6i3+T+OpDNzzbGDqqetPBT9wPP/xl2+yag3dH/MIQ65iJw950PD02cQjIboM91WYzVQFSMHk3+tHd2e59/sgr4J9xde32yLX9osvlIbX6I0ZbbIFHOKnJ8z2WsJh1gjQWLuklAbXG7aunq4XDf43xFeQbAxTMdtwT2PDOP/QeYn3LfvVZ70b3Kbj8KtNfdHSOexef4O0b7rPtIWf8BynJP2uGvU2m/5p71+v8HUiyhtPzNoLIAAAAASUVORK5CYII=\" y=\"-9.352019\"/>\r\n   </g>\r\n   <g id=\"matplotlib.axis_1\">\r\n    <g id=\"xtick_1\">\r\n     <g id=\"line2d_1\">\r\n      <defs>\r\n       <path d=\"M 0 0 \r\nL 0 3.5 \r\n\" id=\"m12060bd2bb\" style=\"stroke:#000000;stroke-width:0.8;\"/>\r\n      </defs>\r\n      <g>\r\n       <use style=\"stroke:#000000;stroke-width:0.8;\" x=\"28.0122\" xlink:href=\"#m12060bd2bb\" y=\"227.352019\"/>\r\n      </g>\r\n     </g>\r\n     <g id=\"text_1\">\r\n      <!-- 0 -->\r\n      <g transform=\"translate(24.83095 241.950456)scale(0.1 -0.1)\">\r\n       <defs>\r\n        <path d=\"M 31.78125 66.40625 \r\nQ 24.171875 66.40625 20.328125 58.90625 \r\nQ 16.5 51.421875 16.5 36.375 \r\nQ 16.5 21.390625 20.328125 13.890625 \r\nQ 24.171875 6.390625 31.78125 6.390625 \r\nQ 39.453125 6.390625 43.28125 13.890625 \r\nQ 47.125 21.390625 47.125 36.375 \r\nQ 47.125 51.421875 43.28125 58.90625 \r\nQ 39.453125 66.40625 31.78125 66.40625 \r\nz\r\nM 31.78125 74.21875 \r\nQ 44.046875 74.21875 50.515625 64.515625 \r\nQ 56.984375 54.828125 56.984375 36.375 \r\nQ 56.984375 17.96875 50.515625 8.265625 \r\nQ 44.046875 -1.421875 31.78125 -1.421875 \r\nQ 19.53125 -1.421875 13.0625 8.265625 \r\nQ 6.59375 17.96875 6.59375 36.375 \r\nQ 6.59375 54.828125 13.0625 64.515625 \r\nQ 19.53125 74.21875 31.78125 74.21875 \r\nz\r\n\" id=\"DejaVuSans-48\"/>\r\n       </defs>\r\n       <use xlink:href=\"#DejaVuSans-48\"/>\r\n      </g>\r\n     </g>\r\n    </g>\r\n    <g id=\"xtick_2\">\r\n     <g id=\"line2d_2\">\r\n      <g>\r\n       <use style=\"stroke:#000000;stroke-width:0.8;\" x=\"71.5002\" xlink:href=\"#m12060bd2bb\" y=\"227.352019\"/>\r\n      </g>\r\n     </g>\r\n     <g id=\"text_2\">\r\n      <!-- 20 -->\r\n      <g transform=\"translate(65.1377 241.950456)scale(0.1 -0.1)\">\r\n       <defs>\r\n        <path d=\"M 19.1875 8.296875 \r\nL 53.609375 8.296875 \r\nL 53.609375 0 \r\nL 7.328125 0 \r\nL 7.328125 8.296875 \r\nQ 12.9375 14.109375 22.625 23.890625 \r\nQ 32.328125 33.6875 34.8125 36.53125 \r\nQ 39.546875 41.84375 41.421875 45.53125 \r\nQ 43.3125 49.21875 43.3125 52.78125 \r\nQ 43.3125 58.59375 39.234375 62.25 \r\nQ 35.15625 65.921875 28.609375 65.921875 \r\nQ 23.96875 65.921875 18.8125 64.3125 \r\nQ 13.671875 62.703125 7.8125 59.421875 \r\nL 7.8125 69.390625 \r\nQ 13.765625 71.78125 18.9375 73 \r\nQ 24.125 74.21875 28.421875 74.21875 \r\nQ 39.75 74.21875 46.484375 68.546875 \r\nQ 53.21875 62.890625 53.21875 53.421875 \r\nQ 53.21875 48.921875 51.53125 44.890625 \r\nQ 49.859375 40.875 45.40625 35.40625 \r\nQ 44.1875 33.984375 37.640625 27.21875 \r\nQ 31.109375 20.453125 19.1875 8.296875 \r\nz\r\n\" id=\"DejaVuSans-50\"/>\r\n       </defs>\r\n       <use xlink:href=\"#DejaVuSans-50\"/>\r\n       <use x=\"63.623047\" xlink:href=\"#DejaVuSans-48\"/>\r\n      </g>\r\n     </g>\r\n    </g>\r\n    <g id=\"xtick_3\">\r\n     <g id=\"line2d_3\">\r\n      <g>\r\n       <use style=\"stroke:#000000;stroke-width:0.8;\" x=\"114.9882\" xlink:href=\"#m12060bd2bb\" y=\"227.352019\"/>\r\n      </g>\r\n     </g>\r\n     <g id=\"text_3\">\r\n      <!-- 40 -->\r\n      <g transform=\"translate(108.6257 241.950456)scale(0.1 -0.1)\">\r\n       <defs>\r\n        <path d=\"M 37.796875 64.3125 \r\nL 12.890625 25.390625 \r\nL 37.796875 25.390625 \r\nz\r\nM 35.203125 72.90625 \r\nL 47.609375 72.90625 \r\nL 47.609375 25.390625 \r\nL 58.015625 25.390625 \r\nL 58.015625 17.1875 \r\nL 47.609375 17.1875 \r\nL 47.609375 0 \r\nL 37.796875 0 \r\nL 37.796875 17.1875 \r\nL 4.890625 17.1875 \r\nL 4.890625 26.703125 \r\nz\r\n\" id=\"DejaVuSans-52\"/>\r\n       </defs>\r\n       <use xlink:href=\"#DejaVuSans-52\"/>\r\n       <use x=\"63.623047\" xlink:href=\"#DejaVuSans-48\"/>\r\n      </g>\r\n     </g>\r\n    </g>\r\n    <g id=\"xtick_4\">\r\n     <g id=\"line2d_4\">\r\n      <g>\r\n       <use style=\"stroke:#000000;stroke-width:0.8;\" x=\"158.4762\" xlink:href=\"#m12060bd2bb\" y=\"227.352019\"/>\r\n      </g>\r\n     </g>\r\n     <g id=\"text_4\">\r\n      <!-- 60 -->\r\n      <g transform=\"translate(152.1137 241.950456)scale(0.1 -0.1)\">\r\n       <defs>\r\n        <path d=\"M 33.015625 40.375 \r\nQ 26.375 40.375 22.484375 35.828125 \r\nQ 18.609375 31.296875 18.609375 23.390625 \r\nQ 18.609375 15.53125 22.484375 10.953125 \r\nQ 26.375 6.390625 33.015625 6.390625 \r\nQ 39.65625 6.390625 43.53125 10.953125 \r\nQ 47.40625 15.53125 47.40625 23.390625 \r\nQ 47.40625 31.296875 43.53125 35.828125 \r\nQ 39.65625 40.375 33.015625 40.375 \r\nz\r\nM 52.59375 71.296875 \r\nL 52.59375 62.3125 \r\nQ 48.875 64.0625 45.09375 64.984375 \r\nQ 41.3125 65.921875 37.59375 65.921875 \r\nQ 27.828125 65.921875 22.671875 59.328125 \r\nQ 17.53125 52.734375 16.796875 39.40625 \r\nQ 19.671875 43.65625 24.015625 45.921875 \r\nQ 28.375 48.1875 33.59375 48.1875 \r\nQ 44.578125 48.1875 50.953125 41.515625 \r\nQ 57.328125 34.859375 57.328125 23.390625 \r\nQ 57.328125 12.15625 50.6875 5.359375 \r\nQ 44.046875 -1.421875 33.015625 -1.421875 \r\nQ 20.359375 -1.421875 13.671875 8.265625 \r\nQ 6.984375 17.96875 6.984375 36.375 \r\nQ 6.984375 53.65625 15.1875 63.9375 \r\nQ 23.390625 74.21875 37.203125 74.21875 \r\nQ 40.921875 74.21875 44.703125 73.484375 \r\nQ 48.484375 72.75 52.59375 71.296875 \r\nz\r\n\" id=\"DejaVuSans-54\"/>\r\n       </defs>\r\n       <use xlink:href=\"#DejaVuSans-54\"/>\r\n       <use x=\"63.623047\" xlink:href=\"#DejaVuSans-48\"/>\r\n      </g>\r\n     </g>\r\n    </g>\r\n    <g id=\"xtick_5\">\r\n     <g id=\"line2d_5\">\r\n      <g>\r\n       <use style=\"stroke:#000000;stroke-width:0.8;\" x=\"201.9642\" xlink:href=\"#m12060bd2bb\" y=\"227.352019\"/>\r\n      </g>\r\n     </g>\r\n     <g id=\"text_5\">\r\n      <!-- 80 -->\r\n      <g transform=\"translate(195.6017 241.950456)scale(0.1 -0.1)\">\r\n       <defs>\r\n        <path d=\"M 31.78125 34.625 \r\nQ 24.75 34.625 20.71875 30.859375 \r\nQ 16.703125 27.09375 16.703125 20.515625 \r\nQ 16.703125 13.921875 20.71875 10.15625 \r\nQ 24.75 6.390625 31.78125 6.390625 \r\nQ 38.8125 6.390625 42.859375 10.171875 \r\nQ 46.921875 13.96875 46.921875 20.515625 \r\nQ 46.921875 27.09375 42.890625 30.859375 \r\nQ 38.875 34.625 31.78125 34.625 \r\nz\r\nM 21.921875 38.8125 \r\nQ 15.578125 40.375 12.03125 44.71875 \r\nQ 8.5 49.078125 8.5 55.328125 \r\nQ 8.5 64.0625 14.71875 69.140625 \r\nQ 20.953125 74.21875 31.78125 74.21875 \r\nQ 42.671875 74.21875 48.875 69.140625 \r\nQ 55.078125 64.0625 55.078125 55.328125 \r\nQ 55.078125 49.078125 51.53125 44.71875 \r\nQ 48 40.375 41.703125 38.8125 \r\nQ 48.828125 37.15625 52.796875 32.3125 \r\nQ 56.78125 27.484375 56.78125 20.515625 \r\nQ 56.78125 9.90625 50.3125 4.234375 \r\nQ 43.84375 -1.421875 31.78125 -1.421875 \r\nQ 19.734375 -1.421875 13.25 4.234375 \r\nQ 6.78125 9.90625 6.78125 20.515625 \r\nQ 6.78125 27.484375 10.78125 32.3125 \r\nQ 14.796875 37.15625 21.921875 38.8125 \r\nz\r\nM 18.3125 54.390625 \r\nQ 18.3125 48.734375 21.84375 45.5625 \r\nQ 25.390625 42.390625 31.78125 42.390625 \r\nQ 38.140625 42.390625 41.71875 45.5625 \r\nQ 45.3125 48.734375 45.3125 54.390625 \r\nQ 45.3125 60.0625 41.71875 63.234375 \r\nQ 38.140625 66.40625 31.78125 66.40625 \r\nQ 25.390625 66.40625 21.84375 63.234375 \r\nQ 18.3125 60.0625 18.3125 54.390625 \r\nz\r\n\" id=\"DejaVuSans-56\"/>\r\n       </defs>\r\n       <use xlink:href=\"#DejaVuSans-56\"/>\r\n       <use x=\"63.623047\" xlink:href=\"#DejaVuSans-48\"/>\r\n      </g>\r\n     </g>\r\n    </g>\r\n   </g>\r\n   <g id=\"matplotlib.axis_2\">\r\n    <g id=\"ytick_1\">\r\n     <g id=\"line2d_6\">\r\n      <defs>\r\n       <path d=\"M 0 0 \r\nL -3.5 0 \r\n\" id=\"m30e0f8f20c\" style=\"stroke:#000000;stroke-width:0.8;\"/>\r\n      </defs>\r\n      <g>\r\n       <use style=\"stroke:#000000;stroke-width:0.8;\" x=\"26.925\" xlink:href=\"#m30e0f8f20c\" y=\"10.999219\"/>\r\n      </g>\r\n     </g>\r\n     <g id=\"text_6\">\r\n      <!-- 0 -->\r\n      <g transform=\"translate(13.5625 14.798437)scale(0.1 -0.1)\">\r\n       <use xlink:href=\"#DejaVuSans-48\"/>\r\n      </g>\r\n     </g>\r\n    </g>\r\n    <g id=\"ytick_2\">\r\n     <g id=\"line2d_7\">\r\n      <g>\r\n       <use style=\"stroke:#000000;stroke-width:0.8;\" x=\"26.925\" xlink:href=\"#m30e0f8f20c\" y=\"54.487219\"/>\r\n      </g>\r\n     </g>\r\n     <g id=\"text_7\">\r\n      <!-- 20 -->\r\n      <g transform=\"translate(7.2 58.286437)scale(0.1 -0.1)\">\r\n       <use xlink:href=\"#DejaVuSans-50\"/>\r\n       <use x=\"63.623047\" xlink:href=\"#DejaVuSans-48\"/>\r\n      </g>\r\n     </g>\r\n    </g>\r\n    <g id=\"ytick_3\">\r\n     <g id=\"line2d_8\">\r\n      <g>\r\n       <use style=\"stroke:#000000;stroke-width:0.8;\" x=\"26.925\" xlink:href=\"#m30e0f8f20c\" y=\"97.975219\"/>\r\n      </g>\r\n     </g>\r\n     <g id=\"text_8\">\r\n      <!-- 40 -->\r\n      <g transform=\"translate(7.2 101.774437)scale(0.1 -0.1)\">\r\n       <use xlink:href=\"#DejaVuSans-52\"/>\r\n       <use x=\"63.623047\" xlink:href=\"#DejaVuSans-48\"/>\r\n      </g>\r\n     </g>\r\n    </g>\r\n    <g id=\"ytick_4\">\r\n     <g id=\"line2d_9\">\r\n      <g>\r\n       <use style=\"stroke:#000000;stroke-width:0.8;\" x=\"26.925\" xlink:href=\"#m30e0f8f20c\" y=\"141.463219\"/>\r\n      </g>\r\n     </g>\r\n     <g id=\"text_9\">\r\n      <!-- 60 -->\r\n      <g transform=\"translate(7.2 145.262437)scale(0.1 -0.1)\">\r\n       <use xlink:href=\"#DejaVuSans-54\"/>\r\n       <use x=\"63.623047\" xlink:href=\"#DejaVuSans-48\"/>\r\n      </g>\r\n     </g>\r\n    </g>\r\n    <g id=\"ytick_5\">\r\n     <g id=\"line2d_10\">\r\n      <g>\r\n       <use style=\"stroke:#000000;stroke-width:0.8;\" x=\"26.925\" xlink:href=\"#m30e0f8f20c\" y=\"184.951219\"/>\r\n      </g>\r\n     </g>\r\n     <g id=\"text_10\">\r\n      <!-- 80 -->\r\n      <g transform=\"translate(7.2 188.750437)scale(0.1 -0.1)\">\r\n       <use xlink:href=\"#DejaVuSans-56\"/>\r\n       <use x=\"63.623047\" xlink:href=\"#DejaVuSans-48\"/>\r\n      </g>\r\n     </g>\r\n    </g>\r\n   </g>\r\n   <g id=\"patch_3\">\r\n    <path d=\"M 26.925 227.352019 \r\nL 26.925 9.912019 \r\n\" style=\"fill:none;stroke:#000000;stroke-linecap:square;stroke-linejoin:miter;stroke-width:0.8;\"/>\r\n   </g>\r\n   <g id=\"patch_4\">\r\n    <path d=\"M 244.365 227.352019 \r\nL 244.365 9.912019 \r\n\" style=\"fill:none;stroke:#000000;stroke-linecap:square;stroke-linejoin:miter;stroke-width:0.8;\"/>\r\n   </g>\r\n   <g id=\"patch_5\">\r\n    <path d=\"M 26.925 227.352019 \r\nL 244.365 227.352019 \r\n\" style=\"fill:none;stroke:#000000;stroke-linecap:square;stroke-linejoin:miter;stroke-width:0.8;\"/>\r\n   </g>\r\n   <g id=\"patch_6\">\r\n    <path d=\"M 26.925 9.912019 \r\nL 244.365 9.912019 \r\n\" style=\"fill:none;stroke:#000000;stroke-linecap:square;stroke-linejoin:miter;stroke-width:0.8;\"/>\r\n   </g>\r\n  </g>\r\n </g>\r\n <defs>\r\n  <clipPath id=\"pe8f1a2d51d\">\r\n   <rect height=\"217.44\" width=\"217.44\" x=\"26.925\" y=\"9.912019\"/>\r\n  </clipPath>\r\n </defs>\r\n</svg>\r\n",
      "image/png": "[encoded data removed]"
     },
     "metadata": {
      "needs_background": "light"
     }
    }
   ],
   "source": [
    "print(f\"Starting to wait for '{a_model_name_100X100_1000N}' model!\")\n",
    "start_time =  timeit.default_timer()\n",
    "await async_download(a_model_name_100X100_1000N)\n",
    "print(\"{:.2f}\".format(timeit.default_timer() - start_time))"
   ]
  },
  {
   "cell_type": "code",
   "execution_count": null,
   "metadata": {},
   "outputs": [],
   "source": []
  },
  {
   "cell_type": "markdown",
   "metadata": {},
   "source": [
    "---"
   ]
  },
  {
   "cell_type": "markdown",
   "metadata": {},
   "source": [
    "## GET /predict/ : To predict similarity from a trained model\n",
    "Allows to map test input vector to gird nodes i.e. which test input color is closest to which node in the grid.\n",
    "Returns list of (x,y) coordinates of grid nodes which can be used to plot test input over gird plot for visualising/analysing/labelling test input using a trained model."
   ]
  },
  {
   "cell_type": "code",
   "execution_count": 110,
   "metadata": {},
   "outputs": [],
   "source": [
    "def predict(data, my_model_name):\n",
    "    \"\"\"\n",
    "    Examplifies how to send test data for mapping\n",
    "    it to model using '/predict/' endpoint.\n",
    "    \n",
    "    Parameters\n",
    "    ----------\n",
    "    data : numpy.array\n",
    "        Testing items (colors) to be clustered.\n",
    "    \n",
    "    my_model_name : str\n",
    "        Name that identifies model traning.\n",
    "        This string is retured by /atrain/, /train/ endpoints as `operation-location`\n",
    "    \n",
    "    Returns\n",
    "    -------\n",
    "    response : json, dict\n",
    "        Dictionary object containing predicted x,y coordinates (indicies) of grid nodes,\n",
    "        that are closest to testing item.\n",
    "    \"\"\"\n",
    "    payload = {\n",
    "        \"test_data\" : data.tolist(),\n",
    "        \"test_data_shape\" : data.shape,\n",
    "        \"model_name\" : my_model_name\n",
    "        }\n",
    "    response  = req.get(url=f\"{endpoint}/predict/\", data=json.dumps(payload))\n",
    "    return response.json()"
   ]
  },
  {
   "cell_type": "code",
   "execution_count": 111,
   "metadata": {
    "tags": []
   },
   "outputs": [],
   "source": [
    "def plot_predictions(file_bytes:bytes, test_data, predicted_grid_idxs):\n",
    "    \"\"\"\n",
    "    Helper method to plot input data (colours) over trained grid (@weights) using @predicted_grid_idxs.\n",
    "    For anaylsis, index of input data (individual colors) is also plotted.\n",
    "    \n",
    "    Parameters\n",
    "    ---------\n",
    "    file_bytes : bytes\n",
    "        A model's weights file bytes,\n",
    "        which are response of /download/.\n",
    "    \n",
    "    test_data: list, numpy.array \n",
    "        Similar to training data, it is list of 3D colors.\n",
    "    \n",
    "    predicted_grid_idxs : list\n",
    "        Response from /predict/ endpoint.\n",
    "    \n",
    "    \"\"\"\n",
    "    plt.imshow(load_weights(file_bytes))\n",
    "    indicies = np.array(predicted_grid_idxs)\n",
    "    y, x = indicies.T\n",
    "    plt.scatter(x, y, c=test_data, s=40, edgecolors='b')\n",
    "    for i, _xy in enumerate(predicted_grid_idxs):\n",
    "        plt.text(_xy[1],_xy[0], i, ha='left', va=\"top\" )\n",
    "    plt.show()"
   ]
  },
  {
   "cell_type": "markdown",
   "metadata": {},
   "source": [
    "<label style=\"color:#FF4500;\"> <b>NOTE:</b>You can set ```model_name``` to previous async run's model (```a_model_name_100X100_1000N```).</label> <br>\n",
    "<label style=\"color:#FF4500;\"> <b>NOTE:</b>You should set it to (```model_name_10x10_500N```) in case you have skipped async training, model has not YET been trainied (how you know? : if you have run the blocking cell ```await asynchronous_download``` and its execution has not yet finished!). </label>"
   ]
  },
  {
   "cell_type": "code",
   "execution_count": 112,
   "metadata": {},
   "outputs": [],
   "source": [
    "model_name = model_name_10x10_500N \n",
    "# model_name = a_model_name_100X100_1000N\n",
    "model_weights = download(model_name)"
   ]
  },
  {
   "cell_type": "code",
   "execution_count": 113,
   "metadata": {},
   "outputs": [
    {
     "name": "stdout",
     "output_type": "stream",
     "text": [
      "Predicting from 29-03-2021_05h09m59sT_10X10_500N_0.1LR model.\n",
      "[[5, 0], [7, 2], [5, 6], [4, 9], [8, 6], [0, 0], [9, 0], [0, 9], [9, 9], [2, 4]]\n"
     ]
    }
   ],
   "source": [
    "# Getting Predictions\n",
    "print(f\"Predicting from {model_name} model.\")\n",
    "response = predict(data_sample, model_name)\n",
    "predictions = response['predictions']\n",
    "print(predictions)"
   ]
  },
  {
   "cell_type": "markdown",
   "metadata": {},
   "source": [
    "### Remember the input?"
   ]
  },
  {
   "cell_type": "code",
   "execution_count": 114,
   "metadata": {},
   "outputs": [
    {
     "data": {
      "image/png": "[encoded data removed]",
      "text/plain": [
       "<Figure size 432x288 with 1 Axes>"
      ]
     },
     "metadata": {
      "needs_background": "light"
     },
     "output_type": "display_data"
    }
   ],
   "source": [
    "scatter_input_data(data_sample)"
   ]
  },
  {
   "cell_type": "markdown",
   "metadata": {},
   "source": [
    "#### Testing the imput again on the trained grid.\n",
    "#### Here the following, I am scattering the same input vector and we can only see the boundaries as the pixel/node color has been matched with input training-item."
   ]
  },
  {
   "cell_type": "code",
   "execution_count": 115,
   "metadata": {},
   "outputs": [
    {
     "data": {
      "image/png": "[encoded data removed]",
      "text/plain": [
       "<Figure size 432x288 with 1 Axes>"
      ]
     },
     "metadata": {
      "needs_background": "light"
     },
     "output_type": "display_data"
    }
   ],
   "source": [
    "plot_predictions(model_weights, data_sample, predictions)"
   ]
  },
  {
   "cell_type": "markdown",
   "metadata": {},
   "source": [
    "As assumed before, when input data itself is mapped to the grid via predicting, the BMUs stand straight in the middle of respective cluster."
   ]
  },
  {
   "cell_type": "markdown",
   "metadata": {},
   "source": [
    "---\n",
    "---"
   ]
  },
  {
   "cell_type": "markdown",
   "metadata": {},
   "source": [
    "# Optimisations"
   ]
  },
  {
   "cell_type": "markdown",
   "metadata": {},
   "source": [
    "### Rule of Thumb of Optimisations\n",
    "    \n",
    "1. Avoided ```for``` loops for manipluating numpy arrays, calculations.\n",
    "2. Used list comphresenshion instead of ```for``` loop whereever possible.\n",
    "3. Used numpy vector operations such as ```.multiply```, ```.square```, ```.apply_along_axis``` etc were given more precedance over ```for``` loop.\n"
   ]
  },
  {
   "cell_type": "markdown",
   "metadata": {},
   "source": [
    "### What could you do to improve performance?\n",
    "    \n",
    "####  Specific optimisations\n",
    "\n",
    "To improve performance, it was discovered that main target area is executions per iteration. Overall algorithm is in its nature is iterative therefore, following target areas were discovered with possibilities to improve Time Complexity: \n",
    "1. Finding BMU node, where all node weights of grid are compared with current input vector. (`pp_FIND_BMU`)\n",
    "2. Calculating Influence:\n",
    "\t- 2.1 Where all node weights are compared with BMU weights. (`pp_INF_BMU_W`)\n",
    "\t- 2.2 Where all node positions are compared with BMU position. (`pp_INF_BMU_POS`)\n",
    "\n",
    "<label style='color:#FF4500;'><b>When a function is applied to large numpy array and the function calculations are independant of other elements in array, an intuitive way is to partition the large array into chunks and use multiple processes that utilise (multiple) number of CPU cores available to allocate mapping thus parallelising the computation. Later, combine all the result from each process and pass it over.</b> </label>\n"
   ]
  },
  {
   "cell_type": "markdown",
   "metadata": {},
   "source": [
    "### Observations\n",
    "There are essentially following combinations of parallel processing that be applied.\n",
    "1. Parallel Run Type-1 : \n",
    "    - A. when multiprocessing is ON ONLY at `pp_FIND_BMU`.\n",
    "    - B. when multiprocessing is ON ONLY at `pp_INF_BMU_W`.\n",
    "    - C. when multiprocessing is ON ONLY at `pp_INF_BMU_POS`.\n",
    "2. Parallel Run Type-2 :\n",
    "    - A. when multiprocessing is ON at both `pp_FIND_BMU` and `pp_INF_BMU_W`.\n",
    "    - B. when multiprocessing is ON at both `pp_FIND_BMU` and `pp_INF_BMU_POS`.\n",
    "    - C. when multiprocessing is ON at both `pp_INF_BMU_W` and `pp_INF_BMU_POS`.\n",
    "3. Parallel Run Type-3 : when multiprocessing is ON at all `pp_FIND_BMU` and `pp_INF_BMU_W` and `pp_INF_BMU_POS`"
   ]
  },
  {
   "cell_type": "markdown",
   "metadata": {},
   "source": [
    "#### Smaller vs Larger Grid - multiprocessing overhead!\n",
    "<p style='color:#FF4500;'>It was also found that when any type of multiprocessing is applied while training smaller grids like (10x10=100 nodes for 100N) there is more overhead and significant delay as compared to sequential execution. It was also found that multiprocessing is useful in case of large grids which are of order 100x100 or more.</p>"
   ]
  },
  {
   "cell_type": "markdown",
   "metadata": {},
   "source": [
    "---"
   ]
  },
  {
   "cell_type": "markdown",
   "metadata": {},
   "source": [
    "### What does the network look like after 1000 iterations?\n",
    "<div style='color:#FF4500;'>\n",
    "    Yes, the network was significantly slower as both resolution of the grid and iterations are increased 10X than first run.\n",
    "    The input mapped in this higher resolution grid with large iterations, shows clear demarcations of group of classes that exist in input vector. Higher resolution shows intricate relationships among the input feature vectors which makes it much clearer representation than previous low resolution grids.\n",
    "</div>"
   ]
  },
  {
   "cell_type": "markdown",
   "metadata": {},
   "source": [
    "### Sequential execution, for case 100X100 1000N."
   ]
  },
  {
   "cell_type": "markdown",
   "metadata": {},
   "source": [
    "<table style='width:40%; text-align:center'>\n",
    "  <tr>\n",
    "    <th>Type</th>\n",
    "    <th>Average Time</th>\n",
    "  </tr>\n",
    "  <tr>\n",
    "    <td>Dockerised</td>\n",
    "    <td>~ 1-1.5 hours with 4-6 seconds per iteration</td>\n",
    "  </tr>\n",
    "  <tr>\n",
    "    <td>EDIT: Dockerised with Vectorization</td>\n",
    "    <td style=\"color:#FF4500\">~ 24-26 seconds overall </td>\n",
    "  </tr>\n",
    "  \n",
    "  <tr>\n",
    "    <td>Not Dockerised</td>\n",
    "    <td>~ 1.5-3 hours with 9-12 seconds per iteration</td>\n",
    "  </tr>\n",
    "</table>"
   ]
  },
  {
   "cell_type": "markdown",
   "metadata": {},
   "source": [
    "### Using ```multiprocessing```, for case 100X100 1000N.\n",
    "\n",
    "<h4 style='color:#FF4500;'>Dockerised/production envrionment</h4>\n",
    "\n",
    "<table style='width:60%;text-align: center'>\n",
    "  <tr>\n",
    "    <th>Type</th>\n",
    "    <th>Average Time (Dockerised)</th>\n",
    "  </tr>\n",
    "  <tr>\n",
    "    <td>Parallel Run Type 1 (A) - (pp_FIND_BMU)</td>\n",
    "    <td style=\"color:#FF4500\">~ 0.9-1 hours</td>\n",
    "  </tr>\n",
    "  <tr>\n",
    "    <td>Parallel Run Type 1 (B) - (pp_INF_BMU_W)</td>\n",
    "    <td style=\"color:#FF4500\">~ 0.9-1 hours</td>\n",
    "  </tr> \n",
    "   <tr>\n",
    "    <td>Parallel Run Type 1 (C) - (pp_INF_BMU_POS)</td>\n",
    "    <td>~ 1-1.2 hours</td>\n",
    "  </tr>\n",
    "  <tr>\n",
    "      <td>-</td>\n",
    "  </tr>\n",
    "  <tr>\n",
    "    <td>Parallel Run Type 2 (A) - (pp_FIND_BMU and pp_INF_BMU_W)</td>\n",
    "    <td>~ 1.5 hours</td>\n",
    "  </tr>\n",
    "  <tr>\n",
    "    <td>Parallel Run Type 2 (B) - (pp_FIND_BMU and pp_INF_BMU_POS)</td>\n",
    "    <td>more than 2 hours</td>\n",
    "  </tr>\n",
    "  <tr>\n",
    "    <td>Parallel Run Type 2 (C) - (pp_INF_BMU_W and pp_INF_BMU_POS)</td>\n",
    "    <td>more than 3 hours</td>\n",
    "  </tr>\n",
    "  <tr>\n",
    "      <td>-</td>\n",
    "  </tr>\n",
    "  <tr>\n",
    "    <td>Parallel Run Type 3 - (pp_FIND_BMU and pp_INF_BMU_W and pp_INF_BMU_POS)</td>\n",
    "    <td>more than 3 hours</td>\n",
    "  </tr>\n",
    "</table>"
   ]
  },
  {
   "cell_type": "markdown",
   "metadata": {},
   "source": [
    "---"
   ]
  },
  {
   "cell_type": "markdown",
   "metadata": {},
   "source": [
    "<h2 style='color:#FF4500;'>Conclusion on how to improve efficiency of algorithm </h2>\n",
    "\n",
    "- NOTE: ```multiprocessing``` used in the project, means the use of python's inbuilt ```multiprocessing``` module, and specifically using ```Pool``` class to divide numerical numpy calculations to CPU cores.\n",
    "- I found for smaller grids such as 10x10 for x iterations, running the training without using ```multiprocessing``` yeilded quicker results i.e. training sequentially was faster.\n",
    "- Using ```multiprocessing``` \n",
    "    - Total training time during BMU node search (`Parallel Run Type 1 (A) pp_FIND_BMU`) was just shy of an hour (~ 0.95 hours).\n",
    "    - Similar training time in case of `Parallel Run Type 1 (B) pp_INF_BMU_W` as previous.\n",
    "    - `Parallel Run Type 1 (C) pp_INF_BMU_POS` took more time than both previous cases.\n",
    "    - Combination of Type 1 (A, B C) always took more than 1.5 hours\n",
    "    - Lastly, Type 3, where ```multiprocessing``` was used at each target area, takes more 3 hours to finish.\n",
    "\n",
    "\n",
    "<label style='color:#FF4500;'><b> Therefore, to improve from 1-1.5 hours sequential training for 100x100 1000N configuration, I would select ```Parallel Run Type 1 (A)``` or ```(B)``` for ```multiprocessing```. The above were tested on Windows i7 4-core Intel processors. If I would have more resources, I would like to test these configuration on different hardware CPU settings and see what results I get.</b></label>"
   ]
  },
  {
   "cell_type": "markdown",
   "metadata": {},
   "source": [
    "---"
   ]
  },
  {
   "cell_type": "markdown",
   "metadata": {},
   "source": [
    "### Prospective Improvements\n",
    "\n",
    "There are other packages that I have read such as ```Dask```, or ```Ray```, which I would like to try and see any improvements than my current approach. I didn't went on to examine further using these two packages, as not recommeded as per the guidelines for this challenge i.e. to only use numpy and python in-built packages."
   ]
  },
  {
   "cell_type": "markdown",
   "metadata": {},
   "source": [
    "### Algorithm Time Complexity\n",
    "Overall algorithm goes through N iterations O(N), but for each iteration it has to compare BMU for O(S) (Point 1) size of nodes and then calculuate influence adding `O(I)`+`O(I)` (Point 2.1 and 2.2) = `O(N* (S+I_1+I_2))` = `O(M^2)` where `M` is highly influenced by size of grid."
   ]
  },
  {
   "source": [
    "\n",
    "<h1 style='color:#FF4500;'>\n",
    "EDIT : Optimisation :\n",
    "Dockerised with Vectorization WINS\n",
    "<h1>\n",
    "\n"
   ],
   "cell_type": "markdown",
   "metadata": {}
  },
  {
   "cell_type": "markdown",
   "metadata": {},
   "source": [
    "---"
   ]
  },
  {
   "cell_type": "markdown",
   "metadata": {},
   "source": [
    "# Download/View (Saved) Trained Examples"
   ]
  },
  {
   "cell_type": "markdown",
   "metadata": {},
   "source": [
    "# 10 x 10 for 100N"
   ]
  },
  {
   "cell_type": "code",
   "execution_count": 62,
   "metadata": {},
   "outputs": [],
   "source": [
    "model_name = \"10X10_100N\""
   ]
  },
  {
   "cell_type": "code",
   "execution_count": 63,
   "metadata": {
    "tags": []
   },
   "outputs": [
    {
     "data": {
      "image/png": "[encoded data removed]",
      "text/plain": [
       "<Figure size 432x288 with 1 Axes>"
      ]
     },
     "metadata": {
      "needs_background": "light"
     },
     "output_type": "display_data"
    }
   ],
   "source": [
    "model_weights = download(model_name)\n",
    "view(model_weights)"
   ]
  },
  {
   "cell_type": "markdown",
   "metadata": {},
   "source": [
    "# 10 x 10 for 200N"
   ]
  },
  {
   "cell_type": "code",
   "execution_count": 64,
   "metadata": {},
   "outputs": [],
   "source": [
    "model_name = \"10X10_200N\""
   ]
  },
  {
   "cell_type": "code",
   "execution_count": 65,
   "metadata": {},
   "outputs": [
    {
     "data": {
      "image/png": "[encoded data removed]",
      "text/plain": [
       "<Figure size 432x288 with 1 Axes>"
      ]
     },
     "metadata": {
      "needs_background": "light"
     },
     "output_type": "display_data"
    }
   ],
   "source": [
    "model_weights = download(model_name)\n",
    "view(model_weights)"
   ]
  },
  {
   "cell_type": "markdown",
   "metadata": {},
   "source": [
    "# 10 x 10 for 500N"
   ]
  },
  {
   "cell_type": "code",
   "execution_count": 66,
   "metadata": {},
   "outputs": [],
   "source": [
    "model_name = \"10X10_500N\""
   ]
  },
  {
   "cell_type": "code",
   "execution_count": 67,
   "metadata": {},
   "outputs": [
    {
     "data": {
      "image/png": "[encoded data removed]",
      "text/plain": [
       "<Figure size 432x288 with 1 Axes>"
      ]
     },
     "metadata": {
      "needs_background": "light"
     },
     "output_type": "display_data"
    }
   ],
   "source": [
    "model_weights = download(model_name)\n",
    "view(model_weights)"
   ]
  },
  {
   "cell_type": "markdown",
   "metadata": {},
   "source": [
    "# 100 x 100 for 1000N"
   ]
  },
  {
   "cell_type": "code",
   "execution_count": 68,
   "metadata": {},
   "outputs": [],
   "source": [
    "model_name = \"100X100_1000N\""
   ]
  },
  {
   "cell_type": "code",
   "execution_count": 69,
   "metadata": {},
   "outputs": [
    {
     "data": {
      "image/png": "[encoded data removed]",
      "text/plain": [
       "<Figure size 432x288 with 1 Axes>"
      ]
     },
     "metadata": {
      "needs_background": "light"
     },
     "output_type": "display_data"
    }
   ],
   "source": [
    "model_weights = download(model_name)\n",
    "view(model_weights)"
   ]
  },
  {
   "cell_type": "code",
   "execution_count": null,
   "metadata": {},
   "outputs": [],
   "source": []
  },
  {
   "source": [
    "\n"
   ],
   "cell_type": "markdown",
   "metadata": {}
  },
  {
   "cell_type": "code",
   "execution_count": null,
   "metadata": {},
   "outputs": [],
   "source": []
  }
 ],
 "metadata": {
  "kernelspec": {
   "name": "python386jvsc74a57bd093aeb7a2f0fdbc477f6e7e1e914667e37d8d24195b2ad0ec2aba925caa496d3d",
   "display_name": "Python 3.8.6 64-bit ('kohonen': conda)"
  },
  "language_info": {
   "codemirror_mode": {
    "name": "ipython",
    "version": 3
   },
   "file_extension": ".py",
   "mimetype": "text/x-python",
   "name": "python",
   "nbconvert_exporter": "python",
   "pygments_lexer": "ipython3",
   "version": "3.8.6"
  }
 },
 "nbformat": 4,
 "nbformat_minor": 4
}
